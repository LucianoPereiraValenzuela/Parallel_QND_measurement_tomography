{
 "cells": [
  {
   "cell_type": "code",
   "execution_count": 1,
   "id": "3a01cc17-f637-4a2d-bde9-c9a7c3e5fad4",
   "metadata": {},
   "outputs": [
    {
     "data": {
      "text/plain": [
       "'%.2f'"
      ]
     },
     "execution_count": 1,
     "metadata": {},
     "output_type": "execute_result"
    }
   ],
   "source": [
    "from main import *\n",
    "import main as cdt\n",
    "from qiskit.utils import QuantumInstance\n",
    "from qiskit import IBMQ, Aer\n",
    "from qiskit.providers.aer.noise import NoiseModel\n",
    "%precision 2"
   ]
  },
  {
   "cell_type": "code",
   "execution_count": 5,
   "id": "45f725f3-a6c1-496a-be40-42be7a327eef",
   "metadata": {},
   "outputs": [
    {
     "name": "stderr",
     "output_type": "stream",
     "text": [
      "ibmqfactory.load_account:WARNING:2022-03-09 18:31:47,426: Credentials are already in use. The existing account in the session will be replaced.\n"
     ]
    }
   ],
   "source": [
    "IBMQ.load_account()\n",
    "#provider = IBMQ.get_provider(hub='ibm-q-csic', group='internal', project='iff-csic')\n",
    "provider = IBMQ.get_provider(hub='ibm-q', group='open', project='main')\n",
    "backend  = provider.get_backend('ibmq_quito')"
   ]
  },
  {
   "cell_type": "code",
   "execution_count": 6,
   "id": "db643de4-53c1-4e1e-be5d-94429a295a0a",
   "metadata": {},
   "outputs": [
    {
     "data": {
      "application/vnd.jupyter.widget-view+json": {
       "model_id": "694e15f770c44837b4474b8b2484e373",
       "version_major": 2,
       "version_minor": 0
      },
      "text/plain": [
       "VBox(children=(HTML(value=\"<h1 style='color:#ffffff;background-color:#000000;padding-top: 1%;padding-bottom: 1…"
      ]
     },
     "metadata": {},
     "output_type": "display_data"
    },
    {
     "data": {
      "text/plain": [
       "<IBMQBackend('ibmq_quito') from IBMQ(hub='ibm-q', group='open', project='main')>"
      ]
     },
     "execution_count": 6,
     "metadata": {},
     "output_type": "execute_result"
    }
   ],
   "source": [
    "import qiskit.tools.jupyter\n",
    "backend"
   ]
  },
  {
   "cell_type": "code",
   "execution_count": 7,
   "id": "a9870b16-c28b-472a-8736-c52013b26557",
   "metadata": {},
   "outputs": [],
   "source": [
    "shots = 2**10\n",
    "quantum_instance = QuantumInstance( Aer.get_backend('aer_simulator'), shots=shots)\n",
    "resampling = 0"
   ]
  },
  {
   "cell_type": "markdown",
   "id": "fd04c39b",
   "metadata": {},
   "source": [
    "## Gate set tomography"
   ]
  },
  {
   "cell_type": "code",
   "execution_count": 8,
   "id": "b4264a3b",
   "metadata": {},
   "outputs": [],
   "source": [
    "# gate set times \n",
    "# 1q 11.2s\n",
    "# 2q 22.1s\n",
    "# 3q 33.1s"
   ]
  },
  {
   "cell_type": "code",
   "execution_count": 9,
   "id": "cacd11be-b11e-4c02-8758-1ceab983d3a4",
   "metadata": {},
   "outputs": [],
   "source": [
    "gst = tomographic_gate_set_tomography(1)\n",
    "circuits_gst = gst.circuits()\n",
    "results  = quantum_instance.execute( circuits_gst )                                            "
   ]
  },
  {
   "cell_type": "code",
   "execution_count": 12,
   "id": "08017d25",
   "metadata": {},
   "outputs": [],
   "source": [
    "operators_gst = gst.fit( results,resampling=resampling )"
   ]
  },
  {
   "cell_type": "markdown",
   "id": "1dce28ae",
   "metadata": {},
   "source": [
    "## QND Measurement tomography single qubit"
   ]
  },
  {
   "cell_type": "code",
   "execution_count": null,
   "id": "ec333a57",
   "metadata": {},
   "outputs": [],
   "source": [
    "# times\n",
    "# 1q 0.7s\n",
    "# 2q 1.4s\n",
    "# 3q 2.2s"
   ]
  },
  {
   "cell_type": "code",
   "execution_count": 17,
   "id": "6dd01d06-5d03-4322-9307-84bcd897b755",
   "metadata": {},
   "outputs": [],
   "source": [
    "mpt = measurement_process_tomography(1, 3)\n",
    "circuits_mpt = mpt.circuits()\n",
    "results  = quantum_instance.execute( circuits_mpt )"
   ]
  },
  {
   "cell_type": "code",
   "execution_count": 18,
   "id": "025bf2d5-6ea5-4656-bf5c-8fc82bdabe5e",
   "metadata": {},
   "outputs": [],
   "source": [
    "operators_mpt = mpt.fit( results, resampling=resampling )    "
   ]
  },
  {
   "cell_type": "markdown",
   "id": "147cfbc6",
   "metadata": {},
   "source": [
    "## QND measurement tomography two qubits"
   ]
  },
  {
   "cell_type": "code",
   "execution_count": null,
   "id": "ac19107e",
   "metadata": {},
   "outputs": [],
   "source": [
    "# times\n",
    "# 1p 1m 6.8s\n",
    "# 2p 2m 13.2s\n",
    "# 3p 3M 20.9s"
   ]
  },
  {
   "cell_type": "code",
   "execution_count": 23,
   "id": "fdaf66cd-b733-4c4a-830c-c949d70f3d31",
   "metadata": {},
   "outputs": [],
   "source": [
    "mpt = measurement_process_tomography(2, 1)\n",
    "circuits_mpt = mpt.circuits()\n",
    "results  = quantum_instance.execute( circuits_mpt )"
   ]
  },
  {
   "cell_type": "code",
   "execution_count": 24,
   "id": "e943aa6b-3e14-44a9-b82b-7fb2f24f5830",
   "metadata": {},
   "outputs": [],
   "source": [
    "operators_mpt = mpt.fit(results, resampling=resampling, out=1 )"
   ]
  },
  {
   "cell_type": "markdown",
   "id": "1ddf808d",
   "metadata": {},
   "source": [
    "## QND measurement tomography two qubits + gate set tomography"
   ]
  },
  {
   "cell_type": "code",
   "execution_count": null,
   "id": "9ff00981",
   "metadata": {},
   "outputs": [],
   "source": [
    "# time\n",
    "# 1p 1m 6.7s"
   ]
  },
  {
   "cell_type": "code",
   "execution_count": 18,
   "id": "c84168a5",
   "metadata": {},
   "outputs": [],
   "source": [
    "pairs = 1\n",
    "num_qubits = 2*pairs\n",
    "mpt_2 = measurement_process_tomography(2, pairs)\n",
    "gst_2 = tomographic_gate_set_tomography(num_qubits)\n",
    "circuits_mpt_2 = mpt_2.circuits() + gst_2.circuits()\n",
    "results  = quantum_instance.execute( circuits_mpt_2 )"
   ]
  },
  {
   "cell_type": "code",
   "execution_count": 20,
   "id": "34fb9c38",
   "metadata": {},
   "outputs": [],
   "source": [
    "gate_set = gst_2.fit(results)"
   ]
  },
  {
   "cell_type": "code",
   "execution_count": 21,
   "id": "b70713db",
   "metadata": {},
   "outputs": [],
   "source": [
    "states, measurements = gst_2.gateset2spam( gate_set )"
   ]
  },
  {
   "cell_type": "code",
   "execution_count": 22,
   "id": "513afa6c",
   "metadata": {},
   "outputs": [],
   "source": [
    "operators_mpt_2 = mpt_2.fit(results, resampling=resampling, out=1, gate_set=[states, measurements] )"
   ]
  },
  {
   "cell_type": "markdown",
   "id": "076155e9",
   "metadata": {},
   "source": [
    "## Device QND measurement tomography"
   ]
  },
  {
   "cell_type": "code",
   "execution_count": 23,
   "id": "b8d9d353",
   "metadata": {},
   "outputs": [],
   "source": [
    "# time\n",
    "# 5-qubits 3m 31.8s\n",
    "# \n",
    "# currently 5*12s + 5*1s + 2*(1m+7s) = 199s = 3.31m = 3m 19s\n",
    "# optimal   12s + 1s + 2*(1m+7s) = 147s = 2.24m = 2m 15s\n"
   ]
  },
  {
   "cell_type": "code",
   "execution_count": 36,
   "id": "e7d8b2af",
   "metadata": {},
   "outputs": [],
   "source": [
    "# extrapolation 65, in a 8-cores devices\n",
    "\n",
    "# 65q --> 9 loops\n",
    "\n",
    "# 3 groups of  26, 21, 26 = 73 ---> 10 loops\n",
    "#                              ---> 8*3=24 loops\n",
    "\n",
    "# currently  9*12s + 9*1s + 10*(1m+7s)   = 787s  = 13.12m = 13m 7s\n",
    "# optimal    65*12s + 65*1s + 24*(1m+7s) = 2453s = 40.88m = 40m 53s\n"
   ]
  },
  {
   "cell_type": "code",
   "execution_count": 9,
   "id": "da36f715-6fe5-4067-8c48-a63c04f15911",
   "metadata": {},
   "outputs": [],
   "source": [
    "dpmt = device_process_measurement_tomography( backend )\n",
    "circuits_dpmt = dpmt.circuits()\n",
    "results  = quantum_instance.execute( circuits_dpmt )"
   ]
  },
  {
   "cell_type": "code",
   "execution_count": 10,
   "id": "b72571e9",
   "metadata": {},
   "outputs": [],
   "source": [
    "operators_dpmt = dpmt.fit( results, resampling=resampling, paralell=True )"
   ]
  },
  {
   "cell_type": "markdown",
   "id": "4bd4b692",
   "metadata": {},
   "source": []
  },
  {
   "cell_type": "code",
   "execution_count": 12,
   "id": "f6091ee0",
   "metadata": {},
   "outputs": [],
   "source": [
    "parall_qubits = dpmt._parall_qubits"
   ]
  },
  {
   "cell_type": "code",
   "execution_count": 13,
   "id": "c0499942",
   "metadata": {},
   "outputs": [
    {
     "data": {
      "text/plain": [
       "3"
      ]
     },
     "execution_count": 13,
     "metadata": {},
     "output_type": "execute_result"
    }
   ],
   "source": [
    "len(parall_qubits)"
   ]
  },
  {
   "cell_type": "code",
   "execution_count": 16,
   "id": "055c8a60",
   "metadata": {},
   "outputs": [
    {
     "data": {
      "text/plain": [
       "[(1, 2)]"
      ]
     },
     "execution_count": 16,
     "metadata": {},
     "output_type": "execute_result"
    }
   ],
   "source": [
    "parall_qubits[2]"
   ]
  },
  {
   "cell_type": "code",
   "execution_count": null,
   "id": "0efafab9-b5df-4b75-a5ec-1fb01cd2a627",
   "metadata": {},
   "outputs": [],
   "source": []
  },
  {
   "cell_type": "code",
   "execution_count": null,
   "id": "651d6a25-abea-49e6-ace9-92ec3a2e03bf",
   "metadata": {},
   "outputs": [],
   "source": []
  },
  {
   "cell_type": "code",
   "execution_count": null,
   "id": "cd191f6d-2c58-4418-8d6f-63fd697f27e9",
   "metadata": {},
   "outputs": [],
   "source": []
  }
 ],
 "metadata": {
  "kernelspec": {
   "display_name": "Python 3 (ipykernel)",
   "language": "python",
   "name": "python3"
  },
  "language_info": {
   "codemirror_mode": {
    "name": "ipython",
    "version": 3
   },
   "file_extension": ".py",
   "mimetype": "text/x-python",
   "name": "python",
   "nbconvert_exporter": "python",
   "pygments_lexer": "ipython3",
   "version": "3.9.5"
  }
 },
 "nbformat": 4,
 "nbformat_minor": 5
}
