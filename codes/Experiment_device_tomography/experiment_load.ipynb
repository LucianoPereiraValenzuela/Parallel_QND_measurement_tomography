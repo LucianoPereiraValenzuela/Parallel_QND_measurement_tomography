{
 "cells": [
  {
   "cell_type": "code",
   "execution_count": 1,
   "id": "ac6f897a-c5f0-4f7d-b7e7-907de5f24bdc",
   "metadata": {},
   "outputs": [],
   "source": [
    "# -*- coding: utf-8 -*-\n",
    "\"\"\"\n",
    "Created on Mon Nov  8 13:43:01 2021\n",
    "\n",
    "@author: luciano \n",
    "\"\"\"\n",
    "import json\n",
    "import numpy as np\n",
    "from qiskit.utils import QuantumInstance\n",
    "from qiskit import IBMQ, Aer\n",
    "from main import *\n",
    "from qiskit.compiler import transpile\n",
    "from qiskit.providers.ibmq.managed import IBMQJobManager"
   ]
  },
  {
   "cell_type": "code",
   "execution_count": 2,
   "id": "46e08754-07d1-4a08-b591-bdade9f2a03b",
   "metadata": {},
   "outputs": [],
   "source": [
    "IBMQ.load_account()\n",
    "provider = IBMQ.get_provider(hub='ibm-q-csic', group='internal', project='iff-csic')\n",
    "\n",
    "backends = ['ibmq_toronto',\n",
    "           'ibmq_brooklyn',\n",
    "           'ibm_washington'] \n",
    "\n",
    "Job_id = ['69dd2c70afa84d1c956211d5e18bda8f-165274292224788',\n",
    "            'c5d99794bacf452aa568903aa44e0b45-1652743011967393',\n",
    "            'da709bb949a142729f48273e244f4dcb-16527431869026148']\n",
    "\n",
    "# Job_id = ['102db23bbe2045698de92ed62ac319a9-16365048283624237']\n",
    "\n",
    "simulator = Aer.get_backend('aer_simulator')\n",
    "job_manager = IBMQJobManager()"
   ]
  },
  {
   "cell_type": "code",
   "execution_count": 3,
   "id": "450f66c0-e500-4658-a908-a8fcb7a452ed",
   "metadata": {},
   "outputs": [],
   "source": [
    "for j in [0,1,2]:\n",
    "    backend = provider.get_backend(backends[j])\n",
    "    job_id  = Job_id[j]\n",
    "    job = job_manager.retrieve_job_set(job_id,provider)\n",
    "    results = job.results().combine_results()\n",
    "    results_dict = results.to_dict()\n",
    "    results_dict['date'] = str( results_dict['date'] )\n",
    "    with open('results_{}.json'.format(backends[j]), 'w') as f:\n",
    "        json.dump(results_dict, f)"
   ]
  },
  {
   "cell_type": "code",
   "execution_count": null,
   "id": "9b3a626a",
   "metadata": {},
   "outputs": [],
   "source": []
  },
  {
   "cell_type": "code",
   "execution_count": null,
   "id": "196467bb",
   "metadata": {},
   "outputs": [],
   "source": []
  },
  {
   "cell_type": "code",
   "execution_count": null,
   "id": "fd74cc70-b0e8-4f19-b5d6-19a7f0523acf",
   "metadata": {},
   "outputs": [],
   "source": [
    "# choi_single, choi_double, gateset  = dpmt.fit( results, paralell=True, gate_set=True )"
   ]
  },
  {
   "cell_type": "code",
   "execution_count": null,
   "id": "c4b37553-dec0-4023-8ef3-55bacf60e982",
   "metadata": {},
   "outputs": [],
   "source": [
    "# parall_qubits = dpmt._parall_qubits\n",
    "# num_qubits    = dpmt._num_qubits"
   ]
  },
  {
   "cell_type": "code",
   "execution_count": null,
   "id": "b63e275b-3e97-4a58-b6ec-b0b6bab280f8",
   "metadata": {},
   "outputs": [],
   "source": [
    "# quantities = []\n",
    "# for k in range(num_qubits):\n",
    "#     quantities.append( Quantities( choi_single[k][0], choi_single[k][1] ) )\n",
    "\n",
    "# quantities_2 = []\n",
    "# cros_quantities = []\n",
    "# for i in range(len(parall_qubits)):\n",
    "#     for j in range(len(parall_qubits[i])):\n",
    "#         k = parall_qubits[i][j][0]\n",
    "#         l = parall_qubits[i][j][1]\n",
    "#         cros_quantities.append( Cross_Quantities( choi_single[k][0], choi_single[k][1],\n",
    "#                                                   choi_single[l][0], choi_single[l][1],\n",
    "#                                                   choi_double[i][j][0], choi_double[i][j][1]\n",
    "#                                                 )  )\n",
    "#         quantities_2.append( Quantities( choi_double[i][j][0], choi_double[i][j][1] ) )"
   ]
  },
  {
   "cell_type": "code",
   "execution_count": null,
   "id": "66d8899c-06eb-4ae9-95fb-786850075c8a",
   "metadata": {},
   "outputs": [],
   "source": [
    "# plt.plot( quantities, '--o' )\n",
    "# plt.legend( ['F','Q', 'D'] )"
   ]
  },
  {
   "cell_type": "code",
   "execution_count": null,
   "id": "8ca41e43-1011-4c99-a674-229892614f9c",
   "metadata": {},
   "outputs": [],
   "source": [
    "# plt.plot( np.array(cros_quantities), '--o' )\n",
    "# plt.legend( ['cPOVM','cChoi'] )\n",
    "# plt.xticks( [0,1,2,3,4,5], [(1,3),(4,5),(3,5),(0,1),(1,2),(5,6)] );"
   ]
  },
  {
   "cell_type": "code",
   "execution_count": null,
   "id": "3c72608a-b5cd-41b7-adf4-e6aa5a64a156",
   "metadata": {},
   "outputs": [],
   "source": []
  },
  {
   "cell_type": "code",
   "execution_count": null,
   "id": "dfe3f8c9-8e95-4538-9186-64b5dd12dbe3",
   "metadata": {},
   "outputs": [],
   "source": []
  },
  {
   "cell_type": "code",
   "execution_count": null,
   "id": "b4a9b62c-3d74-49c1-88a9-08f6d2abebdb",
   "metadata": {},
   "outputs": [],
   "source": [
    "# choi_single, choi_double, gateset  = dpmt.fit( results, paralell=True, gate_set=False )"
   ]
  },
  {
   "cell_type": "code",
   "execution_count": null,
   "id": "cf274ba8-0bd5-4ba0-909b-1fa778457b45",
   "metadata": {},
   "outputs": [],
   "source": [
    "# quantities = []\n",
    "# for k in range(num_qubits):\n",
    "#     quantities.append( Quantities( choi_single[k][0], choi_single[k][1] ) )\n",
    "\n",
    "# quantities_2 = []\n",
    "# cros_quantities = []\n",
    "# for i in range(len(parall_qubits)):\n",
    "#     for j in range(len(parall_qubits[i])):\n",
    "#         k = parall_qubits[i][j][0]\n",
    "#         l = parall_qubits[i][j][1]\n",
    "#         cros_quantities.append( Cross_Quantities( choi_single[k][0], choi_single[k][1],\n",
    "#                                                   choi_single[l][0], choi_single[l][1],\n",
    "#                                                   choi_double[i][j][0], choi_double[i][j][1]\n",
    "#                                                 )  )\n",
    "#         quantities_2.append( Quantities( choi_double[i][j][0], choi_double[i][j][1] ) )"
   ]
  },
  {
   "cell_type": "code",
   "execution_count": null,
   "id": "d28ca57b-2e2e-4a5b-ba90-2e59ba1705e2",
   "metadata": {},
   "outputs": [],
   "source": [
    "# plt.plot( quantities, '--o' )\n",
    "# plt.legend( ['F','Q', 'D'] )"
   ]
  },
  {
   "cell_type": "code",
   "execution_count": null,
   "id": "cb8a0050-2d2b-4ec2-9580-552b985ce6b9",
   "metadata": {},
   "outputs": [],
   "source": [
    "# plt.plot( np.array(cros_quantities), '--o' )\n",
    "# plt.legend( ['cPOVM','cChoi'] )\n",
    "# plt.xticks( [0,1,2,3,4,5], [(1,3),(4,5),(3,5),(0,1),(1,2),(5,6)] );"
   ]
  },
  {
   "cell_type": "code",
   "execution_count": null,
   "id": "49f05973-2a2b-48f8-b5cb-603493811cbe",
   "metadata": {},
   "outputs": [],
   "source": []
  },
  {
   "cell_type": "code",
   "execution_count": null,
   "id": "4be7149e-8bb0-4d7c-ad8b-3b918d04242c",
   "metadata": {},
   "outputs": [],
   "source": [
    "# p0 = results.get_counts( 'circuit_mpt_{}_{}_{}_{}'.format( 1, num_qubits, 0, 0 ) )\n",
    "# p1 = results.get_counts( 'circuit_mpt_{}_{}_{}_{}'.format( 1, num_qubits, 1, 0 ) )"
   ]
  },
  {
   "cell_type": "code",
   "execution_count": null,
   "id": "9e58ffbf-46e1-404b-b239-f11e5d7d936b",
   "metadata": {},
   "outputs": [],
   "source": [
    "# F = []\n",
    "# Q = []\n",
    "# for j in range(7):\n",
    "\n",
    "#     q0 = dict2array( marginal_counts_dictionary( p0, [j,7+j] ), 2 )\n",
    "#     q1 = dict2array( marginal_counts_dictionary( p1, [j,7+j] ), 2 )\n",
    "\n",
    "#     f0 = dict2array( marginal_counts_dictionary( p0, [j] ), 1 )\n",
    "#     f1 = dict2array( marginal_counts_dictionary( p1, [j] ), 1 )\n",
    "\n",
    "#     q = 0.5* ( q0[0,0] + q1[1,1] )/2**13\n",
    "#     f = 0.5* ( f0[0] + f1[1] )/2**13\n",
    "    \n",
    "#     F.append(f)\n",
    "#     Q.append(q)"
   ]
  },
  {
   "cell_type": "code",
   "execution_count": null,
   "id": "5bbff2b5-46e4-419a-a7aa-369c64dd375a",
   "metadata": {},
   "outputs": [],
   "source": [
    "# plt.plot(F,'-o')\n",
    "# plt.plot(Q,'-o')"
   ]
  },
  {
   "cell_type": "code",
   "execution_count": null,
   "id": "a69e8cbb-1dac-4bf6-ae7a-20d3ff4f5cb7",
   "metadata": {},
   "outputs": [],
   "source": []
  },
  {
   "cell_type": "code",
   "execution_count": null,
   "id": "fa803a2b-31e6-49af-970e-bb4dbeb7aebb",
   "metadata": {},
   "outputs": [],
   "source": [
    "# plt.plot( quantities, '--o' )\n",
    "# plt.plot(F,'-o')\n",
    "# plt.plot(Q,'-o')\n",
    "# plt.legend( ['F','Q', 'D'] )"
   ]
  },
  {
   "cell_type": "code",
   "execution_count": null,
   "id": "7062c491-6b32-464d-a2a0-c5a2338ee9c6",
   "metadata": {},
   "outputs": [],
   "source": []
  }
 ],
 "metadata": {
  "interpreter": {
   "hash": "cda8d9f3af62c123a40166c789fd00a9f9e68094ffd9b43f4f632544febced4e"
  },
  "kernelspec": {
   "display_name": "Python 3.9.5 ('base')",
   "language": "python",
   "name": "python3"
  },
  "language_info": {
   "codemirror_mode": {
    "name": "ipython",
    "version": 3
   },
   "file_extension": ".py",
   "mimetype": "text/x-python",
   "name": "python",
   "nbconvert_exporter": "python",
   "pygments_lexer": "ipython3",
   "version": "3.9.5"
  }
 },
 "nbformat": 4,
 "nbformat_minor": 5
}
