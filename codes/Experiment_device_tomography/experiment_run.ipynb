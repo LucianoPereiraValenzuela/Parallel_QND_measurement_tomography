{
 "cells": [
  {
   "cell_type": "code",
   "execution_count": 1,
   "id": "ac6f897a-c5f0-4f7d-b7e7-907de5f24bdc",
   "metadata": {},
   "outputs": [],
   "source": [
    "# -*- coding: utf-8 -*-\n",
    "\"\"\"\n",
    "Created on Mon Nov  8 13:43:01 2021\n",
    "\n",
    "@author: luciano \n",
    "\"\"\"\n",
    "import numpy as np\n",
    "from qiskit.utils import QuantumInstance\n",
    "from qiskit import IBMQ, Aer\n",
    "from main import *\n",
    "from qiskit.compiler import transpile\n",
    "from qiskit.providers.ibmq.managed import IBMQJobManager"
   ]
  },
  {
   "cell_type": "code",
   "execution_count": 3,
   "id": "46e08754-07d1-4a08-b591-bdade9f2a03b",
   "metadata": {},
   "outputs": [
    {
     "name": "stderr",
     "output_type": "stream",
     "text": [
      "ibmqfactory.load_account:WARNING:2022-05-17 01:14:24,951: Credentials are already in use. The existing account in the session will be replaced.\n"
     ]
    }
   ],
   "source": [
    "IBMQ.load_account()\n",
    "provider = IBMQ.get_provider(hub='ibm-q-csic', group='internal', project='iff-csic')\n",
    "\n",
    "backends = ['ibmq_toronto',\n",
    "           'ibmq_brooklyn',\n",
    "           'ibm_washington'] \n",
    "simulator = Aer.get_backend('aer_simulator')\n",
    "job_manager = IBMQJobManager()"
   ]
  },
  {
   "cell_type": "code",
   "execution_count": 4,
   "id": "450f66c0-e500-4658-a908-a8fcb7a452ed",
   "metadata": {},
   "outputs": [
    {
     "name": "stdout",
     "output_type": "stream",
     "text": [
      "69dd2c70afa84d1c956211d5e18bda8f-165274292224788\n",
      "c5d99794bacf452aa568903aa44e0b45-1652743011967393\n",
      "da709bb949a142729f48273e244f4dcb-16527431869026148\n"
     ]
    }
   ],
   "source": [
    "for qcomp in backends:\n",
    "    \n",
    "#     backend  = provider.get_backend(qcomp)\n",
    "    backend = provider.get_backend(qcomp)\n",
    "    \n",
    "    dpmt = device_process_measurement_tomography( backend )\n",
    "    circuits_dpmt = dpmt.circuits()\n",
    "#     job = simulator.run( transpile(circuits_dpmt,backend) , shots=2**13)\n",
    "    job = job_manager.run( transpile( circuits_dpmt, backend ) , backend=backend, shots=2**13 )\n",
    "    \n",
    "    try:\n",
    "        np.save( backend.name(), np.array(job.job_id(), dtype=object) )\n",
    "        print( job.job_id() )\n",
    "    except:\n",
    "        np.save( backend.name(), np.array(job.job_set_id(), dtype=object) )\n",
    "        print( job.job_set_id() )\n",
    "   "
   ]
  },
  {
   "cell_type": "code",
   "execution_count": 4,
   "id": "e7b624ab-0520-48b6-af20-de7c7346d02c",
   "metadata": {},
   "outputs": [],
   "source": [
    "# results = job.results().combine_results()"
   ]
  },
  {
   "cell_type": "code",
   "execution_count": 5,
   "id": "fd74cc70-b0e8-4f19-b5d6-19a7f0523acf",
   "metadata": {},
   "outputs": [],
   "source": [
    "# operators = dpmt.fit(results, paralell=True)"
   ]
  },
  {
   "cell_type": "code",
   "execution_count": 6,
   "id": "8e39ac03-f839-44f9-b3fa-29a52a03aad9",
   "metadata": {},
   "outputs": [],
   "source": [
    "# operators"
   ]
  },
  {
   "cell_type": "code",
   "execution_count": null,
   "id": "c4b37553-dec0-4023-8ef3-55bacf60e982",
   "metadata": {},
   "outputs": [],
   "source": []
  },
  {
   "cell_type": "code",
   "execution_count": 7,
   "id": "ac5c4388-eb7d-44d2-8f4c-b02d4f88d43d",
   "metadata": {},
   "outputs": [],
   "source": [
    "# 23/02/2022\n",
    "# 7q dc1f47d69ea847738580d320dc62ae4f-16456240490386317\n",
    "# 27q a52e3f27a134450da1db7ced448adffa-16456240903547378\n",
    "# 65q a34d3d43f77d41ecae6fc013d31cd0d2-16456241829443996\n",
    "# 127q 633b89927b8140079dc97ad774dbd92d-16456243293019934"
   ]
  },
  {
   "cell_type": "code",
   "execution_count": 8,
   "id": "b63e275b-3e97-4a58-b6ec-b0b6bab280f8",
   "metadata": {},
   "outputs": [],
   "source": [
    "# 2021\n",
    "#7q   542639f734be450e9ddc3bdffa2f21da-1636392124647574\n",
    "#27q   9b1053cd3b9d44d79ce8124ac8eec4a9-16363921617092857\n",
    "#65q   a98c029d0a684003b5aa783f10caaec4-16363922621417603"
   ]
  },
  {
   "cell_type": "code",
   "execution_count": 9,
   "id": "d28ca57b-2e2e-4a5b-ba90-2e59ba1705e2",
   "metadata": {},
   "outputs": [],
   "source": [
    "#7q   102db23bbe2045698de92ed62ac319a9-16365048283624237\n",
    "#27q   88b49f4f7a924755858d343fb846f5c1-16365048648572884"
   ]
  },
  {
   "cell_type": "code",
   "execution_count": null,
   "id": "b31374ca",
   "metadata": {},
   "outputs": [],
   "source": [
    "#17/05/2022 2022\n",
    "#27q 69dd2c70afa84d1c956211d5e18bda8f-165274292224788\n",
    "#65q c5d99794bacf452aa568903aa44e0b45-1652743011967393\n",
    "#127q da709bb949a142729f48273e244f4dcb-16527431869026148"
   ]
  }
 ],
 "metadata": {
  "interpreter": {
   "hash": "cda8d9f3af62c123a40166c789fd00a9f9e68094ffd9b43f4f632544febced4e"
  },
  "kernelspec": {
   "display_name": "Python 3.9.5 ('base')",
   "language": "python",
   "name": "python3"
  },
  "language_info": {
   "codemirror_mode": {
    "name": "ipython",
    "version": 3
   },
   "file_extension": ".py",
   "mimetype": "text/x-python",
   "name": "python",
   "nbconvert_exporter": "python",
   "pygments_lexer": "ipython3",
   "version": "3.9.5"
  }
 },
 "nbformat": 4,
 "nbformat_minor": 5
}
