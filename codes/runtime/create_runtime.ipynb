{
 "cells": [
  {
   "cell_type": "code",
   "execution_count": 1,
   "metadata": {},
   "outputs": [],
   "source": [
    "def create_runtime( runtime_name, runtime_main_function, filenames, imports ):\n",
    "\n",
    "    import inspect\n",
    "    lines_main_function = inspect.getsource(runtime_main_function)\n",
    "\n",
    "    with open(runtime_name, 'w') as f:\n",
    "        for iters in imports:\n",
    "            f.write(iters+'\\n')\n",
    "        f.write('\\n#####main runtime function\\n')\n",
    "        f.write(lines_main_function)\n",
    "\n",
    "    remove_import = []\n",
    "    remove_import_as = []\n",
    "\n",
    "    for line in filenames:\n",
    "        remove_import.append(  'from '+line[:-3]+' import *'  )\n",
    "        remove_import.append(  'import '+line[:-3]  )\n",
    "        remove_import_as.append(  'import '+line[:-3]+' as'  )\n",
    "\n",
    "    imported_as = []\n",
    "\n",
    "    with open(runtime_name, 'a') as outfile:\n",
    "        for fname in filenames:\n",
    "            outfile.write('\\n#####'+fname+'\\n')\n",
    "            with open(fname) as infile:\n",
    "                for line in infile:\n",
    "                    if not any([ str_remove in line for str_remove in remove_import  ]) :\n",
    "                        for str_remove in imported_as:\n",
    "                            if str_remove+'.' in line:\n",
    "                                line = line.replace(str_remove+'.','')\n",
    "                        outfile.write(line) \n",
    "                    else :\n",
    "                        for iter in remove_import_as:\n",
    "                            if iter in line:\n",
    "                                imported_as.append( line.strip()[-2:] )"
   ]
  },
  {
   "cell_type": "code",
   "execution_count": 2,
   "metadata": {},
   "outputs": [],
   "source": [
    "filenames = [ 'main.py', 'QuantumTomography.py' ] "
   ]
  },
  {
   "cell_type": "code",
   "execution_count": 3,
   "metadata": {},
   "outputs": [],
   "source": [
    "imports = ['import numpy as np',\n",
    "    'from qiskit import transpile',\n",
    "    'from qiskit.providers.ibmq.managed import IBMQJobManager' ,\n",
    "    'from qiskit.providers.aer.noise import NoiseModel' ]"
   ]
  },
  {
   "cell_type": "code",
   "execution_count": 4,
   "metadata": {},
   "outputs": [],
   "source": [
    "def main( backend, user_messenger ):\n",
    "\n",
    "    parall_qubits = [  [(0,1)]\n",
    "                    ]\n",
    "\n",
    "    qndmt = device_process_measurement_tomography( backend, parall_qubits=parall_qubits )\n",
    "    circuits_qndmt = qndmt.circuits()\n",
    "\n",
    "    # job_manager = IBMQJobManager()\n",
    "    # job = job_manager.run( transpile( circuits_qndmt, backend ) , backend=backend, shots=2**13 )\n",
    "\n",
    "    # job_id = job.job_set_id()\n",
    "    \n",
    "    # results = job.results().combine_results()\n",
    "    \n",
    "    n_circuits = len( circuits_qndmt )\n",
    "    n_steps = 1 + n_circuits // 100\n",
    "    circuit_split = n_circuits // n_steps\n",
    "    jobs_id = []\n",
    "    results = []\n",
    "    \n",
    "    for j in range(n_steps):\n",
    "        job = backend.run( transpile( circuits_qndmt, backend ), shots=2**13  )\n",
    "        jobs_id.append( job.job_id )\n",
    "        \n",
    "    results = job.result()\n",
    "\n",
    "    choi_single, choi_double, gateset  = qndmt.fit( results, paralell=True, gate_set=True ) \n",
    "\n",
    "    dict_results = {  \n",
    "                    'choi_single' : choi_single,\n",
    "                    'choi_double' : choi_double,\n",
    "                    'gateset' : gateset\n",
    "                    }\n",
    "\n",
    "    return dict_results"
   ]
  },
  {
   "cell_type": "code",
   "execution_count": 5,
   "metadata": {},
   "outputs": [],
   "source": [
    "create_runtime( 'runtime.py', main, filenames, imports )"
   ]
  },
  {
   "cell_type": "code",
   "execution_count": 6,
   "metadata": {},
   "outputs": [],
   "source": [
    "from runtime import main"
   ]
  },
  {
   "cell_type": "code",
   "execution_count": 7,
   "metadata": {},
   "outputs": [],
   "source": [
    "from qiskit.test.mock import FakeVigo\n",
    "from qiskit.providers.aer import AerSimulator\n",
    "device_backend = FakeVigo()\n",
    "sim_vigo = AerSimulator.from_backend( device_backend )"
   ]
  },
  {
   "cell_type": "code",
   "execution_count": 8,
   "metadata": {},
   "outputs": [],
   "source": [
    "main(sim_vigo,[])"
   ]
  },
  {
   "cell_type": "code",
   "execution_count": 9,
   "metadata": {},
   "outputs": [],
   "source": [
    "from qiskit import IBMQ"
   ]
  },
  {
   "cell_type": "code",
   "execution_count": 10,
   "metadata": {},
   "outputs": [],
   "source": [
    "IBMQ.load_account()\n",
    "provider = IBMQ.get_provider(hub='ibm-q', group='open', project='main')"
   ]
  },
  {
   "cell_type": "code",
   "execution_count": 11,
   "metadata": {},
   "outputs": [],
   "source": [
    "backend = provider.get_backend('ibm_nairobi')"
   ]
  },
  {
   "cell_type": "code",
   "execution_count": 12,
   "metadata": {},
   "outputs": [],
   "source": [
    "meta = {\n",
    "  \"name\": \"QND measurement tomography\",\n",
    "  \"description\": \"QND measurement tomography\",\n",
    "  \"max_execution_time\": 500000\n",
    "}\n",
    "\n",
    "meta[\"Input parameters\"] = [\n",
    "  ]\n",
    "\n",
    "meta['Returns'] = [\n",
    "    {\"name\": \"result\", \"description\": \"Result in a dictionary.\", \"type\": \"dict\"}\n",
    "  ]\n",
    "\n",
    "meta[\"Interim results\"] = [\n",
    "\n",
    "  ]"
   ]
  },
  {
   "cell_type": "code",
   "execution_count": 13,
   "metadata": {},
   "outputs": [],
   "source": [
    "# provider.runtime.upload_program(data='runtime.py', metadata=meta)"
   ]
  },
  {
   "cell_type": "code",
   "execution_count": 14,
   "metadata": {},
   "outputs": [],
   "source": [
    "program_id = 'qnd-measurement-tomography-z7MELYJmR7'\n",
    "provider.runtime.update_program(data='runtime.py', metadata=meta, program_id=program_id)"
   ]
  },
  {
   "cell_type": "code",
   "execution_count": 15,
   "metadata": {},
   "outputs": [
    {
     "name": "stdout",
     "output_type": "stream",
     "text": [
      "qnd-measurement-tomography-z7MELYJmR7:\n",
      "  Name: QND measurement tomography\n",
      "  Description: QND measurement tomography\n",
      "  Creation date: 2022-08-05T17:47:59.701198Z\n",
      "  Update date: 2022-08-09T09:14:04.741581Z\n",
      "  Max execution time: 500000\n",
      "  Input parameters:\n",
      "    none\n",
      "  Interim results:\n",
      "    none\n",
      "  Returns:\n",
      "    none\n"
     ]
    }
   ],
   "source": [
    "prog = provider.runtime.program(program_id)\n",
    "print(prog)"
   ]
  },
  {
   "cell_type": "code",
   "execution_count": 16,
   "metadata": {},
   "outputs": [],
   "source": [
    "options = {'backend_name': backend.name()}"
   ]
  },
  {
   "cell_type": "code",
   "execution_count": 17,
   "metadata": {},
   "outputs": [],
   "source": [
    "inputs = { }"
   ]
  },
  {
   "cell_type": "code",
   "execution_count": 18,
   "metadata": {},
   "outputs": [
    {
     "data": {
      "text/plain": [
       "'cbp2anbtlla56hssi9d0'"
      ]
     },
     "execution_count": 18,
     "metadata": {},
     "output_type": "execute_result"
    }
   ],
   "source": [
    "job = provider.runtime.run(program_id, options=options, inputs=inputs )\n",
    "job.job_id()"
   ]
  },
  {
   "cell_type": "code",
   "execution_count": null,
   "metadata": {},
   "outputs": [],
   "source": []
  }
 ],
 "metadata": {
  "kernelspec": {
   "display_name": "Python 3.9.5 ('base')",
   "language": "python",
   "name": "python3"
  },
  "language_info": {
   "codemirror_mode": {
    "name": "ipython",
    "version": 3
   },
   "file_extension": ".py",
   "mimetype": "text/x-python",
   "name": "python",
   "nbconvert_exporter": "python",
   "pygments_lexer": "ipython3",
   "version": "3.9.5"
  },
  "orig_nbformat": 4,
  "vscode": {
   "interpreter": {
    "hash": "cda8d9f3af62c123a40166c789fd00a9f9e68094ffd9b43f4f632544febced4e"
   }
  }
 },
 "nbformat": 4,
 "nbformat_minor": 2
}
