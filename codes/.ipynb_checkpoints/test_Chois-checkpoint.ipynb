{
 "cells": [
  {
   "cell_type": "code",
   "execution_count": 1,
   "id": "61b3ed1a-f65f-4e37-80f2-1bf01ae3fb43",
   "metadata": {},
   "outputs": [
    {
     "data": {
      "text/plain": [
       "'%.3f'"
      ]
     },
     "execution_count": 1,
     "metadata": {},
     "output_type": "execute_result"
    }
   ],
   "source": [
    "from qiskit.utils import QuantumInstance\n",
    "from qiskit import IBMQ, Aer\n",
    "from main import *\n",
    "import QuantumTomography as qt\n",
    "from time import time\n",
    "%precision 3"
   ]
  },
  {
   "cell_type": "code",
   "execution_count": 2,
   "id": "842fc474-0202-40f0-8d90-f6645164ce33",
   "metadata": {},
   "outputs": [],
   "source": [
    "IBMQ.load_account()\n",
    "provider = IBMQ.get_provider(hub='ibm-q-csic', group='internal', project='iff-csic')\n",
    "backend  = provider.get_backend('ibm_lagos')\n",
    "noise_model = NoiseModel.from_backend(backend)\n",
    "# noise_model = decoherence_noise(T1=5e3, T2=200e3)\n",
    "# quantum_instance = QuantumInstance( Aer.get_backend('aer_simulator'), shots=2**13, noise_model=noise_model )\n",
    "quantum_instance = QuantumInstance( backend, shots=2**13 )"
   ]
  },
  {
   "cell_type": "code",
   "execution_count": 3,
   "id": "9b1a1acb-b22d-4755-81e1-f839c842c200",
   "metadata": {},
   "outputs": [
    {
     "data": {
      "application/vnd.jupyter.widget-view+json": {
       "model_id": "fdd7a9bfcfb643c7a4537bf519246647",
       "version_major": 2,
       "version_minor": 0
      },
      "text/plain": [
       "VBox(children=(HTML(value=\"<h1 style='color:#ffffff;background-color:#000000;padding-top: 1%;padding-bottom: 1…"
      ]
     },
     "metadata": {},
     "output_type": "display_data"
    },
    {
     "data": {
      "text/plain": [
       "<IBMQBackend('ibm_lagos') from IBMQ(hub='ibm-q-csic', group='internal', project='iff-csic')>"
      ]
     },
     "execution_count": 3,
     "metadata": {},
     "output_type": "execute_result"
    }
   ],
   "source": [
    "import qiskit.tools.jupyter\n",
    "backend"
   ]
  },
  {
   "cell_type": "code",
   "execution_count": 4,
   "id": "fa4cfcf5-c5be-45f8-8ca4-6b0259065f02",
   "metadata": {},
   "outputs": [],
   "source": [
    "circs_all, circs_pkg, pkg_idx, parall_qubits = device_process_measurement_tomography_circuits( backend )"
   ]
  },
  {
   "cell_type": "code",
   "execution_count": 5,
   "id": "5dcf1989-4aec-4613-991b-e64f9d70f19d",
   "metadata": {},
   "outputs": [
    {
     "data": {
      "text/plain": [
       "[[(1, 3), (4, 5)], [(3, 5), (0, 1)], [(1, 2), (5, 6)]]"
      ]
     },
     "execution_count": 5,
     "metadata": {},
     "output_type": "execute_result"
    }
   ],
   "source": [
    "parall_qubits"
   ]
  },
  {
   "cell_type": "code",
   "execution_count": 6,
   "id": "93c188aa-4dbb-4c04-a129-f815e577287e",
   "metadata": {},
   "outputs": [],
   "source": [
    "job1 = backend.retrieve_job('616f5990cea63358bd144f6c')\n",
    "job2 = backend.retrieve_job('616f5997dd30e90910e61666')"
   ]
  },
  {
   "cell_type": "code",
   "execution_count": 7,
   "id": "653fff08-ef37-4869-819a-da6dcd5f0e74",
   "metadata": {},
   "outputs": [],
   "source": [
    "results_1 = job1.result()\n",
    "results_2 = job2.result()\n",
    "results   = [results_1,results_2]"
   ]
  },
  {
   "cell_type": "code",
   "execution_count": null,
   "id": "b84d865f-928d-41d0-a3ce-359bbc9c5f35",
   "metadata": {},
   "outputs": [],
   "source": [
    "choi_single, choi_double, gateset  = device_process_measurement_tomography_fitter( results, circs_all, circs_pkg, pkg_idx, parall_qubits, out=1, paralell=True )"
   ]
  },
  {
   "cell_type": "code",
   "execution_count": null,
   "id": "5613dd25-c943-4071-95be-62d3d4226729",
   "metadata": {},
   "outputs": [],
   "source": [
    "num_qubits = len(choi_single)\n",
    "\n",
    "quantities = []\n",
    "for k in range(num_qubits):\n",
    "    quantities.append( Quantities( choi_single[k][0], choi_single[k][1] ) )\n",
    "\n",
    "quantities_2 = []\n",
    "cros_quantities = []\n",
    "for i in range(len(parall_qubits)):\n",
    "    for j in range(len(parall_qubits[i])):\n",
    "        k = parall_qubits[i][j][0]\n",
    "        l = parall_qubits[i][j][1]\n",
    "        cros_quantities.append( Cross_Quantities( choi_single[k][0], choi_single[k][1],\n",
    "                                                  choi_single[l][0], choi_single[l][1],\n",
    "                                                  choi_double[i][j][0], choi_double[i][j][1]\n",
    "                                                )  )\n",
    "        quantities_2.append( Quantities( choi_double[i][j][0], choi_double[i][j][1] ) )"
   ]
  },
  {
   "cell_type": "code",
   "execution_count": null,
   "id": "2954d8c4-bd94-4909-89b3-3617302c58eb",
   "metadata": {},
   "outputs": [],
   "source": [
    "gateset"
   ]
  },
  {
   "cell_type": "code",
   "execution_count": null,
   "id": "6ea16b4f-a401-4f56-b848-a02cdd317fb8",
   "metadata": {},
   "outputs": [],
   "source": [
    "plt.plot( quantities, '--o' )\n",
    "plt.legend( ['F','Q', 'D'] )\n",
    "# plt.savefig( 'fidelities_IBM_7_qubits.pdf', bbox_inches = 'tight' )"
   ]
  },
  {
   "cell_type": "code",
   "execution_count": null,
   "id": "751eec84-f459-40ac-a717-762af4c571fb",
   "metadata": {},
   "outputs": [],
   "source": [
    "plt.plot( np.array(cros_quantities), '--o' )\n",
    "plt.legend( ['cF','cQ'] )\n",
    "plt.xticks( [0,1,2,3,4,5], [(1,3),(4,5),(3,5),(0,1),(1,2),(5,6)] );"
   ]
  },
  {
   "cell_type": "code",
   "execution_count": null,
   "id": "31fbaaf5-e30b-4bf7-93a4-fae69f6fc74e",
   "metadata": {},
   "outputs": [],
   "source": [
    "for j in range(num_qubits):\n",
    "    f = Abs_Bars3D(choi_single[j][1], [0,1e0] ) \n",
    "#     f.savefig( 'choi_qubit_{}'.format(j) , bbox_inches = 'tight' , transparent=True)"
   ]
  },
  {
   "cell_type": "code",
   "execution_count": null,
   "id": "fc3182b1-93b8-4dc2-b082-0332be6d2cfb",
   "metadata": {},
   "outputs": [],
   "source": [
    "for j in range(3):\n",
    "    for k in range(2):\n",
    "        f = Abs_Bars3D(choi_double[j][k][1], [0,1e0], True ) \n",
    "#         f.savefig( 'choi_two_qubits_{}'.format(parall_qubits[j][k]) , bbox_inches = 'tight' , transparent=True)"
   ]
  },
  {
   "cell_type": "code",
   "execution_count": null,
   "id": "a709b92a-fc7b-44b9-896f-e0dced744a66",
   "metadata": {},
   "outputs": [],
   "source": []
  }
 ],
 "metadata": {
  "kernelspec": {
   "display_name": "Python 3 (ipykernel)",
   "language": "python",
   "name": "python3"
  },
  "language_info": {
   "codemirror_mode": {
    "name": "ipython",
    "version": 3
   },
   "file_extension": ".py",
   "mimetype": "text/x-python",
   "name": "python",
   "nbconvert_exporter": "python",
   "pygments_lexer": "ipython3",
   "version": "3.9.5"
  }
 },
 "nbformat": 4,
 "nbformat_minor": 5
}
