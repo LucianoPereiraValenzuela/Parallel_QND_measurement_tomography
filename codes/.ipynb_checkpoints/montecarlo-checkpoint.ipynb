{
 "cells": [
  {
   "cell_type": "code",
   "execution_count": 7,
   "id": "453a1227-c694-4657-9746-688cc4f5a016",
   "metadata": {},
   "outputs": [],
   "source": [
    "from qiskit.utils import QuantumInstance\n",
    "from qiskit import IBMQ, Aer\n",
    "from main import *\n",
    "import QuantumTomography as qt\n",
    "from joblib import Parallel, delayed\n",
    "import json\n",
    "from time import time\n",
    "%precision 6\n",
    "%load_ext memory_profiler"
   ]
  },
  {
   "cell_type": "code",
   "execution_count": 2,
   "id": "8fc16042-10c5-4705-a2e3-6274f50bcb7d",
   "metadata": {},
   "outputs": [],
   "source": [
    "IBMQ.load_account()\n",
    "provider = IBMQ.get_provider(hub='ibm-q-csic', group='internal', project='iff-csic')\n",
    "backend  = provider.get_backend('ibm_lagos')\n",
    "noise_model = NoiseModel.from_backend(backend)\n",
    "# noise_model = decoherence_noise(T1=5e3, T2=200e3)\n",
    "# quantum_instance = QuantumInstance( Aer.get_backend('aer_simulator'), shots=2**13, noise_model=noise_model )\n",
    "quantum_instance = QuantumInstance( backend, shots=2**13 )"
   ]
  },
  {
   "cell_type": "code",
   "execution_count": 3,
   "id": "e082dfc3-ccb1-4d0b-8000-50eb201a154f",
   "metadata": {},
   "outputs": [],
   "source": [
    "import qiskit.tools.jupyter"
   ]
  },
  {
   "cell_type": "code",
   "execution_count": 4,
   "id": "224602d1-95d0-43d3-b7b4-4e7a4b3d9ea8",
   "metadata": {},
   "outputs": [
    {
     "data": {
      "application/vnd.jupyter.widget-view+json": {
       "model_id": "01b397c192634cd5b8a48a6262718d28",
       "version_major": 2,
       "version_minor": 0
      },
      "text/plain": [
       "VBox(children=(HTML(value=\"<h1 style='color:#ffffff;background-color:#000000;padding-top: 1%;padding-bottom: 1…"
      ]
     },
     "metadata": {},
     "output_type": "display_data"
    },
    {
     "data": {
      "text/plain": [
       "<IBMQBackend('ibm_lagos') from IBMQ(hub='ibm-q-csic', group='internal', project='iff-csic')>"
      ]
     },
     "execution_count": 4,
     "metadata": {},
     "output_type": "execute_result"
    }
   ],
   "source": [
    "backend"
   ]
  },
  {
   "cell_type": "code",
   "execution_count": 18,
   "id": "6f6b6e63-10ab-41a2-8bdd-0d1b3cba66bb",
   "metadata": {},
   "outputs": [],
   "source": [
    "circs_all, circs_pkg, pkg_idx, parall_qubits = device_process_measurement_tomography_circuits( backend )"
   ]
  },
  {
   "cell_type": "code",
   "execution_count": 19,
   "id": "6ed6ef2c-8cd0-4ce1-8bfc-124dd3c9db2c",
   "metadata": {},
   "outputs": [],
   "source": [
    "# job1 = backend.retrieve_job('6166be8bab11301434044f70')\n",
    "# job2 = backend.retrieve_job('6166be8ebe575d5acd713a88')\n",
    "job1 = backend.retrieve_job('616f5990cea63358bd144f6c')\n",
    "job2 = backend.retrieve_job('616f5997dd30e90910e61666')"
   ]
  },
  {
   "cell_type": "code",
   "execution_count": 20,
   "id": "496014b0-966a-4342-9737-296716913eef",
   "metadata": {},
   "outputs": [],
   "source": [
    "readout_error, T1 = get_noise( job1 )"
   ]
  },
  {
   "cell_type": "code",
   "execution_count": 21,
   "id": "a0223f7f-4298-451f-8ac6-fc74485e246c",
   "metadata": {},
   "outputs": [],
   "source": [
    "results_1 = job1.result()\n",
    "results_2 = job2.result()\n",
    "results   = [results_1,results_2]"
   ]
  },
  {
   "cell_type": "code",
   "execution_count": 22,
   "id": "c42b4d5f-361b-4b63-a0ed-e51021ddc66d",
   "metadata": {},
   "outputs": [],
   "source": [
    "mc = 8"
   ]
  },
  {
   "cell_type": "code",
   "execution_count": 23,
   "id": "34f88863-9bcf-4f66-abab-ee0523f5e909",
   "metadata": {},
   "outputs": [],
   "source": [
    "def fun():\n",
    "    choi_single, choi_double, gateset  = device_process_measurement_tomography_fitter( results, circs_all, circs_pkg, pkg_idx, out=1, resampling=2**10, paralell=False )\n",
    "    num_qubits = len(choi_single)\n",
    "    \n",
    "    quantities = []\n",
    "    for k in range(num_qubits):\n",
    "        quantities.append( Quantities( choi_single[k][0], choi_single[k][1] ) )\n",
    "    \n",
    "    quantities_2 = []\n",
    "    cros_quantities = []\n",
    "    for i in range(len(parall_qubits)):\n",
    "        for j in range(len(parall_qubits[i])):\n",
    "            k = parall_qubits[i][j][0]\n",
    "            l = parall_qubits[i][j][1]\n",
    "            cros_quantities.append( Cross_Quantities( choi_single[k][0], choi_single[k][1],\n",
    "                                                      choi_single[l][0], choi_single[l][1],\n",
    "                                                      choi_double[i][j][0], choi_double[i][j][1]\n",
    "                                                    )  )\n",
    "            quantities_2.append( Quantities( choi_double[i][j][0], choi_double[i][j][1] ) )\n",
    "    \n",
    "    return quantities, quantities_2, cros_quantities"
   ]
  },
  {
   "cell_type": "code",
   "execution_count": null,
   "id": "e0b8324f-0877-4ef4-a2ca-5f8ef913d344",
   "metadata": {},
   "outputs": [],
   "source": [
    "# t1 = time()\n",
    "# datos = Parallel(n_jobs=-1)( delayed( fun )() for _ in range(mc) ) \n",
    "# t2 = time()\n",
    "# print(t2-t1)"
   ]
  },
  {
   "cell_type": "code",
   "execution_count": null,
   "id": "b1def78f-14ed-4f9c-9173-2b7b87468ee4",
   "metadata": {},
   "outputs": [],
   "source": [
    "np.save( 'datos_montecarlo', np.array( datos, dtype=object ) )"
   ]
  },
  {
   "cell_type": "code",
   "execution_count": null,
   "id": "64551ac2-d29a-4a03-8d4f-4bb66b0cd536",
   "metadata": {},
   "outputs": [],
   "source": [
    "q1s = []\n",
    "q2s = []\n",
    "q3s = []\n",
    "for d in datos:\n",
    "    q1s.append( d[0] )\n",
    "    q2s.append( d[1] )\n",
    "    q3s.append( d[2] ) "
   ]
  },
  {
   "cell_type": "code",
   "execution_count": null,
   "id": "56448cd8-25c5-4a9b-ad41-f244f98f123d",
   "metadata": {},
   "outputs": [],
   "source": [
    "q1_mean = np.mean( q1s, axis=0 )\n",
    "q1_std  = np.std( q1s, axis=0 )\n",
    "q2_mean = np.mean( q2s, axis=0 )\n",
    "q2_std  = np.std( q2s, axis=0 )\n",
    "q3_mean = np.mean( q3s, axis=0 )\n",
    "q3_std  = np.std( q3s, axis=0 )"
   ]
  },
  {
   "cell_type": "code",
   "execution_count": null,
   "id": "870af483-e3f8-4eff-b886-3aec28729231",
   "metadata": {},
   "outputs": [],
   "source": [
    "for k in range(3):\n",
    "    plt.errorbar( x=range(7), y=q1_mean[:,k], yerr=q1_std[:,k], capsize=5, fmt='--o' )\n",
    "plt.legend( ['F','Q', 'D'] )"
   ]
  },
  {
   "cell_type": "code",
   "execution_count": null,
   "id": "68d8dac7-d3a0-42e2-acbd-44d5113cb491",
   "metadata": {},
   "outputs": [],
   "source": [
    "readout_error"
   ]
  },
  {
   "cell_type": "code",
   "execution_count": null,
   "id": "041bcb31-2304-48a3-892f-e3e57901832b",
   "metadata": {},
   "outputs": [],
   "source": [
    "T1"
   ]
  },
  {
   "cell_type": "code",
   "execution_count": null,
   "id": "6b8275f0-bb16-4903-981e-565f5f8cb51c",
   "metadata": {},
   "outputs": [],
   "source": [
    "for k in range(3):\n",
    "    plt.errorbar( x=range(6), y=q2_mean[:,k], yerr=q2_std[:,k], capsize=5, fmt='--o' )\n",
    "plt.legend( ['F','Q', 'D'] )"
   ]
  },
  {
   "cell_type": "code",
   "execution_count": null,
   "id": "c14946d2-e828-4795-b9d7-e8c4bf98f063",
   "metadata": {},
   "outputs": [],
   "source": [
    "q2_mean"
   ]
  },
  {
   "cell_type": "code",
   "execution_count": null,
   "id": "f675ada7-6085-482a-b50d-01db2b8ff14e",
   "metadata": {},
   "outputs": [],
   "source": [
    "q2_std"
   ]
  },
  {
   "cell_type": "code",
   "execution_count": null,
   "id": "f1623921-3ed9-4e55-bb63-0477f8ee5671",
   "metadata": {},
   "outputs": [],
   "source": [
    "parall_qubits"
   ]
  },
  {
   "cell_type": "code",
   "execution_count": null,
   "id": "36c63eef-2c8c-4267-a70c-c3203b8aa655",
   "metadata": {},
   "outputs": [],
   "source": [
    "for k in range(2):\n",
    "    plt.errorbar( x=range(6), y=q3_mean[:,k], yerr=q3_std[:,k], capsize=5, fmt='--o' )\n",
    "plt.legend( ['cF','cQ'] )"
   ]
  },
  {
   "cell_type": "code",
   "execution_count": null,
   "id": "d3cf0433-781e-4158-bd6a-2ef3a2d90b3e",
   "metadata": {},
   "outputs": [],
   "source": [
    "parall_qubits"
   ]
  },
  {
   "cell_type": "code",
   "execution_count": null,
   "id": "9dc769ac-ec47-41aa-ab4c-7d222eb85f34",
   "metadata": {},
   "outputs": [],
   "source": []
  },
  {
   "cell_type": "code",
   "execution_count": 8,
   "id": "dda7611e-b17a-4c34-becf-f9523ab8ae42",
   "metadata": {},
   "outputs": [],
   "source": [
    "def gun():\n",
    "    y = 2\n",
    "    x = 4\n",
    "    z = x+y\n",
    "    return z"
   ]
  },
  {
   "cell_type": "code",
   "execution_count": null,
   "id": "b29685ea-818f-4244-bbc1-daa65dc71a7f",
   "metadata": {},
   "outputs": [],
   "source": []
  },
  {
   "cell_type": "code",
   "execution_count": null,
   "id": "3916c3fc-1a7e-4364-b01f-2512175998b4",
   "metadata": {},
   "outputs": [],
   "source": []
  },
  {
   "cell_type": "code",
   "execution_count": null,
   "id": "c81eb64a-9c48-44ae-ab67-8c6362595215",
   "metadata": {},
   "outputs": [],
   "source": []
  }
 ],
 "metadata": {
  "kernelspec": {
   "display_name": "Python 3 (ipykernel)",
   "language": "python",
   "name": "python3"
  },
  "language_info": {
   "codemirror_mode": {
    "name": "ipython",
    "version": 3
   },
   "file_extension": ".py",
   "mimetype": "text/x-python",
   "name": "python",
   "nbconvert_exporter": "python",
   "pygments_lexer": "ipython3",
   "version": "3.9.5"
  }
 },
 "nbformat": 4,
 "nbformat_minor": 5
}
