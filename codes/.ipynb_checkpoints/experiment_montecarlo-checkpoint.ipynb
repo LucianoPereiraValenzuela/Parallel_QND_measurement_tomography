{
 "cells": [
  {
   "cell_type": "code",
   "execution_count": 8,
   "id": "ac6f897a-c5f0-4f7d-b7e7-907de5f24bdc",
   "metadata": {},
   "outputs": [],
   "source": [
    "# -*- coding: utf-8 -*-\n",
    "\"\"\"\n",
    "Created on Mon Nov  8 13:43:01 2021\n",
    "\n",
    "@author: luciano \n",
    "\"\"\"\n",
    "import numpy as np\n",
    "from qiskit.utils import QuantumInstance\n",
    "from qiskit import IBMQ, Aer\n",
    "from main import *\n",
    "from qiskit.compiler import transpile\n",
    "from qiskit.providers.ibmq.managed import IBMQJobManager\n",
    "from joblib import Parallel, delayed\n",
    "from time import time"
   ]
  },
  {
   "cell_type": "code",
   "execution_count": 2,
   "id": "46e08754-07d1-4a08-b591-bdade9f2a03b",
   "metadata": {},
   "outputs": [],
   "source": [
    "IBMQ.load_account()\n",
    "provider = IBMQ.get_provider(hub='ibm-q-csic', group='internal', project='iff-csic')\n",
    "\n",
    "backends = ['ibmq_casablanca',\n",
    "            'ibmq_toronto',\n",
    "           'ibmq_brooklyn'] \n",
    "\n",
    "#Job_id = ['542639f734be450e9ddc3bdffa2f21da-1636392124647574',\n",
    "#            '9b1053cd3b9d44d79ce8124ac8eec4a9-16363921617092857',\n",
    "#            'a98c029d0a684003b5aa783f10caaec4-16363922621417603']\n",
    "\n",
    "Job_id = ['102db23bbe2045698de92ed62ac319a9-16365048283624237']\n",
    "\n",
    "qasm     = provider.get_backend('ibmq_qasm_simulator')\n",
    "simulator = Aer.get_backend('aer_simulator')\n",
    "job_manager = IBMQJobManager()"
   ]
  },
  {
   "cell_type": "code",
   "execution_count": 3,
   "id": "450f66c0-e500-4658-a908-a8fcb7a452ed",
   "metadata": {},
   "outputs": [],
   "source": [
    "for j in [0]:\n",
    "    backend = provider.get_backend(backends[j])\n",
    "    job_id  = Job_id[j]\n",
    "    dpmt = device_process_measurement_tomography( backend )\n",
    "    circuits_dpmt = dpmt.circuits()\n",
    "    job = job_manager.retrieve_job_set(job_id,provider)"
   ]
  },
  {
   "cell_type": "code",
   "execution_count": 4,
   "id": "e7b624ab-0520-48b6-af20-de7c7346d02c",
   "metadata": {},
   "outputs": [],
   "source": [
    "results = job.results().combine_results()"
   ]
  },
  {
   "cell_type": "code",
   "execution_count": 6,
   "id": "b63e275b-3e97-4a58-b6ec-b0b6bab280f8",
   "metadata": {},
   "outputs": [],
   "source": [
    "def function_montecarlo(idex):\n",
    "    \n",
    "    choi_single, choi_double, gateset  = dpmt.fit( results, paralell=False, gate_set=True, resampling=2**13 )\n",
    "    parall_qubits = dpmt._parall_qubits\n",
    "    num_qubits    = dpmt._num_qubits\n",
    "    quantities = []\n",
    "    for k in range(num_qubits):\n",
    "        quantities.append( Quantities( choi_single[k][0], choi_single[k][1] ) )\n",
    "\n",
    "    quantities_2 = []\n",
    "    cros_quantities = []\n",
    "    for i in range(len(parall_qubits)):\n",
    "        for j in range(len(parall_qubits[i])):\n",
    "            k = parall_qubits[i][j][0]\n",
    "            l = parall_qubits[i][j][1]\n",
    "            cros_quantities.append( Cross_Quantities( choi_single[k][0], choi_single[k][1],\n",
    "                                                      choi_single[l][0], choi_single[l][1],\n",
    "                                                      choi_double[i][j][0], choi_double[i][j][1]\n",
    "                                                    )  )\n",
    "            quantities_2.append( Quantities( choi_double[i][j][0], choi_double[i][j][1] ) )\n",
    "        \n",
    "    np.save( 'datos_mc_{}'.format(idex), np.array([ quantities, quantities_2, cros_quantities ], dtype=object)  )\n",
    "            \n",
    "    return [ quantities, quantities_2, cros_quantities  ]"
   ]
  },
  {
   "cell_type": "code",
   "execution_count": 10,
   "id": "dfe3f8c9-8e95-4538-9186-64b5dd12dbe3",
   "metadata": {},
   "outputs": [
    {
     "name": "stdout",
     "output_type": "stream",
     "text": [
      "558.2008113861084\n"
     ]
    }
   ],
   "source": [
    "mc = 4\n",
    "t1 = time()\n",
    "datos = Parallel(n_jobs=-1)( delayed( function_montecarlo )(j) for j in range(mc) ) \n",
    "t2 = time()\n",
    "print(t2-t1)"
   ]
  },
  {
   "cell_type": "code",
   "execution_count": 11,
   "id": "7062c491-6b32-464d-a2a0-c5a2338ee9c6",
   "metadata": {},
   "outputs": [
    {
     "data": {
      "text/plain": [
       "100"
      ]
     },
     "execution_count": 11,
     "metadata": {},
     "output_type": "execute_result"
    }
   ],
   "source": []
  },
  {
   "cell_type": "code",
   "execution_count": null,
   "id": "b830ecec-ff9e-4d1a-9293-4572c9e6dcc4",
   "metadata": {},
   "outputs": [],
   "source": []
  }
 ],
 "metadata": {
  "kernelspec": {
   "display_name": "Python 3 (ipykernel)",
   "language": "python",
   "name": "python3"
  },
  "language_info": {
   "codemirror_mode": {
    "name": "ipython",
    "version": 3
   },
   "file_extension": ".py",
   "mimetype": "text/x-python",
   "name": "python",
   "nbconvert_exporter": "python",
   "pygments_lexer": "ipython3",
   "version": "3.9.5"
  }
 },
 "nbformat": 4,
 "nbformat_minor": 5
}
