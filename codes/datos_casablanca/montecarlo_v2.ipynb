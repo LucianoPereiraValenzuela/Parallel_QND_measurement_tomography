{
 "cells": [
  {
   "cell_type": "code",
   "execution_count": 1,
   "id": "453a1227-c694-4657-9746-688cc4f5a016",
   "metadata": {},
   "outputs": [
    {
     "data": {
      "text/plain": [
       "'%.6f'"
      ]
     },
     "execution_count": 1,
     "metadata": {},
     "output_type": "execute_result"
    }
   ],
   "source": [
    "from qiskit.utils import QuantumInstance\n",
    "from qiskit import IBMQ, Aer\n",
    "from main_v2 import *\n",
    "import QuantumTomography as qt\n",
    "from joblib import Parallel, delayed\n",
    "import json\n",
    "from time import time\n",
    "%precision 6"
   ]
  },
  {
   "cell_type": "code",
   "execution_count": 2,
   "id": "8fc16042-10c5-4705-a2e3-6274f50bcb7d",
   "metadata": {},
   "outputs": [],
   "source": [
    "IBMQ.load_account()\n",
    "provider = IBMQ.get_provider(hub='ibm-q-csic', group='internal', project='iff-csic')\n",
    "backend  = provider.get_backend('ibm_lagos')\n",
    "noise_model = NoiseModel.from_backend(backend)\n",
    "# noise_model = decoherence_noise(T1=5e3, T2=200e3)\n",
    "# quantum_instance = QuantumInstance( Aer.get_backend('aer_simulator'), shots=2**13, noise_model=noise_model )\n",
    "quantum_instance = QuantumInstance( backend, shots=2**13 )"
   ]
  },
  {
   "cell_type": "code",
   "execution_count": 3,
   "id": "e082dfc3-ccb1-4d0b-8000-50eb201a154f",
   "metadata": {},
   "outputs": [],
   "source": [
    "import qiskit.tools.jupyter"
   ]
  },
  {
   "cell_type": "code",
   "execution_count": 4,
   "id": "224602d1-95d0-43d3-b7b4-4e7a4b3d9ea8",
   "metadata": {},
   "outputs": [
    {
     "data": {
      "application/vnd.jupyter.widget-view+json": {
       "model_id": "d0c88c7681cd4fc99aabc48c8cc32f76",
       "version_major": 2,
       "version_minor": 0
      },
      "text/plain": [
       "VBox(children=(HTML(value=\"<h1 style='color:#ffffff;background-color:#000000;padding-top: 1%;padding-bottom: 1…"
      ]
     },
     "metadata": {},
     "output_type": "display_data"
    },
    {
     "data": {
      "text/plain": [
       "<IBMQBackend('ibm_lagos') from IBMQ(hub='ibm-q-csic', group='internal', project='iff-csic')>"
      ]
     },
     "execution_count": 4,
     "metadata": {},
     "output_type": "execute_result"
    }
   ],
   "source": [
    "backend"
   ]
  },
  {
   "cell_type": "code",
   "execution_count": 5,
   "id": "6f6b6e63-10ab-41a2-8bdd-0d1b3cba66bb",
   "metadata": {},
   "outputs": [],
   "source": [
    "dpmt = device_process_measurement_tomography( backend )"
   ]
  },
  {
   "cell_type": "code",
   "execution_count": 6,
   "id": "a1073094-6f22-4859-9bfc-e59cdfed3f4b",
   "metadata": {},
   "outputs": [],
   "source": [
    "circs_pkg = dpmt.circuits()"
   ]
  },
  {
   "cell_type": "code",
   "execution_count": 7,
   "id": "6ed6ef2c-8cd0-4ce1-8bfc-124dd3c9db2c",
   "metadata": {},
   "outputs": [],
   "source": [
    "# job1 = backend.retrieve_job('6166be8bab11301434044f70')\n",
    "# job2 = backend.retrieve_job('6166be8ebe575d5acd713a88')\n",
    "job1 = backend.retrieve_job('616f5990cea63358bd144f6c')\n",
    "job2 = backend.retrieve_job('616f5997dd30e90910e61666')"
   ]
  },
  {
   "cell_type": "code",
   "execution_count": 8,
   "id": "496014b0-966a-4342-9737-296716913eef",
   "metadata": {},
   "outputs": [],
   "source": [
    "readout_error, T1 = get_noise( job1 )"
   ]
  },
  {
   "cell_type": "code",
   "execution_count": 9,
   "id": "a0223f7f-4298-451f-8ac6-fc74485e246c",
   "metadata": {},
   "outputs": [],
   "source": [
    "results_1 = job1.result()\n",
    "results_2 = job2.result()\n",
    "results   = [results_1,results_2]"
   ]
  },
  {
   "cell_type": "code",
   "execution_count": 10,
   "id": "c42b4d5f-361b-4b63-a0ed-e51021ddc66d",
   "metadata": {},
   "outputs": [],
   "source": [
    "mc = 8"
   ]
  },
  {
   "cell_type": "code",
   "execution_count": 11,
   "id": "34f88863-9bcf-4f66-abab-ee0523f5e909",
   "metadata": {},
   "outputs": [],
   "source": [
    "def fun():\n",
    "    choi_single, choi_double, gateset  = dpmt.fit( results, resampling=2**10, paralell=False )\n",
    "    parall_qubits = dpmt._parall_qubits\n",
    "    num_qubits = dpmt._num_qubits\n",
    "    \n",
    "    quantities = []\n",
    "    for k in range(num_qubits):\n",
    "        quantities.append( Quantities( choi_single[k][0], choi_single[k][1] ) )\n",
    "    \n",
    "    quantities_2 = []\n",
    "    cros_quantities = []\n",
    "    for i in range(len(parall_qubits)):\n",
    "        for j in range(len(parall_qubits[i])):\n",
    "            k = parall_qubits[i][j][0]\n",
    "            l = parall_qubits[i][j][1]\n",
    "            cros_quantities.append( Cross_Quantities( choi_single[k][0], choi_single[k][1],\n",
    "                                                      choi_single[l][0], choi_single[l][1],\n",
    "                                                      choi_double[i][j][0], choi_double[i][j][1]\n",
    "                                                    )  )\n",
    "            quantities_2.append( Quantities( choi_double[i][j][0], choi_double[i][j][1] ) )\n",
    "    \n",
    "    return quantities, quantities_2, cros_quantities"
   ]
  },
  {
   "cell_type": "code",
   "execution_count": 12,
   "id": "e0b8324f-0877-4ef4-a2ca-5f8ef913d344",
   "metadata": {},
   "outputs": [
    {
     "name": "stdout",
     "output_type": "stream",
     "text": [
      "302.024685382843\n"
     ]
    }
   ],
   "source": [
    "t1 = time()\n",
    "datos = Parallel(n_jobs=-1)( delayed( fun )() for _ in range(mc) ) \n",
    "t2 = time()\n",
    "print(t2-t1)"
   ]
  },
  {
   "cell_type": "code",
   "execution_count": 13,
   "id": "b1def78f-14ed-4f9c-9173-2b7b87468ee4",
   "metadata": {},
   "outputs": [],
   "source": [
    "np.save( 'datos_montecarlo', np.array( datos, dtype=object ) )"
   ]
  },
  {
   "cell_type": "code",
   "execution_count": 14,
   "id": "64551ac2-d29a-4a03-8d4f-4bb66b0cd536",
   "metadata": {},
   "outputs": [],
   "source": [
    "q1s = []\n",
    "q2s = []\n",
    "q3s = []\n",
    "for d in datos:\n",
    "    q1s.append( d[0] )\n",
    "    q2s.append( d[1] )\n",
    "    q3s.append( d[2] ) "
   ]
  },
  {
   "cell_type": "code",
   "execution_count": 15,
   "id": "56448cd8-25c5-4a9b-ad41-f244f98f123d",
   "metadata": {},
   "outputs": [],
   "source": [
    "q1_mean = np.mean( q1s, axis=0 )\n",
    "q1_std  = np.std( q1s, axis=0 )\n",
    "q2_mean = np.mean( q2s, axis=0 )\n",
    "q2_std  = np.std( q2s, axis=0 )\n",
    "q3_mean = np.mean( q3s, axis=0 )\n",
    "q3_std  = np.std( q3s, axis=0 )"
   ]
  },
  {
   "cell_type": "code",
   "execution_count": 16,
   "id": "870af483-e3f8-4eff-b886-3aec28729231",
   "metadata": {},
   "outputs": [
    {
     "data": {
      "text/plain": [
       "<matplotlib.legend.Legend at 0x259c6203d90>"
      ]
     },
     "execution_count": 16,
     "metadata": {},
     "output_type": "execute_result"
    },
    {
     "data": {
      "image/png": "[encoded data removed]",
      "text/plain": [
       "<Figure size 432x288 with 1 Axes>"
      ]
     },
     "metadata": {
      "needs_background": "light"
     },
     "output_type": "display_data"
    }
   ],
   "source": [
    "for k in range(3):\n",
    "    plt.errorbar( x=range(7), y=q1_mean[:,k], yerr=q1_std[:,k], capsize=5, fmt='--o' )\n",
    "plt.legend( ['F','Q', 'D'] )"
   ]
  },
  {
   "cell_type": "code",
   "execution_count": 17,
   "id": "68d8dac7-d3a0-42e2-acbd-44d5113cb491",
   "metadata": {},
   "outputs": [
    {
     "data": {
      "text/plain": [
       "[0.006800, 0.012600, 0.008800, 0.012200, 0.008900, 0.033900, 0.006800]"
      ]
     },
     "execution_count": 17,
     "metadata": {},
     "output_type": "execute_result"
    }
   ],
   "source": [
    "readout_error"
   ]
  },
  {
   "cell_type": "code",
   "execution_count": 18,
   "id": "041bcb31-2304-48a3-892f-e3e57901832b",
   "metadata": {},
   "outputs": [
    {
     "data": {
      "text/plain": [
       "[0.000113, 0.000112, 0.000183, 0.000237, 0.000101, 0.000065, 0.000179]"
      ]
     },
     "execution_count": 18,
     "metadata": {},
     "output_type": "execute_result"
    }
   ],
   "source": [
    "T1"
   ]
  },
  {
   "cell_type": "code",
   "execution_count": 19,
   "id": "6b8275f0-bb16-4903-981e-565f5f8cb51c",
   "metadata": {},
   "outputs": [
    {
     "data": {
      "text/plain": [
       "<matplotlib.legend.Legend at 0x259c6941cd0>"
      ]
     },
     "execution_count": 19,
     "metadata": {},
     "output_type": "execute_result"
    },
    {
     "data": {
      "image/png": "[encoded data removed]",
      "text/plain": [
       "<Figure size 432x288 with 1 Axes>"
      ]
     },
     "metadata": {
      "needs_background": "light"
     },
     "output_type": "display_data"
    }
   ],
   "source": [
    "for k in range(3):\n",
    "    plt.errorbar( x=range(6), y=q2_mean[:,k], yerr=q2_std[:,k], capsize=5, fmt='--o' )\n",
    "plt.legend( ['F','Q', 'D'] )"
   ]
  },
  {
   "cell_type": "code",
   "execution_count": 20,
   "id": "c14946d2-e828-4795-b9d7-e8c4bf98f063",
   "metadata": {},
   "outputs": [
    {
     "data": {
      "text/plain": [
       "array([[0.25    , 0.243589, 0.964161],\n",
       "       [0.25    , 0.133083, 0.483588],\n",
       "       [0.25    , 0.241603, 0.961965],\n",
       "       [0.25    , 0.134215, 0.485606],\n",
       "       [0.25    , 0.244876, 0.960609],\n",
       "       [0.25    , 0.132761, 0.486831]])"
      ]
     },
     "execution_count": 20,
     "metadata": {},
     "output_type": "execute_result"
    }
   ],
   "source": [
    "q2_mean"
   ]
  },
  {
   "cell_type": "code",
   "execution_count": 21,
   "id": "f675ada7-6085-482a-b50d-01db2b8ff14e",
   "metadata": {},
   "outputs": [
    {
     "data": {
      "text/plain": [
       "array([[1.395805e-15, 3.326154e-04, 1.049793e-03],\n",
       "       [1.132380e-15, 6.472247e-04, 1.053539e-03],\n",
       "       [1.069941e-15, 3.141615e-04, 7.894084e-04],\n",
       "       [1.759034e-15, 9.653615e-04, 7.608527e-04],\n",
       "       [1.409262e-15, 5.877745e-04, 1.280822e-03],\n",
       "       [1.826709e-15, 9.954750e-04, 8.614826e-04]])"
      ]
     },
     "execution_count": 21,
     "metadata": {},
     "output_type": "execute_result"
    }
   ],
   "source": [
    "q2_std"
   ]
  },
  {
   "cell_type": "code",
   "execution_count": 22,
   "id": "f1623921-3ed9-4e55-bb63-0477f8ee5671",
   "metadata": {},
   "outputs": [
    {
     "ename": "NameError",
     "evalue": "name 'parall_qubits' is not defined",
     "output_type": "error",
     "traceback": [
      "\u001b[1;31m---------------------------------------------------------------------------\u001b[0m",
      "\u001b[1;31mNameError\u001b[0m                                 Traceback (most recent call last)",
      "\u001b[1;32m~\\AppData\\Local\\Temp/ipykernel_12440/1964915408.py\u001b[0m in \u001b[0;36m<module>\u001b[1;34m\u001b[0m\n\u001b[1;32m----> 1\u001b[1;33m \u001b[0mparall_qubits\u001b[0m\u001b[1;33m\u001b[0m\u001b[1;33m\u001b[0m\u001b[0m\n\u001b[0m",
      "\u001b[1;31mNameError\u001b[0m: name 'parall_qubits' is not defined"
     ]
    }
   ],
   "source": [
    "parall_qubits"
   ]
  },
  {
   "cell_type": "code",
   "execution_count": null,
   "id": "36c63eef-2c8c-4267-a70c-c3203b8aa655",
   "metadata": {},
   "outputs": [],
   "source": [
    "for k in range(2):\n",
    "    plt.errorbar( x=range(6), y=q3_mean[:,k], yerr=q3_std[:,k], capsize=5, fmt='--o' )\n",
    "plt.legend( ['cF','cQ'] )"
   ]
  },
  {
   "cell_type": "code",
   "execution_count": null,
   "id": "d3cf0433-781e-4158-bd6a-2ef3a2d90b3e",
   "metadata": {},
   "outputs": [],
   "source": [
    "parall_qubits"
   ]
  },
  {
   "cell_type": "code",
   "execution_count": null,
   "id": "9dc769ac-ec47-41aa-ab4c-7d222eb85f34",
   "metadata": {},
   "outputs": [],
   "source": []
  },
  {
   "cell_type": "code",
   "execution_count": null,
   "id": "ebf90981-b7e9-4eed-bd43-d38ad18f0898",
   "metadata": {},
   "outputs": [],
   "source": []
  }
 ],
 "metadata": {
  "kernelspec": {
   "display_name": "Python 3 (ipykernel)",
   "language": "python",
   "name": "python3"
  },
  "language_info": {
   "codemirror_mode": {
    "name": "ipython",
    "version": 3
   },
   "file_extension": ".py",
   "mimetype": "text/x-python",
   "name": "python",
   "nbconvert_exporter": "python",
   "pygments_lexer": "ipython3",
   "version": "3.9.5"
  }
 },
 "nbformat": 4,
 "nbformat_minor": 5
}
