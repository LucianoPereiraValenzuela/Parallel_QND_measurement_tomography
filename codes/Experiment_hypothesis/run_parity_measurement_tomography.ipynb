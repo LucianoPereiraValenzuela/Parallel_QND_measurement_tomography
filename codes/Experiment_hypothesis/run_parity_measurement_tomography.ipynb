{
 "cells": [
  {
   "cell_type": "code",
   "execution_count": 1,
   "metadata": {},
   "outputs": [],
   "source": [
    "import sys\n",
    "sys.path.append('../')\n",
    "\n",
    "import numpy as np\n",
    "from qiskit import IBMQ, Aer, QuantumCircuit\n",
    "import matplotlib.pyplot as plt\n",
    "from main import device_process_measurement_tomography, Quantities, Cross_Quantities, measurement_process_tomography\n",
    "from qiskit.compiler import transpile\n",
    "from qiskit.providers.ibmq.managed import IBMQJobManager\n",
    "from qiskit.providers.aer.noise import NoiseModel"
   ]
  },
  {
   "cell_type": "code",
   "execution_count": 2,
   "metadata": {},
   "outputs": [],
   "source": [
    "IBMQ.load_account()\n",
    "# provider = IBMQ.get_provider(hub='ibm-q', group='open', project='main')\n",
    "provider = IBMQ.get_provider(hub='ibm-q-research-2', group='csic-1', project='main')"
   ]
  },
  {
   "cell_type": "code",
   "execution_count": 3,
   "metadata": {},
   "outputs": [],
   "source": [
    "backend = provider.get_backend('ibm_lagos')\n",
    "simulator = Aer.get_backend('aer_simulator')\n",
    "noise_model = NoiseModel.from_backend(backend)"
   ]
  },
  {
   "cell_type": "code",
   "execution_count": 4,
   "metadata": {},
   "outputs": [
    {
     "data": {
      "image/png": "[encoded data removed]",
      "text/plain": [
       "<Figure size 267.052x204.68 with 1 Axes>"
      ]
     },
     "execution_count": 4,
     "metadata": {},
     "output_type": "execute_result"
    }
   ],
   "source": [
    "qc = QuantumCircuit(2,1)\n",
    "qc.cx(0,1)\n",
    "qc.measure(1,0)\n",
    "qc.reset(1)\n",
    "qc.draw(output='mpl')"
   ]
  },
  {
   "cell_type": "code",
   "execution_count": 5,
   "metadata": {},
   "outputs": [
    {
     "data": {
      "text/plain": [
       "[[array([[ 9.99799475e-01+0.00000000e+00j, -7.03835187e-03+4.84060120e-03j,\n",
       "          -7.03835187e-03-4.84060120e-03j,  7.29848376e-05+0.00000000e+00j],\n",
       "         [ 4.74734389e-03-3.32814601e-03j, -1.05466045e-03+8.70816538e-04j,\n",
       "          -4.95337223e-05+4.44698449e-07j,  1.16416174e-05-1.02531056e-06j],\n",
       "         [ 4.74734389e-03+3.32814601e-03j, -4.95337223e-05-4.44698449e-07j,\n",
       "          -1.05466045e-03-8.70816538e-04j,  1.16416174e-05+1.02531056e-06j],\n",
       "         [ 3.36205983e-05+0.00000000e+00j, -7.90666465e-06+6.24521371e-07j,\n",
       "          -7.90666465e-06-6.24521371e-07j,  1.87691153e-06+0.00000000e+00j]]),\n",
       "  array([[ 1.36205609e-09+0.00000000e+00j, -8.02462548e-09-4.84895615e-08j,\n",
       "          -8.02462548e-09+4.84895615e-08j,  3.50193696e-06+0.00000000e+00j],\n",
       "         [-6.28864353e-09-1.66199132e-07j, -5.26275030e-07-5.08749737e-06j,\n",
       "           6.23507674e-06+1.96265328e-05j,  2.52650247e-04+5.82053970e-04j],\n",
       "         [-6.28864353e-09+1.66199132e-07j,  6.23507674e-06-1.96265328e-05j,\n",
       "          -5.26275030e-07+5.08749737e-06j,  2.52650247e-04-5.82053970e-04j],\n",
       "         [ 2.48212677e-04+0.00000000e+00j,  7.03522547e-03-4.84063516e-03j,\n",
       "           7.03522547e-03+4.84063516e-03j,  9.99840326e-01+0.00000000e+00j]])]]"
      ]
     },
     "execution_count": 5,
     "metadata": {},
     "output_type": "execute_result"
    }
   ],
   "source": [
    "mpt = measurement_process_tomography( 1, 1, 1 ) \n",
    "qcs = mpt.circuits( qc )\n",
    "results = simulator.run(qcs,shots=1e3).result()\n",
    "mpt.fit( results )"
   ]
  },
  {
   "cell_type": "code",
   "execution_count": 6,
   "metadata": {},
   "outputs": [
    {
     "data": {
      "image/png": "[encoded data removed]",
      "text/plain": [
       "<Figure size 830.486x204.68 with 1 Axes>"
      ]
     },
     "execution_count": 6,
     "metadata": {},
     "output_type": "execute_result"
    }
   ],
   "source": [
    "qcs[13].draw(output='mpl')"
   ]
  },
  {
   "cell_type": "code",
   "execution_count": 76,
   "metadata": {},
   "outputs": [],
   "source": [
    "# job = backend.run( transpile(qcs, backend, optimization_level=2), shots=1000 )\n",
    "# print( job.job_id() )\n",
    "# print( job.status() )\n",
    "#'631631fc76e4d11a360b411a' 1p\n",
    "#'631632cd76f8e3964495d4f9' 1p lvl2\n",
    "#'6316328f76f8e325a895d4f6' 2p\n",
    "#'631632b276f8e3156995d4f8' 2p lvl2"
   ]
  },
  {
   "cell_type": "code",
   "execution_count": 77,
   "metadata": {},
   "outputs": [
    {
     "data": {
      "text/plain": [
       "<JobStatus.DONE: 'job has successfully run'>"
      ]
     },
     "execution_count": 77,
     "metadata": {},
     "output_type": "execute_result"
    }
   ],
   "source": [
    "# job.status()"
   ]
  },
  {
   "cell_type": "code",
   "execution_count": 7,
   "metadata": {},
   "outputs": [],
   "source": [
    "job = backend.retrieve_job('631632cd76f8e3964495d4f9')"
   ]
  },
  {
   "cell_type": "code",
   "execution_count": 8,
   "metadata": {},
   "outputs": [],
   "source": [
    "results = job.result()"
   ]
  },
  {
   "cell_type": "code",
   "execution_count": 9,
   "metadata": {},
   "outputs": [
    {
     "data": {
      "text/plain": [
       "[[array([[ 9.65732796e-01+0.j        ,  6.57709757e-03-0.00120518j,\n",
       "           6.57709757e-03+0.00120518j,  2.21579554e-03+0.j        ],\n",
       "         [ 7.24262051e-03+0.00050971j,  5.44524450e-03+0.01984347j,\n",
       "          -4.83486105e-03-0.00018325j,  4.36444910e-04-0.00146216j],\n",
       "         [ 7.24262051e-03-0.00050971j, -4.83486105e-03+0.00018325j,\n",
       "           5.44524450e-03-0.01984347j,  4.36444910e-04+0.00146216j],\n",
       "         [ 1.14733683e-02+0.j        ,  1.08847975e-03+0.00387427j,\n",
       "           1.08847975e-03-0.00387427j,  1.00807944e-02+0.j        ]]),\n",
       "  array([[ 0.01947372+0.j        ,  0.00333706+0.00193114j,\n",
       "           0.00333706-0.00193114j,  0.04577969+0.j        ],\n",
       "         [-0.00255456-0.00349777j,  0.00750465+0.02024894j,\n",
       "           0.00882667+0.00310367j, -0.01998567+0.00209024j],\n",
       "         [-0.00255456+0.00349777j,  0.00882667-0.00310367j,\n",
       "           0.00750465-0.02024894j, -0.01998567-0.00209024j],\n",
       "         [ 0.00330876+0.j        , -0.01100269-0.00459807j,\n",
       "          -0.01100269+0.00459807j,  0.94193507+0.j        ]])]]"
      ]
     },
     "execution_count": 9,
     "metadata": {},
     "output_type": "execute_result"
    }
   ],
   "source": [
    "chois = mpt.fit( results )\n",
    "chois"
   ]
  },
  {
   "cell_type": "code",
   "execution_count": null,
   "metadata": {},
   "outputs": [],
   "source": []
  }
 ],
 "metadata": {
  "kernelspec": {
   "display_name": "Python 3.9.5 ('base')",
   "language": "python",
   "name": "python3"
  },
  "language_info": {
   "codemirror_mode": {
    "name": "ipython",
    "version": 3
   },
   "file_extension": ".py",
   "mimetype": "text/x-python",
   "name": "python",
   "nbconvert_exporter": "python",
   "pygments_lexer": "ipython3",
   "version": "3.9.5"
  },
  "orig_nbformat": 4,
  "vscode": {
   "interpreter": {
    "hash": "cda8d9f3af62c123a40166c789fd00a9f9e68094ffd9b43f4f632544febced4e"
   }
  }
 },
 "nbformat": 4,
 "nbformat_minor": 2
}
