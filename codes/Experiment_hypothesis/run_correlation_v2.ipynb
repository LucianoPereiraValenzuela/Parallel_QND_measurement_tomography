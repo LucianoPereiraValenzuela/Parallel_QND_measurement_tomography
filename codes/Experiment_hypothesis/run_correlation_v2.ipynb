{
 "cells": [
  {
   "cell_type": "code",
   "execution_count": 3,
   "metadata": {},
   "outputs": [],
   "source": [
    "import sys\n",
    "sys.path.append('../')\n",
    "\n",
    "import numpy as np\n",
    "from qiskit import IBMQ, Aer\n",
    "import matplotlib.pyplot as plt\n",
    "from main import device_process_measurement_tomography, Quantities, Cross_Quantities\n",
    "from qiskit.compiler import transpile\n",
    "from qiskit.providers.ibmq.managed import IBMQJobManager\n",
    "from qiskit.providers.aer.noise import NoiseModel\n",
    "from QuantumTomography import RandomUnitary"
   ]
  },
  {
   "cell_type": "code",
   "execution_count": 4,
   "metadata": {},
   "outputs": [],
   "source": [
    "IBMQ.load_account()\n",
    "# provider = IBMQ.get_provider(hub='ibm-q', group='open', project='main')\n",
    "provider = IBMQ.get_provider(hub='ibm-q-research-2', group='csic-1', project='main')"
   ]
  },
  {
   "cell_type": "code",
   "execution_count": 5,
   "metadata": {},
   "outputs": [],
   "source": [
    "backend = provider.get_backend('ibm_lagos')\n",
    "simulator = Aer.get_backend('aer_simulator')\n",
    "noise_model = NoiseModel.from_backend(backend)\n",
    "job_manager = IBMQJobManager()\n"
   ]
  },
  {
   "cell_type": "code",
   "execution_count": 6,
   "metadata": {},
   "outputs": [],
   "source": [
    "# 0-1-2\n",
    "#   3\n",
    "# 4-5-6\n",
    "\n",
    "parall_qubits_all = [   [(1,3)],\n",
    "                    [(3,5)],\n",
    "                    [(0,3)],\n",
    "                    [(2,3)],\n",
    "                    [(3,4)],\n",
    "                    [(3,6)],\n",
    "                    ] "
   ]
  },
  {
   "cell_type": "code",
   "execution_count": 7,
   "metadata": {},
   "outputs": [],
   "source": [
    "# for parall_qubits in parall_qubits_all :\n",
    "#     qndmt = device_process_measurement_tomography( backend, parall_qubits=[parall_qubits] )\n",
    "#     circuits_qndmt = qndmt.circuits()\n",
    "#     job = job_manager.run( transpile( circuits_qndmt, backend ) , backend=backend, shots=2**13 )\n",
    "#     job_id = job.job_set_id()\n",
    "#     print( job_id )"
   ]
  },
  {
   "cell_type": "code",
   "execution_count": 11,
   "metadata": {},
   "outputs": [],
   "source": [
    "job_ids = ['da8e16ea5bd3495188ee2d1c0ea6c643-166250463225726',\n",
    "            'b86876eb77b24a17b38e7891fd0b0d74-1662504635643602',\n",
    "            '8318ed4ecbd24beca0ecd01c9b4dbdee-16625046389304116',\n",
    "            '98a3b971069549ea956a3907cf7905f9-16625046423653195',\n",
    "            'b16d40ca0b1542d5bbabf4d7a72ee562-16625046457092187',\n",
    "            '1d74ff22f4d44f94bfff1f20b60d588a-16625046490846372']"
   ]
  },
  {
   "cell_type": "code",
   "execution_count": 12,
   "metadata": {},
   "outputs": [],
   "source": [
    "chois = []\n",
    "\n",
    "for j in range(len(job_ids)) :\n",
    "    qndmt = device_process_measurement_tomography( backend, parall_qubits=[parall_qubits_all[j]] )\n",
    "    circuits_qndmt = qndmt.circuits()\n",
    "\n",
    "    job = job_manager.retrieve_job_set( job_ids[j], provider )\n",
    "    results = job.results().combine_results()\n",
    "\n",
    "    choi_single, choi_double, gateset  = qndmt.fit( results, paralell=True, gate_set=True ) \n",
    "\n",
    "    chois.append( [ choi_single, choi_double ] )\n"
   ]
  },
  {
   "cell_type": "code",
   "execution_count": 28,
   "metadata": {},
   "outputs": [],
   "source": [
    "quantities = []\n",
    "for j in range(len(job_ids)) :\n",
    "    Qs = Cross_Quantities( chois[j][0][0][0], chois[j][0][0][1],\n",
    "                            chois[j][0][1][0], chois[j][0][1][1],\n",
    "                            chois[j][1][0][0][0], chois[j][1][0][0][1]\n",
    "                        )\n",
    "    quantities.append( Qs )"
   ]
  },
  {
   "cell_type": "code",
   "execution_count": 39,
   "metadata": {},
   "outputs": [
    {
     "data": {
      "text/plain": [
       "(array([0.00854564, 0.00333686]), array([0.00681096, 0.00267759]))"
      ]
     },
     "execution_count": 39,
     "metadata": {},
     "output_type": "execute_result"
    }
   ],
   "source": [
    "dist_1 = np.mean( np.array(quantities)[:2,:], axis=0 )\n",
    "dist_2 = np.mean( np.array(quantities)[2:,:], axis=0 )\n",
    "dist_1, dist_2"
   ]
  },
  {
   "cell_type": "code",
   "execution_count": 59,
   "metadata": {},
   "outputs": [
    {
     "data": {
      "image/png": "[encoded data removed]",
      "text/plain": [
       "<Figure size 432x288 with 1 Axes>"
      ]
     },
     "metadata": {
      "needs_background": "light"
     },
     "output_type": "display_data"
    }
   ],
   "source": [
    "plt.semilogy(quantities, '--o', label=[ 'C[F]', 'C[Q]' ] )\n",
    "plt.hlines( dist_1, -0.2, 1.2, 'g', label='Mean d=1' )\n",
    "plt.hlines( dist_2, 1.8, 5.2, 'y', label='Mean d=2' )\n",
    "plt.xticks( range(6), labels=['(1,3)', '(3,5)', '(0,3)',\n",
    "                              '(2,3)', '(3,4)', '(3,6)']);\n",
    "plt.ylim( bottom=1.5e-3 )\n",
    "plt.legend( )\n",
    "plt.savefig('fig_correlations_distance.png') "
   ]
  },
  {
   "cell_type": "code",
   "execution_count": null,
   "metadata": {},
   "outputs": [],
   "source": []
  },
  {
   "cell_type": "code",
   "execution_count": null,
   "metadata": {},
   "outputs": [],
   "source": []
  }
 ],
 "metadata": {
  "kernelspec": {
   "display_name": "Python 3.9.5 ('base')",
   "language": "python",
   "name": "python3"
  },
  "language_info": {
   "codemirror_mode": {
    "name": "ipython",
    "version": 3
   },
   "file_extension": ".py",
   "mimetype": "text/x-python",
   "name": "python",
   "nbconvert_exporter": "python",
   "pygments_lexer": "ipython3",
   "version": "3.9.5"
  },
  "orig_nbformat": 4,
  "vscode": {
   "interpreter": {
    "hash": "cda8d9f3af62c123a40166c789fd00a9f9e68094ffd9b43f4f632544febced4e"
   }
  }
 },
 "nbformat": 4,
 "nbformat_minor": 2
}
