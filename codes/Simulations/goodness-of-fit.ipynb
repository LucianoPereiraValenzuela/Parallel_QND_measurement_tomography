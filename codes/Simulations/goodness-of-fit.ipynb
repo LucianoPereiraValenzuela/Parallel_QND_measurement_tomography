{
 "cells": [
  {
   "cell_type": "code",
   "execution_count": 1,
   "metadata": {},
   "outputs": [],
   "source": [
    "import sys\n",
    "sys.path.append('../')"
   ]
  },
  {
   "cell_type": "code",
   "execution_count": 2,
   "metadata": {},
   "outputs": [],
   "source": [
    "import numpy as np\n",
    "import matplotlib.pyplot as plt \n",
    "from qiskit import IBMQ, Aer\n",
    "from qiskit.compiler import transpile\n",
    "from main import *"
   ]
  },
  {
   "cell_type": "code",
   "execution_count": 3,
   "metadata": {},
   "outputs": [],
   "source": [
    "IBMQ.load_account()\n",
    "provider    = IBMQ.get_provider(hub='ibm-q-research-2', group='csic-1', project='main')\n",
    "backend     = provider.get_backend('ibm_perth')\n",
    "simulator   = Aer.get_backend('aer_simulator')"
   ]
  },
  {
   "cell_type": "code",
   "execution_count": 4,
   "metadata": {},
   "outputs": [],
   "source": [
    "dpmt = device_process_measurement_tomography( backend, qubits=[0,1], parall_qubits=[[(0,1)]] )\n",
    "circuits_dpmt = dpmt.circuits()\n",
    "job = simulator.run( transpile( circuits_dpmt, backend ), shots=2**13 ) "
   ]
  },
  {
   "cell_type": "code",
   "execution_count": 5,
   "metadata": {},
   "outputs": [],
   "source": [
    "results_tomography = dpmt.fit( job.result(), paralell=True, gate_set=False )         \n",
    "results_single     = results_tomography.single                             \n",
    "results_double     = results_tomography.double                            \n",
    "results_gateset    = results_tomography.gateset   "
   ]
  },
  {
   "cell_type": "code",
   "execution_count": 6,
   "metadata": {},
   "outputs": [
    {
     "data": {
      "text/plain": [
       "(array([5.27076367, 5.2705876 ]), array([5.27095277, 5.2709209 ]))"
      ]
     },
     "execution_count": 6,
     "metadata": {},
     "output_type": "execute_result"
    }
   ],
   "source": [
    "np.sum( results_single.entropies, 1 ), np.sum( results_single.funs, 1 )"
   ]
  },
  {
   "cell_type": "code",
   "execution_count": 7,
   "metadata": {},
   "outputs": [],
   "source": [
    "results_tomography = dpmt.fit( job.result(), paralell=True, gate_set=True )         \n",
    "results_single     = results_tomography.single                             \n",
    "results_double     = results_tomography.double                            \n",
    "results_gateset    = results_tomography.gateset   "
   ]
  },
  {
   "cell_type": "code",
   "execution_count": 13,
   "metadata": {},
   "outputs": [
    {
     "data": {
      "text/plain": [
       "(array([5.27076367, 5.2705876 ]), array([5.27090342, 5.27089405]))"
      ]
     },
     "execution_count": 13,
     "metadata": {},
     "output_type": "execute_result"
    }
   ],
   "source": [
    "np.sum( results_single.entropies, 1 ), np.sum( results_single.funs, 1 )"
   ]
  },
  {
   "cell_type": "code",
   "execution_count": 16,
   "metadata": {},
   "outputs": [
    {
     "data": {
      "text/plain": [
       "(63.24516937468518, 63.25110158843156)"
      ]
     },
     "execution_count": 16,
     "metadata": {},
     "output_type": "execute_result"
    }
   ],
   "source": [
    "np.sum( results_double[0].entropies ), np.sum( results_double[0].funs )"
   ]
  },
  {
   "cell_type": "code",
   "execution_count": null,
   "metadata": {},
   "outputs": [],
   "source": []
  },
  {
   "cell_type": "code",
   "execution_count": 9,
   "metadata": {},
   "outputs": [
    {
     "data": {
      "text/plain": [
       "Text(0, 0.5, '$\\\\lambda$')"
      ]
     },
     "execution_count": 9,
     "metadata": {},
     "output_type": "execute_result"
    },
    {
     "data": {
      "image/png": "[encoded data removed]",
      "text/plain": [
       "<Figure size 432x288 with 1 Axes>"
      ]
     },
     "metadata": {
      "needs_background": "light"
     },
     "output_type": "display_data"
    }
   ],
   "source": [
    "DeltaL = 2**13*( np.sum(np.array(results_single.entropies)[:,1:],1) \n",
    "                - np.sum(np.array(results_single.funs)[:,1:],1) )\n",
    "DeltaL[DeltaL<0] = 0\n",
    "DeltaN = 4  \n",
    "lambda_4 = abs( 2*DeltaL-DeltaN )/np.sqrt( 2*DeltaN )  \n",
    "DeltaN = 1\n",
    "lambda_1 = abs( 2*DeltaL-DeltaN )/np.sqrt( 2*DeltaN ) \n",
    "\n",
    "plt.plot( range(2), lambda_1, '--o',label='$k$=1')\n",
    "plt.plot( range(2), lambda_4, '--o',label='$k$=4')\n",
    "plt.hlines( 5, -0.1, 6.1, color='black', linestyles='dashed', label='$\\lambda=1$'  )\n",
    "plt.legend()\n",
    "plt.xlabel('qubit')\n",
    "plt.ylabel('$\\lambda$')"
   ]
  },
  {
   "cell_type": "code",
   "execution_count": 10,
   "metadata": {},
   "outputs": [
    {
     "ename": "IndexError",
     "evalue": "list index out of range",
     "output_type": "error",
     "traceback": [
      "\u001b[1;31m---------------------------------------------------------------------------\u001b[0m",
      "\u001b[1;31mIndexError\u001b[0m                                Traceback (most recent call last)",
      "\u001b[1;32m~\\AppData\\Local\\Temp/ipykernel_17852/774761303.py\u001b[0m in \u001b[0;36m<module>\u001b[1;34m\u001b[0m\n\u001b[1;32m----> 1\u001b[1;33m DeltaL = np.abs([ 2**13*( np.sum(np.array(results_double[k].entropies)[:,1:],1) \n\u001b[0m\u001b[0;32m      2\u001b[0m                 - np.sum(np.array(results_double[k].funs)[:,1:],1) ) for k in range(3) ])\n\u001b[0;32m      3\u001b[0m \u001b[0mDeltaL\u001b[0m\u001b[1;33m[\u001b[0m\u001b[0mDeltaL\u001b[0m\u001b[1;33m<\u001b[0m\u001b[1;36m0\u001b[0m\u001b[1;33m]\u001b[0m \u001b[1;33m=\u001b[0m \u001b[1;36m0\u001b[0m\u001b[1;33m\u001b[0m\u001b[1;33m\u001b[0m\u001b[0m\n\u001b[0;32m      4\u001b[0m \u001b[0mDeltaN\u001b[0m \u001b[1;33m=\u001b[0m \u001b[1;36m12\u001b[0m\u001b[1;33m\u001b[0m\u001b[1;33m\u001b[0m\u001b[0m\n\u001b[0;32m      5\u001b[0m \u001b[0mlambda_12\u001b[0m \u001b[1;33m=\u001b[0m \u001b[1;33m(\u001b[0m \u001b[0mabs\u001b[0m\u001b[1;33m(\u001b[0m \u001b[1;36m2\u001b[0m\u001b[1;33m*\u001b[0m\u001b[0mDeltaL\u001b[0m\u001b[1;33m-\u001b[0m\u001b[0mDeltaN\u001b[0m \u001b[1;33m)\u001b[0m\u001b[1;33m/\u001b[0m\u001b[0mnp\u001b[0m\u001b[1;33m.\u001b[0m\u001b[0msqrt\u001b[0m\u001b[1;33m(\u001b[0m \u001b[1;36m2\u001b[0m\u001b[1;33m*\u001b[0m\u001b[0mDeltaN\u001b[0m \u001b[1;33m)\u001b[0m \u001b[1;33m)\u001b[0m\u001b[1;33m.\u001b[0m\u001b[0mflatten\u001b[0m\u001b[1;33m(\u001b[0m\u001b[1;33m)\u001b[0m\u001b[1;33m\u001b[0m\u001b[1;33m\u001b[0m\u001b[0m\n",
      "\u001b[1;32m~\\AppData\\Local\\Temp/ipykernel_17852/774761303.py\u001b[0m in \u001b[0;36m<listcomp>\u001b[1;34m(.0)\u001b[0m\n\u001b[1;32m----> 1\u001b[1;33m DeltaL = np.abs([ 2**13*( np.sum(np.array(results_double[k].entropies)[:,1:],1) \n\u001b[0m\u001b[0;32m      2\u001b[0m                 - np.sum(np.array(results_double[k].funs)[:,1:],1) ) for k in range(3) ])\n\u001b[0;32m      3\u001b[0m \u001b[0mDeltaL\u001b[0m\u001b[1;33m[\u001b[0m\u001b[0mDeltaL\u001b[0m\u001b[1;33m<\u001b[0m\u001b[1;36m0\u001b[0m\u001b[1;33m]\u001b[0m \u001b[1;33m=\u001b[0m \u001b[1;36m0\u001b[0m\u001b[1;33m\u001b[0m\u001b[1;33m\u001b[0m\u001b[0m\n\u001b[0;32m      4\u001b[0m \u001b[0mDeltaN\u001b[0m \u001b[1;33m=\u001b[0m \u001b[1;36m12\u001b[0m\u001b[1;33m\u001b[0m\u001b[1;33m\u001b[0m\u001b[0m\n\u001b[0;32m      5\u001b[0m \u001b[0mlambda_12\u001b[0m \u001b[1;33m=\u001b[0m \u001b[1;33m(\u001b[0m \u001b[0mabs\u001b[0m\u001b[1;33m(\u001b[0m \u001b[1;36m2\u001b[0m\u001b[1;33m*\u001b[0m\u001b[0mDeltaL\u001b[0m\u001b[1;33m-\u001b[0m\u001b[0mDeltaN\u001b[0m \u001b[1;33m)\u001b[0m\u001b[1;33m/\u001b[0m\u001b[0mnp\u001b[0m\u001b[1;33m.\u001b[0m\u001b[0msqrt\u001b[0m\u001b[1;33m(\u001b[0m \u001b[1;36m2\u001b[0m\u001b[1;33m*\u001b[0m\u001b[0mDeltaN\u001b[0m \u001b[1;33m)\u001b[0m \u001b[1;33m)\u001b[0m\u001b[1;33m.\u001b[0m\u001b[0mflatten\u001b[0m\u001b[1;33m(\u001b[0m\u001b[1;33m)\u001b[0m\u001b[1;33m\u001b[0m\u001b[1;33m\u001b[0m\u001b[0m\n",
      "\u001b[1;31mIndexError\u001b[0m: list index out of range"
     ]
    }
   ],
   "source": [
    "DeltaL = np.abs([ 2**13*( np.sum(np.array(results_double[k].entropies)[:,1:],1) \n",
    "                - np.sum(np.array(results_double[k].funs)[:,1:],1) ) for k in range(3) ])\n",
    "DeltaL[DeltaL<0] = 0\n",
    "DeltaN = 12\n",
    "lambda_12 = ( abs( 2*DeltaL-DeltaN )/np.sqrt( 2*DeltaN ) ).flatten()\n",
    "DeltaN = 1\n",
    "lambda_1 = ( abs( 2*DeltaL-DeltaN )/np.sqrt( 2*DeltaN ) ).flatten()\n",
    "DeltaN = 8\n",
    "lambda_8 = ( abs( 2*DeltaL-DeltaN )/np.sqrt( 2*DeltaN ) ).flatten()\n",
    "\n",
    "Idx = [3,4,0,2,1,5]\n",
    "plt.plot( range(1), lambda_1[Idx], '--o',label='$k$=1')\n",
    "plt.plot( range(1), lambda_8[Idx], '--o',label='$k$=8')\n",
    "plt.plot( range(1), lambda_12[Idx], '--o',label='$k$=12')\n",
    "plt.hlines( 5, -0.1, 5.1, color='black', linestyles='dashed', label='$\\lambda=5$'  )\n",
    "plt.xticks( range(6), labels=[ '(0,1)', '(1,2)', '(1,3)', '(3,5)', '(4,5)', '(5,6)' ] )\n",
    "plt.legend()\n",
    "plt.xlabel('pair of qubits')\n",
    "plt.ylabel('$\\lambda$')"
   ]
  },
  {
   "cell_type": "code",
   "execution_count": null,
   "metadata": {},
   "outputs": [],
   "source": []
  },
  {
   "cell_type": "code",
   "execution_count": null,
   "metadata": {},
   "outputs": [],
   "source": []
  }
 ],
 "metadata": {
  "kernelspec": {
   "display_name": "Python 3.9.5 ('base')",
   "language": "python",
   "name": "python3"
  },
  "language_info": {
   "codemirror_mode": {
    "name": "ipython",
    "version": 3
   },
   "file_extension": ".py",
   "mimetype": "text/x-python",
   "name": "python",
   "nbconvert_exporter": "python",
   "pygments_lexer": "ipython3",
   "version": "3.9.5"
  },
  "orig_nbformat": 4,
  "vscode": {
   "interpreter": {
    "hash": "cda8d9f3af62c123a40166c789fd00a9f9e68094ffd9b43f4f632544febced4e"
   }
  }
 },
 "nbformat": 4,
 "nbformat_minor": 2
}
