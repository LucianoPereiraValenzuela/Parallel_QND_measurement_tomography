{
 "cells": [
  {
   "cell_type": "code",
   "execution_count": null,
   "id": "037410d9",
   "metadata": {},
   "outputs": [],
   "source": [
    "import numpy as np\n",
    "import matplotlib.pyplot as plt\n",
    "from main import Quantities, Cross_Quantities, Abs_Bars3D, Cross_Probability, cross_qndness, cross_fidelity\n",
    "plt.rcParams.update({\n",
    "    \"text.usetex\": True,\n",
    "    \"font.family\": \"sans-serif\",\n",
    "    \"font.sans-serif\": [\"Helvetica\"]})"
   ]
  },
  {
   "cell_type": "code",
   "execution_count": null,
   "id": "f5a14852",
   "metadata": {},
   "outputs": [],
   "source": [
    "Datos = []\n",
    "\n",
    "for k in range(1000):\n",
    "    loaded = np.load( 'montecarlo_with_GST/datos_mc_{}.npy'.format(k), allow_pickle=True )\n",
    "    Datos.append( loaded )\n",
    "    # quantities, quantities_2, cross_quantities, single, double, gst"
   ]
  },
  {
   "cell_type": "code",
   "execution_count": null,
   "id": "e93dc2c9",
   "metadata": {},
   "outputs": [],
   "source": [
    "POVM_single = [  [ d[3][j][0] for j in range(7)  ] for d in Datos]\n",
    "Choi_single = [  [ d[3][j][1] for j in range(7)  ] for d in Datos]\n",
    "\n",
    "POVM_double = np.array([  [ [ d[4][j][k][0] for k in range(2) ] for j in range(3) ] for d in Datos])\n",
    "Choi_double = np.array([  [ [ d[4][j][k][1] for k in range(2) ] for j in range(3)  ] for d in Datos])\n",
    "\n",
    "qubits = [ [(1,3),(4,5)],[(3,5),(0,1)],[(1,2),(5,6)] ]"
   ]
  },
  {
   "cell_type": "code",
   "execution_count": null,
   "id": "3d4d6d37",
   "metadata": {},
   "outputs": [],
   "source": [
    "quantities = [ [ Quantities( POVM_single[k][j], Choi_single[k][j] ) for j in range(7) ] for k in range(1000) ]\n",
    "quantities_2 = [ [ [ Quantities( POVM_double[k][j][i], Choi_double[k][j][i] ) for i in range(2) ] for j in range(3) ] for k in range(1000) ] \n",
    "cross_quantities = [ [ [ Cross_Quantities( POVM_single[k][qubits[j][i][0]], Choi_single[k][qubits[j][i][0]], \n",
    "                                          POVM_single[k][qubits[j][i][1]], Choi_single[k][qubits[j][i][1]] , \n",
    "                                          POVM_double[k][j][i], Choi_double[k][j][i] ) \n",
    "                        for i in range(2) ] for j in range(3) ] for k in range(1000) ] "
   ]
  },
  {
   "cell_type": "code",
   "execution_count": null,
   "id": "ac48ca6c",
   "metadata": {},
   "outputs": [],
   "source": [
    "quantities_mean = np.mean( quantities, axis=0 )\n",
    "quantities_std  = np.std( quantities, axis=0 )"
   ]
  },
  {
   "cell_type": "code",
   "execution_count": null,
   "id": "deabc6cd",
   "metadata": {},
   "outputs": [],
   "source": [
    "for k in range(3):\n",
    "    plt.errorbar( x=range(7), y=quantities_mean[:,k], yerr=quantities_std[:,k], capsize=5, fmt='--o' )\n",
    "plt.legend( [r'$F$',r'$Q$', r'$1-D$'] )\n",
    "plt.savefig('quantities_single.pdf', bbox_inches='tight' )"
   ]
  },
  {
   "cell_type": "code",
   "execution_count": null,
   "id": "5b1f6680",
   "metadata": {},
   "outputs": [],
   "source": [
    "quantities_2_mean = np.mean( quantities_2, axis=0 ).reshape(6,-1)\n",
    "quantities_2_std  = np.std( quantities_2, axis=0 ).reshape(6,-1)"
   ]
  },
  {
   "cell_type": "code",
   "execution_count": null,
   "id": "c3ab8f14",
   "metadata": {},
   "outputs": [],
   "source": [
    "quantities_2_mean"
   ]
  },
  {
   "cell_type": "code",
   "execution_count": null,
   "id": "c7c56330",
   "metadata": {},
   "outputs": [],
   "source": [
    "for k in range(3):\n",
    "    plt.errorbar( x=range(6), y=quantities_2_mean[:,k], yerr=quantities_2_std[:,k], capsize=5, fmt='--o' )\n",
    "plt.legend( [r'$F$',r'$Q$', r'$1-D$'] )\n",
    "plt.xticks( [0,1,2,3,4,5], [(1,3),(4,5),(3,5),(0,1),(1,2),(5,6)] );\n",
    "plt.savefig('quantities_double.pdf', bbox_inches='tight' )"
   ]
  },
  {
   "cell_type": "markdown",
   "id": "0d729f56",
   "metadata": {},
   "source": [
    "### Cambiar los colores!!"
   ]
  },
  {
   "cell_type": "code",
   "execution_count": null,
   "id": "8c0270e3",
   "metadata": {},
   "outputs": [],
   "source": [
    "def Cross_Probability( f1, f2, pairs ):\n",
    "    \n",
    "    f = []\n",
    "    for j in range(len(f2)):\n",
    "        p = pairs[j]\n",
    "        f.append( abs( f1[p[0]] * f1[p[1]] - f2[j]  ) )\n",
    "    return f"
   ]
  },
  {
   "cell_type": "code",
   "execution_count": null,
   "id": "baa5b342",
   "metadata": {},
   "outputs": [],
   "source": [
    "cfidelity = np.array([ Cross_Probability( np.array(quantities)[j,:,0], np.array(quantities_2).reshape(1000,6,3)[j,:,0],\n",
    "                                              [ (1,3),(4,5),(3,5),(0,1),(1,2),(5,6) ] ) for j in range(1000) ])\n",
    "cqndness  = np.array([ Cross_Probability( np.array(quantities)[j,:,1], np.array(quantities_2).reshape(1000,6,3)[j,:,1],\n",
    "                                              [ (1,3),(4,5),(3,5),(0,1),(1,2),(5,6) ] ) for j in range(1000) ])"
   ]
  },
  {
   "cell_type": "code",
   "execution_count": null,
   "id": "e783569c",
   "metadata": {},
   "outputs": [],
   "source": [
    "#cqndness = np.array( [ [ [ cross_qndness( Choi_single[k][qubits[j][i][0]], Choi_single[k][qubits[j][i][1]], Choi_double[k][j][i]  ) \n",
    "#                        for i in range(2) ] for j in range(3) ] for k in range(1000) ] ).reshape(1000, 6 )\n",
    "#\n",
    "#cfidelity = np.array( [ [ [ cross_fidelity( POVM_single[k][qubits[j][i][0]],\n",
    "#                                          POVM_single[k][qubits[j][i][1]],  \n",
    "#                                          POVM_double[k][j][i] ) \n",
    "#                        for i in range(2) ] for j in range(3) ] for k in range(1000) ] ).reshape(1000, 6 )"
   ]
  },
  {
   "cell_type": "code",
   "execution_count": null,
   "id": "370d6885",
   "metadata": {},
   "outputs": [],
   "source": [
    "cross_fidelity_mean = np.mean( cfidelity, axis=0 )\n",
    "cross_qndness_mean = np.mean( cqndness, axis=0 )\n",
    "cross_fidelity_std = np.std( cfidelity, axis=0 )\n",
    "cross_qndness_std = np.std( cqndness, axis=0 )"
   ]
  },
  {
   "cell_type": "code",
   "execution_count": null,
   "id": "78c21455",
   "metadata": {},
   "outputs": [],
   "source": [
    "plt.errorbar( x=range(6), y=cross_fidelity_mean, yerr=cross_fidelity_std, capsize=5, fmt='--o' )\n",
    "plt.errorbar( x=range(6), y=cross_qndness_mean, yerr=cross_qndness_std, capsize=5, fmt='--o' )\n",
    "plt.legend( [r'$cF$', r'$cQ$'] )\n",
    "plt.xticks( [0,1,2,3,4,5], [(1,3),(4,5),(3,5),(0,1),(1,2),(5,6)] );\n",
    "plt.savefig('cross_fidelity.pdf', bbox_inches='tight' )"
   ]
  },
  {
   "cell_type": "code",
   "execution_count": null,
   "id": "92d2bdca",
   "metadata": {},
   "outputs": [],
   "source": [
    "cros_quantities_mean = np.mean( cross_quantities, axis=0 ).reshape(6,-1)\n",
    "cros_quantities_std  = np.std( cross_quantities, axis=0 ).reshape(6,-1)"
   ]
  },
  {
   "cell_type": "code",
   "execution_count": null,
   "id": "f6ad0eb0",
   "metadata": {},
   "outputs": [],
   "source": [
    "for k in range(2,4):\n",
    "    plt.errorbar( x=range(6), y=cros_quantities_mean[:,k], yerr=cros_quantities_std[:,k], capsize=5, fmt='--o' )\n",
    "plt.legend( [r'$c\\pi$', r'$c\\upsilon$'] )\n",
    "plt.xticks( [0,1,2,3,4,5], [(1,3),(4,5),(3,5),(0,1),(1,2),(5,6)] );\n",
    "plt.savefig('cross_error.pdf', bbox_inches='tight' )"
   ]
  },
  {
   "cell_type": "code",
   "execution_count": null,
   "id": "037be79c",
   "metadata": {},
   "outputs": [],
   "source": [
    "#for k in range(2):\n",
    "#    plt.errorbar( x=range(6), y=cros_quantities_mean[:,k], yerr=cros_quantities_std[:,k], capsize=5, fmt='--o' )\n",
    "#plt.legend( ['cFid_POVM','cFid_Choi'] )\n",
    "#plt.xticks( [0,1,2,3,4,5], [(1,3),(4,5),(3,5),(0,1),(1,2),(5,6)] );\n",
    "#plt.savefig('cross_matrix_fidelity.pdf', bbox_inches='tight' )"
   ]
  },
  {
   "cell_type": "code",
   "execution_count": null,
   "id": "6f23cca3",
   "metadata": {},
   "outputs": [],
   "source": [
    "def BarPlot( A , yerr=None, colors = ['r','b','g','y','r','b','g','y','r','b','g','y','r','b','g','y'], ax=None ):\n",
    "    A = A.T\n",
    "    if ax is None:\n",
    "        fig = plt.figure()\n",
    "        ax = fig.add_subplot( 111, projection='3d' )\n",
    "    \n",
    "    lenx, leny = A.shape\n",
    "    z = list(A)\n",
    "    xs = np.arange(lenx)\n",
    "    ys = np.arange(leny)\n",
    "    \n",
    "    for n in range(leny):\n",
    "        zs = z[n]\n",
    "        cs = colors[n]\n",
    "        ax.bar( xs, A[n], n, zdir='y', color=cs, alpha=0.5)\n",
    "        \n",
    "        if yerr is not None:\n",
    "            for i in xs:\n",
    "                ax.plot( [i,i], [n, n], [A[n,i]+yerr[n,i], A[n,i]-yerr[n,i]], marker=\"_\", color=cs)\n",
    "        \n",
    "    return ax\n",
    "    \n",
    "    \n",
    "def Plot_Chois(  choi, error_choi=None, axes=None, z_lim = 0.1, shape = None, text=True  ) :\n",
    "    \n",
    "    N = len( choi )\n",
    "    if shape is None:\n",
    "        xx = 1\n",
    "        yy = N\n",
    "    else:\n",
    "        xx = shape[0]\n",
    "        yy = shape[1]\n",
    "    \n",
    "    if axes is None:\n",
    "        fig = plt.figure(figsize=[yy*5,xx*5])\n",
    "        axes = []\n",
    "        for j in range(N):   \n",
    "            axes.append( fig.add_subplot( xx, yy, j+1, projection='3d') )\n",
    "            \n",
    "    for j in range(N):\n",
    "        ax = axes[j]\n",
    "        if error_choi is None:\n",
    "            ax = BarPlot( abs(choi[j]), None, ax=ax )\n",
    "        else:\n",
    "            ax = BarPlot( abs(choi[j]), error_choi[j], ax=ax )\n",
    "        if text is True:\n",
    "            ax.text( j*N+j, j*N+j, z_lim*1.1, np.round(abs(choi[j])[ j*N+j, j*N+j ],3)  )\n",
    "        ax.set_zlim([0,z_lim])\n",
    "    \n",
    "    return axes\n",
    "    "
   ]
  },
  {
   "cell_type": "code",
   "execution_count": null,
   "id": "fa195fc1",
   "metadata": {},
   "outputs": [],
   "source": [
    "Choi_single_mean = np.mean( Choi_single, axis=0 )\n",
    "Choi_single_std = np.std( Choi_single, axis=0 )"
   ]
  },
  {
   "cell_type": "code",
   "execution_count": null,
   "id": "577853db",
   "metadata": {},
   "outputs": [],
   "source": [
    "Choi_single_device_mean = np.mean( Choi_single_mean, axis=0 )\n",
    "Choi_single_device_std  = np.mean( Choi_single_std, axis=0 )\n",
    "\n",
    "#Choi_single_device_mean = np.mean( Choi_single, axis=(0,1) )\n",
    "#Choi_single_device_std  = np.std( Choi_single, axis=(0,1) )"
   ]
  },
  {
   "cell_type": "code",
   "execution_count": null,
   "id": "ad556588",
   "metadata": {},
   "outputs": [],
   "source": [
    "abs( Choi_single_device_mean )"
   ]
  },
  {
   "cell_type": "code",
   "execution_count": null,
   "id": "61b2eada",
   "metadata": {},
   "outputs": [],
   "source": [
    "Choi_single_device_std"
   ]
  },
  {
   "cell_type": "code",
   "execution_count": null,
   "id": "bcbfb398",
   "metadata": {},
   "outputs": [],
   "source": [
    "Labels = [ r'$|\\Upsilon_g|$', r'$|\\Upsilon_e|$'  ]\n",
    "j = 0\n",
    "axes = Plot_Chois(Choi_single_device_mean, Choi_single_device_std )\n",
    "for ax in axes:\n",
    "    ax.set_xticks( [0,1,2,3] )\n",
    "    ax.set_xticklabels( [r'$|gg\\rangle$', r'$|ge\\rangle$', r'$|eg\\rangle$',r'$|ee\\rangle$'], size=16 )\n",
    "    ax.set_yticks( [0,1,2,3] )\n",
    "    ax.set_yticklabels( [r'$\\langle gg|$', r'$\\langle ge|$', r'$\\langle eg|$', r'$\\langle ee|$'], size=16 )\n",
    "    ax.text( 3.3, 4, 0.1*1.15, Labels[j], size = 21 )\n",
    "    j += 1\n",
    "plt.savefig('choi_single.pdf', bbox_inches='tight' )"
   ]
  },
  {
   "cell_type": "code",
   "execution_count": null,
   "id": "93841cd4",
   "metadata": {},
   "outputs": [],
   "source": [
    "fig = plt.figure(figsize=[10, 6*7])\n",
    "for idx in range(7):\n",
    "    ax1 = fig.add_subplot(7,2,2*idx+1, projection='3d')\n",
    "    ax2 = fig.add_subplot(7,2,2*idx+2, projection='3d')\n",
    "    Plot_Chois( Choi_single_mean[idx], Choi_single_std[idx], axes=(ax1,ax2) )"
   ]
  },
  {
   "cell_type": "code",
   "execution_count": null,
   "id": "9a35bb29",
   "metadata": {},
   "outputs": [],
   "source": [
    "Choi_double_mean = np.mean( Choi_double, axis=0 )\n",
    "Choi_double_std = np.std( Choi_double, axis=0 )"
   ]
  },
  {
   "cell_type": "code",
   "execution_count": null,
   "id": "5ea81e57",
   "metadata": {},
   "outputs": [],
   "source": [
    "Choi_double_device_mean = np.mean( Choi_double_mean, axis=(0,1) )\n",
    "Choi_double_device_std  = np.mean( Choi_double_std, axis=(0,1) )"
   ]
  },
  {
   "cell_type": "code",
   "execution_count": null,
   "id": "aa641456",
   "metadata": {},
   "outputs": [],
   "source": [
    "Labels = [ r'$|\\Upsilon_{gg}|$', r'$|\\Upsilon_{ge}|$', r'$|\\Upsilon_{eg}|$', r'$|\\Upsilon_{ee}|$' ]\n",
    "j = 0\n",
    "axes = Plot_Chois(Choi_double_device_mean, Choi_double_device_std, shape=(2,2))\n",
    "for ax in axes:\n",
    "    ax.set_xticks( [0,5,10,15] )\n",
    "    ax.set_xticklabels( [r'$|gggg\\rangle$', r'$|gege\\rangle$', r'$|egeg\\rangle$',r'$|eeee\\rangle$'], size=15 )\n",
    "    ax.set_yticks( [0,5,10,15] )\n",
    "    ax.set_yticklabels( [r'$\\langle gggg|$', r'$\\langle gege|$', r'$\\langle egeg|$', r'$\\langle eeee|$'], size=15 )\n",
    "    ax.text( 16., 16, 0.1*1.25, Labels[j], size = 21 )\n",
    "    j += 1\n",
    "plt.savefig('chois_double.pdf', bbox_inches='tight' )"
   ]
  },
  {
   "cell_type": "code",
   "execution_count": null,
   "id": "1cc671b7",
   "metadata": {},
   "outputs": [],
   "source": [
    "fig = plt.figure(figsize=[20, 6*6])\n",
    "idx = 0\n",
    "for idx1 in range(3):\n",
    "    for idx2 in range(2):\n",
    "        ax1 = fig.add_subplot( 6, 4, 4*idx+1, projection='3d')\n",
    "        ax2 = fig.add_subplot( 6, 4, 4*idx+2, projection='3d')\n",
    "        ax3 = fig.add_subplot( 6, 4, 4*idx+3, projection='3d')\n",
    "        ax4 = fig.add_subplot( 6, 4, 4*idx+4, projection='3d')\n",
    "        idx += 1\n",
    "        Plot_Chois(Choi_double_mean[idx1][idx2], Choi_double_std[idx1][idx2], axes=(ax1,ax2,ax3,ax4), z_lim=0.12)"
   ]
  },
  {
   "cell_type": "code",
   "execution_count": null,
   "id": "7016c1eb",
   "metadata": {},
   "outputs": [],
   "source": []
  },
  {
   "cell_type": "code",
   "execution_count": null,
   "id": "fa012424",
   "metadata": {},
   "outputs": [],
   "source": []
  },
  {
   "cell_type": "code",
   "execution_count": null,
   "id": "b44d8bde",
   "metadata": {},
   "outputs": [],
   "source": []
  },
  {
   "cell_type": "code",
   "execution_count": null,
   "id": "7e9d50d2",
   "metadata": {},
   "outputs": [],
   "source": []
  }
 ],
 "metadata": {
  "kernelspec": {
   "display_name": "Python 3 (ipykernel)",
   "language": "python",
   "name": "python3"
  },
  "language_info": {
   "codemirror_mode": {
    "name": "ipython",
    "version": 3
   },
   "file_extension": ".py",
   "mimetype": "text/x-python",
   "name": "python",
   "nbconvert_exporter": "python",
   "pygments_lexer": "ipython3",
   "version": "3.9.5"
  }
 },
 "nbformat": 4,
 "nbformat_minor": 5
}
