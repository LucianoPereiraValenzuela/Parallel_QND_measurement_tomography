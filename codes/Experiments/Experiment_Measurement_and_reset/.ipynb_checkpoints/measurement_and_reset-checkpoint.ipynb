{
 "cells": [
  {
   "cell_type": "code",
   "execution_count": 17,
   "id": "cf0bf57a-a5d8-4c58-9215-04c11974aa73",
   "metadata": {},
   "outputs": [],
   "source": [
    "import sys\n",
    "sys.path.append('../')\n",
    "from main import measurement_process_tomography\n",
    "import numpy as np\n",
    "from qiskit import QuantumCircuit, Aer, IBMQ\n",
    "from qiskit.compiler import transpile"
   ]
  },
  {
   "cell_type": "code",
   "execution_count": 2,
   "id": "52a7b61f-776a-4799-af1c-35ee4ac51cdd",
   "metadata": {},
   "outputs": [],
   "source": [
    "IBMQ.load_account()\n",
    "provider = IBMQ.get_provider(hub='ibm-q-csic', group='internal', project='iff-csic')\n",
    "backend = provider.get_backend('ibmq_casablanca')\n",
    "simulator = Aer.get_backend('aer_simulator')"
   ]
  },
  {
   "cell_type": "code",
   "execution_count": 3,
   "id": "40d2fef7-da50-411c-8a09-4a105911a0c9",
   "metadata": {},
   "outputs": [],
   "source": [
    "simulator = simulator.from_backend(backend)"
   ]
  },
  {
   "cell_type": "code",
   "execution_count": 4,
   "id": "c406c123-35fa-4537-bd23-089074812909",
   "metadata": {},
   "outputs": [
    {
     "data": {
      "image/png": "[encoded data removed]",
      "text/plain": [
       "<Figure size 193.726x144.48 with 1 Axes>"
      ]
     },
     "execution_count": 4,
     "metadata": {},
     "output_type": "execute_result"
    }
   ],
   "source": [
    "q1 = QuantumCircuit(1,1)\n",
    "q1.measure(0,0)\n",
    "q1.reset(0)\n",
    "q1.draw( output='mpl' )"
   ]
  },
  {
   "cell_type": "code",
   "execution_count": 5,
   "id": "df5d72c3-e650-4119-8f6a-85b77e09530c",
   "metadata": {},
   "outputs": [
    {
     "data": {
      "image/png": "[encoded data removed]",
      "text/plain": [
       "<Figure size 253.926x144.48 with 1 Axes>"
      ]
     },
     "execution_count": 5,
     "metadata": {},
     "output_type": "execute_result"
    }
   ],
   "source": [
    "q2 = QuantumCircuit(1,1)\n",
    "q2.measure(0,0)\n",
    "q2.reset(0)\n",
    "q2.x(0)\n",
    "q2.draw( output='mpl' )"
   ]
  },
  {
   "cell_type": "code",
   "execution_count": 6,
   "id": "4bd705cb-0516-415a-87ac-ff36151a718a",
   "metadata": {},
   "outputs": [],
   "source": [
    "mpt1 = measurement_process_tomography( 1 )\n",
    "mpt2 = measurement_process_tomography( 1 )"
   ]
  },
  {
   "cell_type": "code",
   "execution_count": 7,
   "id": "115ba0fb-77d7-4df5-95aa-5dbe96404e65",
   "metadata": {},
   "outputs": [],
   "source": [
    "circuits1 = mpt1.circuits(  )\n",
    "circuits2 = mpt2.circuits( [ q1, q2 ] )"
   ]
  },
  {
   "cell_type": "code",
   "execution_count": 18,
   "id": "a51e5696-453b-4360-a44b-d94b5dfb0869",
   "metadata": {},
   "outputs": [],
   "source": [
    "circuits = transpile( circuits1+circuits2, backend)\n",
    "job = backend.run( circuits )"
   ]
  },
  {
   "cell_type": "code",
   "execution_count": 19,
   "id": "bb7b809a-d0f3-4bae-ba0a-94281342a0a2",
   "metadata": {},
   "outputs": [
    {
     "data": {
      "text/plain": [
       "'61a933ae3d53f8685b9df9b2'"
      ]
     },
     "execution_count": 19,
     "metadata": {},
     "output_type": "execute_result"
    }
   ],
   "source": [
    "job.job_id()\n",
    "# 02/12/21 '61a933ae3d53f8685b9df9b2'"
   ]
  },
  {
   "cell_type": "code",
   "execution_count": 20,
   "id": "9bf72dc5-e2af-4b24-b533-4b509e6b5613",
   "metadata": {},
   "outputs": [],
   "source": [
    "results = job.result()"
   ]
  },
  {
   "cell_type": "code",
   "execution_count": 21,
   "id": "3639b19a-365c-48c0-87e3-4b4c4e6d0201",
   "metadata": {},
   "outputs": [
    {
     "data": {
      "text/plain": [
       "[array([[ 9.86744498e-01+0.j        , -3.45844960e-03-0.00352056j, -3.45844960e-03+0.00352056j,  5.16339147e-02+0.j        ],\n",
       "        [ 3.62495353e-02-0.02718718j,  5.31256320e-03-0.00687506j,  5.62493265e-04+0.00200002j, -1.25004209e-03-0.00581272j],\n",
       "        [ 3.62495353e-02+0.02718718j,  5.62493265e-04-0.00200002j,  5.31256320e-03+0.00687506j, -1.25004209e-03+0.00581272j],\n",
       "        [ 7.79852381e-03+0.j        ,  1.91668740e-03-0.00327087j,  1.91668740e-03+0.00327087j,  3.14248233e-02+0.j        ]]),\n",
       " array([[ 9.12388154e-04+0.j        ,  1.01100791e-04+0.00042251j,  1.01100791e-04-0.00042251j,  1.21625638e-01+0.j        ],\n",
       "        [-1.48240757e-03+0.00089031j, -1.20275006e-03+0.00219904j,  1.14997100e-02+0.00208832j,  1.73099837e-02-0.03390353j],\n",
       "        [-1.48240757e-03-0.00089031j,  1.14997100e-02-0.00208832j, -1.20275006e-03-0.00219904j,  1.73099837e-02+0.03390353j],\n",
       "        [ 4.54320747e-03+0.j        ,  1.43971109e-03+0.00636895j,  1.43971109e-03-0.00636895j,  7.95317007e-01+0.j        ]])]"
      ]
     },
     "execution_count": 21,
     "metadata": {},
     "output_type": "execute_result"
    }
   ],
   "source": [
    "mpt1.fit( results )"
   ]
  },
  {
   "cell_type": "code",
   "execution_count": 22,
   "id": "294dc9cd-3dba-449c-8b33-88625388df1f",
   "metadata": {},
   "outputs": [
    {
     "data": {
      "text/plain": [
       "[array([[ 9.79964920e-01+0.j        , -1.99892906e-03-0.01072568j, -1.99892906e-03+0.01072568j,  8.05618885e-02+0.j        ],\n",
       "        [ 3.39745289e-02-0.025604j  ,  6.94622181e-03+0.00636931j, -4.14632068e-03+0.00352348j,  1.18883328e-03-0.00531801j],\n",
       "        [ 3.39745289e-02+0.025604j  , -4.14632068e-03-0.00352348j,  6.94622181e-03-0.00636931j,  1.18883328e-03+0.00531801j],\n",
       "        [ 1.79906663e-02+0.j        , -7.86469894e-04-0.00177778j, -7.86469894e-04+0.00177778j,  2.13933579e-03+0.j        ]]),\n",
       " array([[ 2.71533895e-04+0.j        ,  1.07914286e-04+0.00583916j,  1.07914286e-04-0.00583916j,  1.38511755e-01+0.j        ],\n",
       "        [-3.76546798e-04+0.00023546j,  3.42669332e-04-0.00226066j,  6.22561063e-03+0.00519913j,  1.30873769e-02-0.01840482j],\n",
       "        [-3.76546798e-04-0.00023546j,  6.22561063e-03-0.00519913j,  3.42669332e-04+0.00226066j,  1.30873769e-02+0.01840482j],\n",
       "        [ 1.77418192e-03+0.j        ,  2.67762873e-03+0.00666557j,  2.67762873e-03-0.00666557j,  7.78785719e-01+0.j        ]])]"
      ]
     },
     "execution_count": 22,
     "metadata": {},
     "output_type": "execute_result"
    }
   ],
   "source": [
    "mpt2.fit( results )"
   ]
  },
  {
   "cell_type": "code",
   "execution_count": null,
   "id": "99844d4d-8262-4948-a60d-025d6f7b22be",
   "metadata": {},
   "outputs": [],
   "source": []
  },
  {
   "cell_type": "code",
   "execution_count": null,
   "id": "e7f660e0-6d41-4b88-aa90-35f5666330b0",
   "metadata": {},
   "outputs": [],
   "source": []
  },
  {
   "cell_type": "code",
   "execution_count": null,
   "id": "70d609d8-0971-431a-b59c-15e79bf46dce",
   "metadata": {},
   "outputs": [],
   "source": []
  }
 ],
 "metadata": {
  "kernelspec": {
   "display_name": "Python 3 (ipykernel)",
   "language": "python",
   "name": "python3"
  },
  "language_info": {
   "codemirror_mode": {
    "name": "ipython",
    "version": 3
   },
   "file_extension": ".py",
   "mimetype": "text/x-python",
   "name": "python",
   "nbconvert_exporter": "python",
   "pygments_lexer": "ipython3",
   "version": "3.9.5"
  }
 },
 "nbformat": 4,
 "nbformat_minor": 5
}
