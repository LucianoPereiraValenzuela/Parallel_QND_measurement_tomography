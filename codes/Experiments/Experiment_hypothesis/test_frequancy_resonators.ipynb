{
 "cells": [
  {
   "cell_type": "code",
   "execution_count": 1,
   "metadata": {},
   "outputs": [],
   "source": [
    "from qiskit import IBMQ\n",
    "IBMQ.load_account()\n",
    "# provider = IBMQ.get_provider(hub='ibm-q', group='open', project='main')\n",
    "provider = IBMQ.get_provider(hub='ibm-q-research-2', group='csic-1', project='main')\n",
    "backend = provider.get_backend('ibm_perth')"
   ]
  },
  {
   "cell_type": "code",
   "execution_count": 2,
   "metadata": {},
   "outputs": [
    {
     "name": "stdout",
     "output_type": "stream",
     "text": [
      "qubit: 0:  5.157543755402199  resonator:  7.163115502\n",
      "qubit: 1:  5.033688670104362  resonator:  7.1164476510000005\n",
      "qubit: 2:  4.862694113888842  resonator:  7.34928468\n",
      "qubit: 3:  5.125270675630496  resonator:  7.219581694\n",
      "qubit: 4:  5.15921884063671  resonator:  7.137153809000001\n",
      "qubit: 5:  4.9786195377825075  resonator:  7.28180398\n",
      "qubit: 6:  5.156644702835139  resonator:  7.1522457170000004\n"
     ]
    }
   ],
   "source": [
    "GHz = 1e-9\n",
    "defaults = backend.defaults()\n",
    "for qubit in range(7):\n",
    "    print( 'qubit: {}: '.format(qubit),defaults.qubit_freq_est[qubit]*GHz, \n",
    "    ' resonator: ', defaults.meas_freq_est[qubit]*GHz )"
   ]
  },
  {
   "cell_type": "code",
   "execution_count": 3,
   "metadata": {},
   "outputs": [
    {
     "name": "stdout",
     "output_type": "stream",
     "text": [
      "0.046667850999999594\n",
      "0.05646619200000025\n",
      "0.11868847800000015\n",
      "0.010869784999999688\n"
     ]
    }
   ],
   "source": [
    "print( abs(defaults.meas_freq_est[0]*GHz-defaults.meas_freq_est[1]*GHz) )\n",
    "print( abs(defaults.meas_freq_est[0]*GHz-defaults.meas_freq_est[3]*GHz) )\n",
    "print( abs(defaults.meas_freq_est[0]*GHz-defaults.meas_freq_est[5]*GHz) )\n",
    "print( abs(defaults.meas_freq_est[0]*GHz-defaults.meas_freq_est[6]*GHz) )"
   ]
  },
  {
   "cell_type": "code",
   "execution_count": null,
   "metadata": {},
   "outputs": [],
   "source": []
  }
 ],
 "metadata": {
  "kernelspec": {
   "display_name": "Python 3.9.5 ('base')",
   "language": "python",
   "name": "python3"
  },
  "language_info": {
   "codemirror_mode": {
    "name": "ipython",
    "version": 3
   },
   "file_extension": ".py",
   "mimetype": "text/x-python",
   "name": "python",
   "nbconvert_exporter": "python",
   "pygments_lexer": "ipython3",
   "version": "3.9.5"
  },
  "orig_nbformat": 4,
  "vscode": {
   "interpreter": {
    "hash": "cda8d9f3af62c123a40166c789fd00a9f9e68094ffd9b43f4f632544febced4e"
   }
  }
 },
 "nbformat": 4,
 "nbformat_minor": 2
}
