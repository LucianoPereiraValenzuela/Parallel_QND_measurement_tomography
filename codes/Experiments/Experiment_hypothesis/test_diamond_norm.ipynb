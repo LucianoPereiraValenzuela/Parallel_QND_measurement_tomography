{
 "cells": [
  {
   "cell_type": "code",
   "execution_count": 2,
   "metadata": {},
   "outputs": [],
   "source": [
    "import sys\n",
    "sys.path.append('../../')\n",
    "import cvxpy as cvx\n",
    "import numpy as np\n",
    "from QuantumTomography import RandomUnitary, Process2Choi"
   ]
  },
  {
   "cell_type": "code",
   "execution_count": 3,
   "metadata": {},
   "outputs": [],
   "source": [
    "dim = 4\n",
    "U = np.zeros((dim,dim))\n",
    "U[0,0] = 1\n",
    "V = np.zeros((dim,dim))\n",
    "V[-1,-1] = 1\n",
    "Yu = Process2Choi( np.kron(U,U.conj()) )\n",
    "Yv = Process2Choi( np.kron(V,V.conj()) )\n"
   ]
  },
  {
   "cell_type": "code",
   "execution_count": 4,
   "metadata": {},
   "outputs": [],
   "source": [
    "def DiamondNorm( Yu, Yv, type='choi' ):\n",
    "\n",
    "    if type == 'vec':\n",
    "        Yu = Process2Choi( Yu )\n",
    "        Yv = Process2Choi( Yv )\n",
    "\n",
    "    delta_choi = Yu - Yv\n",
    "\n",
    "    # Density matrix must be Hermitian, positive semidefinite, trace 1\n",
    "    rho = cvx.Variable([dim, dim], complex=True)\n",
    "    constraints = [rho == rho.H]\n",
    "    constraints += [rho >> 0]\n",
    "    constraints += [cvx.trace(rho) == 1]\n",
    "\n",
    "    # W must be Hermitian, positive semidefinite\n",
    "    W = cvx.Variable([dim ** 2, dim ** 2], complex=True)\n",
    "    constraints += [W == W.H]\n",
    "    constraints += [W >> 0]\n",
    "\n",
    "    constraints += [(W - cvx.kron(np.eye(dim), rho)) << 0]\n",
    "\n",
    "    J = cvx.Parameter([dim ** 2, dim ** 2], complex=True)\n",
    "    objective = cvx.Maximize(cvx.real(cvx.trace(J.H @ W)))\n",
    "\n",
    "    prob = cvx.Problem(objective, constraints)\n",
    "\n",
    "    J.value = delta_choi\n",
    "    prob.solve()\n",
    "\n",
    "    dnorm = prob.value * 2\n",
    "\n",
    "    # Diamond norm is between 0 and 2. Correct for floating point errors\n",
    "    dnorm = min(2, dnorm)\n",
    "    dnorm = max(0, dnorm)\n",
    "\n",
    "    return dnorm"
   ]
  },
  {
   "cell_type": "code",
   "execution_count": 7,
   "metadata": {},
   "outputs": [
    {
     "data": {
      "text/plain": [
       "1.9999773670516954"
      ]
     },
     "execution_count": 7,
     "metadata": {},
     "output_type": "execute_result"
    }
   ],
   "source": [
    "dnorm = DiamondNorm( Yu, Yv )\n",
    "dnorm"
   ]
  },
  {
   "cell_type": "code",
   "execution_count": 8,
   "metadata": {},
   "outputs": [
    {
     "data": {
      "text/plain": [
       "1.4142135623730951"
      ]
     },
     "execution_count": 8,
     "metadata": {},
     "output_type": "execute_result"
    }
   ],
   "source": [
    "np.linalg.norm( Yu-Yv, 'fro' )"
   ]
  },
  {
   "cell_type": "code",
   "execution_count": 10,
   "metadata": {},
   "outputs": [
    {
     "data": {
      "text/plain": [
       "16"
      ]
     },
     "execution_count": 10,
     "metadata": {},
     "output_type": "execute_result"
    }
   ],
   "source": [
    "Yu.shape[0] "
   ]
  },
  {
   "cell_type": "code",
   "execution_count": null,
   "metadata": {},
   "outputs": [],
   "source": []
  }
 ],
 "metadata": {
  "kernelspec": {
   "display_name": "Python 3.9.5 ('base')",
   "language": "python",
   "name": "python3"
  },
  "language_info": {
   "codemirror_mode": {
    "name": "ipython",
    "version": 3
   },
   "file_extension": ".py",
   "mimetype": "text/x-python",
   "name": "python",
   "nbconvert_exporter": "python",
   "pygments_lexer": "ipython3",
   "version": "3.9.5"
  },
  "orig_nbformat": 4,
  "vscode": {
   "interpreter": {
    "hash": "cda8d9f3af62c123a40166c789fd00a9f9e68094ffd9b43f4f632544febced4e"
   }
  }
 },
 "nbformat": 4,
 "nbformat_minor": 2
}
