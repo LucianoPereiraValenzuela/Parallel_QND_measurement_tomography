{
 "cells": [
  {
   "cell_type": "code",
   "execution_count": 1,
   "metadata": {},
   "outputs": [
    {
     "ename": "KeyboardInterrupt",
     "evalue": "",
     "output_type": "error",
     "traceback": [
      "\u001b[1;31m---------------------------------------------------------------------------\u001b[0m",
      "\u001b[1;31mKeyboardInterrupt\u001b[0m                         Traceback (most recent call last)",
      "\u001b[1;32m~\\AppData\\Local\\Temp/ipykernel_20520/3247433295.py\u001b[0m in \u001b[0;36m<module>\u001b[1;34m\u001b[0m\n\u001b[0;32m      3\u001b[0m \u001b[1;33m\u001b[0m\u001b[0m\n\u001b[0;32m      4\u001b[0m \u001b[1;32mimport\u001b[0m \u001b[0mnumpy\u001b[0m \u001b[1;32mas\u001b[0m \u001b[0mnp\u001b[0m\u001b[1;33m\u001b[0m\u001b[1;33m\u001b[0m\u001b[0m\n\u001b[1;32m----> 5\u001b[1;33m \u001b[1;32mfrom\u001b[0m \u001b[0mqiskit\u001b[0m \u001b[1;32mimport\u001b[0m \u001b[0mIBMQ\u001b[0m\u001b[1;33m,\u001b[0m \u001b[0mAer\u001b[0m\u001b[1;33m\u001b[0m\u001b[1;33m\u001b[0m\u001b[0m\n\u001b[0m\u001b[0;32m      6\u001b[0m \u001b[1;32mimport\u001b[0m \u001b[0mmatplotlib\u001b[0m\u001b[1;33m.\u001b[0m\u001b[0mpyplot\u001b[0m \u001b[1;32mas\u001b[0m \u001b[0mplt\u001b[0m\u001b[1;33m\u001b[0m\u001b[1;33m\u001b[0m\u001b[0m\n\u001b[0;32m      7\u001b[0m \u001b[1;32mfrom\u001b[0m \u001b[0mmain\u001b[0m \u001b[1;32mimport\u001b[0m \u001b[0mdevice_process_measurement_tomography\u001b[0m\u001b[1;33m,\u001b[0m \u001b[0mQuantities\u001b[0m\u001b[1;33m,\u001b[0m \u001b[0mCross_Quantities\u001b[0m\u001b[1;33m,\u001b[0m\u001b[0mKron_Choi\u001b[0m\u001b[1;33m\u001b[0m\u001b[1;33m\u001b[0m\u001b[0m\n",
      "\u001b[1;32mc:\\Users\\lucia\\miniconda3\\lib\\site-packages\\qiskit\\__init__.py\u001b[0m in \u001b[0;36m<module>\u001b[1;34m\u001b[0m\n\u001b[0;32m     23\u001b[0m \u001b[1;33m\u001b[0m\u001b[0m\n\u001b[0;32m     24\u001b[0m \u001b[1;31m# The main qiskit operators\u001b[0m\u001b[1;33m\u001b[0m\u001b[1;33m\u001b[0m\u001b[1;33m\u001b[0m\u001b[0m\n\u001b[1;32m---> 25\u001b[1;33m \u001b[1;32mfrom\u001b[0m \u001b[0mqiskit\u001b[0m\u001b[1;33m.\u001b[0m\u001b[0mcircuit\u001b[0m \u001b[1;32mimport\u001b[0m \u001b[0mClassicalRegister\u001b[0m\u001b[1;33m\u001b[0m\u001b[1;33m\u001b[0m\u001b[0m\n\u001b[0m\u001b[0;32m     26\u001b[0m \u001b[1;32mfrom\u001b[0m \u001b[0mqiskit\u001b[0m\u001b[1;33m.\u001b[0m\u001b[0mcircuit\u001b[0m \u001b[1;32mimport\u001b[0m \u001b[0mQuantumRegister\u001b[0m\u001b[1;33m\u001b[0m\u001b[1;33m\u001b[0m\u001b[0m\n\u001b[0;32m     27\u001b[0m \u001b[1;32mfrom\u001b[0m \u001b[0mqiskit\u001b[0m\u001b[1;33m.\u001b[0m\u001b[0mcircuit\u001b[0m \u001b[1;32mimport\u001b[0m \u001b[0mAncillaRegister\u001b[0m\u001b[1;33m\u001b[0m\u001b[1;33m\u001b[0m\u001b[0m\n",
      "\u001b[1;32mc:\\Users\\lucia\\miniconda3\\lib\\site-packages\\qiskit\\circuit\\__init__.py\u001b[0m in \u001b[0;36m<module>\u001b[1;34m\u001b[0m\n\u001b[0;32m    226\u001b[0m    \u001b[0mrandom\u001b[0m\u001b[1;33m.\u001b[0m\u001b[0mrandom_circuit\u001b[0m\u001b[1;33m\u001b[0m\u001b[1;33m\u001b[0m\u001b[0m\n\u001b[0;32m    227\u001b[0m \"\"\"\n\u001b[1;32m--> 228\u001b[1;33m \u001b[1;32mfrom\u001b[0m \u001b[1;33m.\u001b[0m\u001b[0mquantumcircuit\u001b[0m \u001b[1;32mimport\u001b[0m \u001b[0mQuantumCircuit\u001b[0m\u001b[1;33m\u001b[0m\u001b[1;33m\u001b[0m\u001b[0m\n\u001b[0m\u001b[0;32m    229\u001b[0m \u001b[1;32mfrom\u001b[0m \u001b[1;33m.\u001b[0m\u001b[0mclassicalregister\u001b[0m \u001b[1;32mimport\u001b[0m \u001b[0mClassicalRegister\u001b[0m\u001b[1;33m,\u001b[0m \u001b[0mClbit\u001b[0m\u001b[1;33m\u001b[0m\u001b[1;33m\u001b[0m\u001b[0m\n\u001b[0;32m    230\u001b[0m \u001b[1;32mfrom\u001b[0m \u001b[1;33m.\u001b[0m\u001b[0mquantumregister\u001b[0m \u001b[1;32mimport\u001b[0m \u001b[0mQuantumRegister\u001b[0m\u001b[1;33m,\u001b[0m \u001b[0mQubit\u001b[0m\u001b[1;33m,\u001b[0m \u001b[0mAncillaRegister\u001b[0m\u001b[1;33m,\u001b[0m \u001b[0mAncillaQubit\u001b[0m\u001b[1;33m\u001b[0m\u001b[1;33m\u001b[0m\u001b[0m\n",
      "\u001b[1;32mc:\\Users\\lucia\\miniconda3\\lib\\site-packages\\qiskit\\circuit\\quantumcircuit.py\u001b[0m in \u001b[0;36m<module>\u001b[1;34m\u001b[0m\n\u001b[0;32m     39\u001b[0m \u001b[1;32mimport\u001b[0m \u001b[0mnumpy\u001b[0m \u001b[1;32mas\u001b[0m \u001b[0mnp\u001b[0m\u001b[1;33m\u001b[0m\u001b[1;33m\u001b[0m\u001b[0m\n\u001b[0;32m     40\u001b[0m \u001b[1;32mfrom\u001b[0m \u001b[0mqiskit\u001b[0m\u001b[1;33m.\u001b[0m\u001b[0mexceptions\u001b[0m \u001b[1;32mimport\u001b[0m \u001b[0mQiskitError\u001b[0m\u001b[1;33m,\u001b[0m \u001b[0mMissingOptionalLibraryError\u001b[0m\u001b[1;33m\u001b[0m\u001b[1;33m\u001b[0m\u001b[0m\n\u001b[1;32m---> 41\u001b[1;33m \u001b[1;32mfrom\u001b[0m \u001b[0mqiskit\u001b[0m\u001b[1;33m.\u001b[0m\u001b[0mutils\u001b[0m\u001b[1;33m.\u001b[0m\u001b[0mmultiprocessing\u001b[0m \u001b[1;32mimport\u001b[0m \u001b[0mis_main_process\u001b[0m\u001b[1;33m\u001b[0m\u001b[1;33m\u001b[0m\u001b[0m\n\u001b[0m\u001b[0;32m     42\u001b[0m \u001b[1;32mfrom\u001b[0m \u001b[0mqiskit\u001b[0m\u001b[1;33m.\u001b[0m\u001b[0mcircuit\u001b[0m\u001b[1;33m.\u001b[0m\u001b[0minstruction\u001b[0m \u001b[1;32mimport\u001b[0m \u001b[0mInstruction\u001b[0m\u001b[1;33m\u001b[0m\u001b[1;33m\u001b[0m\u001b[0m\n\u001b[0;32m     43\u001b[0m \u001b[1;32mfrom\u001b[0m \u001b[0mqiskit\u001b[0m\u001b[1;33m.\u001b[0m\u001b[0mcircuit\u001b[0m\u001b[1;33m.\u001b[0m\u001b[0mgate\u001b[0m \u001b[1;32mimport\u001b[0m \u001b[0mGate\u001b[0m\u001b[1;33m\u001b[0m\u001b[1;33m\u001b[0m\u001b[0m\n",
      "\u001b[1;32mc:\\Users\\lucia\\miniconda3\\lib\\site-packages\\qiskit\\utils\\__init__.py\u001b[0m in \u001b[0;36m<module>\u001b[1;34m\u001b[0m\n\u001b[0;32m     58\u001b[0m \"\"\"\n\u001b[0;32m     59\u001b[0m \u001b[1;33m\u001b[0m\u001b[0m\n\u001b[1;32m---> 60\u001b[1;33m \u001b[1;32mfrom\u001b[0m \u001b[1;33m.\u001b[0m\u001b[0mquantum_instance\u001b[0m \u001b[1;32mimport\u001b[0m \u001b[0mQuantumInstance\u001b[0m\u001b[1;33m\u001b[0m\u001b[1;33m\u001b[0m\u001b[0m\n\u001b[0m\u001b[0;32m     61\u001b[0m \u001b[1;32mfrom\u001b[0m \u001b[1;33m.\u001b[0m\u001b[0mdeprecation\u001b[0m \u001b[1;32mimport\u001b[0m \u001b[0mdeprecate_arguments\u001b[0m\u001b[1;33m\u001b[0m\u001b[1;33m\u001b[0m\u001b[0m\n\u001b[0;32m     62\u001b[0m \u001b[1;32mfrom\u001b[0m \u001b[1;33m.\u001b[0m\u001b[0mdeprecation\u001b[0m \u001b[1;32mimport\u001b[0m \u001b[0mdeprecate_function\u001b[0m\u001b[1;33m\u001b[0m\u001b[1;33m\u001b[0m\u001b[0m\n",
      "\u001b[1;32mc:\\Users\\lucia\\miniconda3\\lib\\site-packages\\qiskit\\utils\\quantum_instance.py\u001b[0m in \u001b[0;36m<module>\u001b[1;34m\u001b[0m\n\u001b[0;32m     36\u001b[0m     \u001b[0m_get_backend_interface_version\u001b[0m\u001b[1;33m,\u001b[0m\u001b[1;33m\u001b[0m\u001b[1;33m\u001b[0m\u001b[0m\n\u001b[0;32m     37\u001b[0m )\n\u001b[1;32m---> 38\u001b[1;33m from qiskit.utils.mitigation import (\n\u001b[0m\u001b[0;32m     39\u001b[0m     \u001b[0mCompleteMeasFitter\u001b[0m\u001b[1;33m,\u001b[0m\u001b[1;33m\u001b[0m\u001b[1;33m\u001b[0m\u001b[0m\n\u001b[0;32m     40\u001b[0m     \u001b[0mTensoredMeasFitter\u001b[0m\u001b[1;33m,\u001b[0m\u001b[1;33m\u001b[0m\u001b[1;33m\u001b[0m\u001b[0m\n",
      "\u001b[1;32mc:\\Users\\lucia\\miniconda3\\lib\\site-packages\\qiskit\\utils\\mitigation\\__init__.py\u001b[0m in \u001b[0;36m<module>\u001b[1;34m\u001b[0m\n\u001b[0;32m     51\u001b[0m \u001b[1;31m# Measurement correction functions\u001b[0m\u001b[1;33m\u001b[0m\u001b[1;33m\u001b[0m\u001b[1;33m\u001b[0m\u001b[0m\n\u001b[0;32m     52\u001b[0m \u001b[1;32mfrom\u001b[0m \u001b[1;33m.\u001b[0m\u001b[0mcircuits\u001b[0m \u001b[1;32mimport\u001b[0m \u001b[0mcomplete_meas_cal\u001b[0m\u001b[1;33m,\u001b[0m \u001b[0mtensored_meas_cal\u001b[0m\u001b[1;33m\u001b[0m\u001b[1;33m\u001b[0m\u001b[0m\n\u001b[1;32m---> 53\u001b[1;33m \u001b[1;32mfrom\u001b[0m \u001b[1;33m.\u001b[0m\u001b[0mfitters\u001b[0m \u001b[1;32mimport\u001b[0m \u001b[0mCompleteMeasFitter\u001b[0m\u001b[1;33m,\u001b[0m \u001b[0mTensoredMeasFitter\u001b[0m\u001b[1;33m\u001b[0m\u001b[1;33m\u001b[0m\u001b[0m\n\u001b[0m",
      "\u001b[1;32mc:\\Users\\lucia\\miniconda3\\lib\\site-packages\\qiskit\\utils\\mitigation\\fitters.py\u001b[0m in \u001b[0;36m<module>\u001b[1;34m\u001b[0m\n\u001b[0;32m     27\u001b[0m \u001b[1;32mfrom\u001b[0m \u001b[0mqiskit\u001b[0m \u001b[1;32mimport\u001b[0m \u001b[0mQiskitError\u001b[0m\u001b[1;33m\u001b[0m\u001b[1;33m\u001b[0m\u001b[0m\n\u001b[0;32m     28\u001b[0m \u001b[1;32mfrom\u001b[0m \u001b[0mqiskit\u001b[0m\u001b[1;33m.\u001b[0m\u001b[0mutils\u001b[0m\u001b[1;33m.\u001b[0m\u001b[0mmitigation\u001b[0m\u001b[1;33m.\u001b[0m\u001b[0mcircuits\u001b[0m \u001b[1;32mimport\u001b[0m \u001b[0mcount_keys\u001b[0m\u001b[1;33m\u001b[0m\u001b[1;33m\u001b[0m\u001b[0m\n\u001b[1;32m---> 29\u001b[1;33m \u001b[1;32mfrom\u001b[0m \u001b[0mqiskit\u001b[0m\u001b[1;33m.\u001b[0m\u001b[0mutils\u001b[0m\u001b[1;33m.\u001b[0m\u001b[0mmitigation\u001b[0m\u001b[1;33m.\u001b[0m\u001b[0m_filters\u001b[0m \u001b[1;32mimport\u001b[0m \u001b[0mMeasurementFilter\u001b[0m\u001b[1;33m,\u001b[0m \u001b[0mTensoredFilter\u001b[0m\u001b[1;33m\u001b[0m\u001b[1;33m\u001b[0m\u001b[0m\n\u001b[0m\u001b[0;32m     30\u001b[0m \u001b[1;33m\u001b[0m\u001b[0m\n\u001b[0;32m     31\u001b[0m \u001b[1;33m\u001b[0m\u001b[0m\n",
      "\u001b[1;32mc:\\Users\\lucia\\miniconda3\\lib\\site-packages\\qiskit\\utils\\mitigation\\_filters.py\u001b[0m in \u001b[0;36m<module>\u001b[1;34m\u001b[0m\n\u001b[0;32m     27\u001b[0m \u001b[1;33m\u001b[0m\u001b[0m\n\u001b[0;32m     28\u001b[0m \u001b[1;32mimport\u001b[0m \u001b[0mnumpy\u001b[0m \u001b[1;32mas\u001b[0m \u001b[0mnp\u001b[0m\u001b[1;33m\u001b[0m\u001b[1;33m\u001b[0m\u001b[0m\n\u001b[1;32m---> 29\u001b[1;33m \u001b[1;32mfrom\u001b[0m \u001b[0mscipy\u001b[0m\u001b[1;33m.\u001b[0m\u001b[0moptimize\u001b[0m \u001b[1;32mimport\u001b[0m \u001b[0mminimize\u001b[0m\u001b[1;33m\u001b[0m\u001b[1;33m\u001b[0m\u001b[0m\n\u001b[0m\u001b[0;32m     30\u001b[0m \u001b[1;32mimport\u001b[0m \u001b[0mscipy\u001b[0m\u001b[1;33m.\u001b[0m\u001b[0mlinalg\u001b[0m \u001b[1;32mas\u001b[0m \u001b[0mla\u001b[0m\u001b[1;33m\u001b[0m\u001b[1;33m\u001b[0m\u001b[0m\n\u001b[0;32m     31\u001b[0m \u001b[1;33m\u001b[0m\u001b[0m\n",
      "\u001b[1;32mc:\\Users\\lucia\\miniconda3\\lib\\importlib\\_bootstrap.py\u001b[0m in \u001b[0;36m_find_and_load\u001b[1;34m(name, import_)\u001b[0m\n",
      "\u001b[1;32mc:\\Users\\lucia\\miniconda3\\lib\\importlib\\_bootstrap.py\u001b[0m in \u001b[0;36m_find_and_load_unlocked\u001b[1;34m(name, import_)\u001b[0m\n",
      "\u001b[1;32mc:\\Users\\lucia\\miniconda3\\lib\\importlib\\_bootstrap.py\u001b[0m in \u001b[0;36m_load_unlocked\u001b[1;34m(spec)\u001b[0m\n",
      "\u001b[1;32mc:\\Users\\lucia\\miniconda3\\lib\\importlib\\_bootstrap_external.py\u001b[0m in \u001b[0;36mexec_module\u001b[1;34m(self, module)\u001b[0m\n",
      "\u001b[1;32mc:\\Users\\lucia\\miniconda3\\lib\\importlib\\_bootstrap_external.py\u001b[0m in \u001b[0;36mget_code\u001b[1;34m(self, fullname)\u001b[0m\n",
      "\u001b[1;32mc:\\Users\\lucia\\miniconda3\\lib\\importlib\\_bootstrap_external.py\u001b[0m in \u001b[0;36mget_data\u001b[1;34m(self, path)\u001b[0m\n",
      "\u001b[1;31mKeyboardInterrupt\u001b[0m: "
     ]
    }
   ],
   "source": [
    "import sys\n",
    "sys.path.append('../')\n",
    "\n",
    "import numpy as np\n",
    "from qiskit import IBMQ, Aer\n",
    "import matplotlib.pyplot as plt\n",
    "from main import device_process_measurement_tomography, Quantities, Cross_Quantities,Kron_Choi\n",
    "from qiskit.compiler import transpile\n",
    "from qiskit.providers.ibmq.managed import IBMQJobManager  \n",
    "from qiskit.providers.aer.noise import NoiseModel         \n",
    "from QuantumTomography import RandomUnitary             "
   ]
  },
  {
   "cell_type": "code",
   "execution_count": null,
   "metadata": {},
   "outputs": [],
   "source": [
    "IBMQ.load_account()\n",
    "# provider = IBMQ.get_provider(hub='ibm-q', group='open', project='main')\n",
    "provider = IBMQ.get_provider(hub='ibm-q-research-2', group='csic-1', project='main')"
   ]
  },
  {
   "cell_type": "code",
   "execution_count": null,
   "metadata": {},
   "outputs": [],
   "source": [
    "backend = provider.get_backend('ibm_perth')\n",
    "simulator = Aer.get_backend('aer_simulator')\n",
    "noise_model = NoiseModel.from_backend(backend)\n",
    "job_manager = IBMQJobManager()\n"
   ]
  },
  {
   "cell_type": "code",
   "execution_count": null,
   "metadata": {},
   "outputs": [],
   "source": [
    "# 0-1-2\n",
    "#   3\n",
    "# 4-5-6\n",
    "\n",
    "parall_qubits_all = [ [(0,1)],\n",
    "                    [(0,3)],\n",
    "                    [(0,5)],\n",
    "                    [(0,6)]\n",
    "                    ] "
   ]
  },
  {
   "cell_type": "code",
   "execution_count": null,
   "metadata": {},
   "outputs": [],
   "source": [
    "# for parall_qubits in parall_qubits_all : \n",
    "#     qndmt = device_process_measurement_tomography( backend, parall_qubits=[parall_qubits] ) \n",
    "#     circuits_qndmt = qndmt.circuits()  \n",
    "#     print( parall_qubits )\n",
    "#     for j in range(5): \n",
    "#         job = job_manager.run( transpile( circuits_qndmt, backend ) , backend=backend, shots=2**13 ) \n",
    "#         job_id = job.job_set_id() \n",
    "#         print( job_id ) "
   ]
  },
  {
   "cell_type": "code",
   "execution_count": null,
   "metadata": {},
   "outputs": [],
   "source": [
    "# ibm_perth\n",
    "# [(0, 1)]\n",
    "# e3eee16419e34ac088111184c44c4b29-16636849537826407\n",
    "# dd1ffe1d36f748c6993f7f30ce9c80e7-16636849570615067\n",
    "# 28c902918ca84ce19309bf660acedcc6-16636849604129698\n",
    "# be7959e65e0b4c15858b094bcd70545c-16636849637521367\n",
    "# 0560d841e212477cbe655bc139e69221-16636849671255348\n",
    "# [(0, 3)]\n",
    "# 798c028f057d4711817e0f86f8a0f010-16636849706429129\n",
    "# ee0d3e5f45da47ffb42c4470c39bb575-16636849740484817\n",
    "# bb3911a54bbe415fa4c3c51f180f97c8-16636849774811127\n",
    "# a26c92610ba04896983530e0fceaca5c-1663684980843532\n",
    "# 613b782629304f8080dc9ee3f0a6889e-16636849846101515\n",
    "# [(0, 5)]\n",
    "# 61c2e0ce5a9c4a68b3cc096cd13fa272-16636849884998367\n",
    "# c149d05eca3240e5a94dc369d3832aac-1663684991977888\n",
    "# 097b646c4e104288ab9f09555599ab9c-16636849950838802\n",
    "# ac07f29b953148a78c9b26e8f7a00177-16636849987742093\n",
    "# 5cfff37735134018b04ed4bb87470b25-16636850020372348\n",
    "# [(0, 6)]\n",
    "# 4fd8cd59f31843ccb893356afb00a1af-16636850056841366\n",
    "# 965300891cc4443ab8b428bbe40af4c7-16636850091325965\n",
    "# 296f0452061a4e3db2261cf1e024f2d8-16636850124951134\n",
    "# 5d24d46d5ceb493292d9befe6f57ac8e-16636850160394702\n",
    "# 5c0bdf02224345979c1ff72b05308244-16636850191251469\n",
    "\n",
    "# ibm_lagos\n",
    "# [(0, 1)]\n",
    "# 697c545775cb4f75911f43f09b5cf11f-16636852107460294\n",
    "# 977cbfbd5599406aa7c1d5d0454e7a1a-16636852142151413\n",
    "# 48f367109dc544eeb9f074d1ea34043d-16636852174422433\n",
    "# c1ad75b7bf5e4252990299ce02da182b-1663685220741483\n",
    "# 28eb728167a64512b5b18762e66f2f50-16636852237574744\n",
    "# [(0, 3)]\n",
    "# a4a6bf9536b04e24b9ca21725d80ee83-166368522752195\n",
    "# bb0665dda414403b8be1b7236588d513-1663685230694261\n",
    "# c1d0741a04484161940320c741a335cf-1663685234245021\n",
    "# 40121a1ef3bf457e8667ce001983c1fb-16636852378146455\n",
    "# efc8af1152754cde8c5a51511b16c01d-16636852411625676\n",
    "# [(0, 5)]\n",
    "# f41e83db7b3b45f79b21a846d7f53b63-1663685244859589\n",
    "# 378fd87b407e46209eb433734ed581fb-1663685248429991\n",
    "# 6ce29aa920314ca29ee5b644fc03034b-1663685251490026\n",
    "# 3adb331c06154717a9c89d2769ec2f49-16636852551326058\n",
    "# 10084cc2d96640889902f31126787ee0-16636852582447026\n",
    "# [(0, 6)]\n",
    "# 4de19954d01742d89636057c511f577e-16636852618240013\n",
    "# 44f3bf901716441d99f2a41d5c9332c1-1663685265278485\n",
    "# fe5a99fd97024576b19442a56e535bfa-16636852683556805\n",
    "# 22b1eccc3ac94312ac8de85cf6a329ef-16636852713809779\n",
    "# 6fb3ca7343f94b4cb9a429d45ddbd0dc-16636852748840635\n",
    "\n",
    "# ibm_nairobi\n",
    "# [(0, 1)]\n",
    "# 03ed91b065db4758bdbdbaf774380ab0-16636853351553264\n",
    "# c994d30716a544db8a11c4caf920447a-16636853384688532\n",
    "# 2ea0aa854b114647b3c9fca77aa0cabe-1663685341865477\n",
    "# c5cc05cf71a04421a3a8b219e83aec12-16636853454737482\n",
    "# 00309ae1b3964fdabb32f2878391b6c8-1663685348875528\n",
    "# [(0, 3)]\n",
    "# 4dcfa498bc454e54a8fd76b4cda9a1c3-166368535238623\n",
    "# 790933df3497401f88bbd4f0444b5b2a-1663685355548177\n",
    "# 7214b9747fd34df6a229a812164c1f55-16636853591065178\n",
    "# 2fa6a8bb9c414077b100c4d984950923-16636853626066844\n",
    "# 44cbb753c0f34748b417d2da10155faf-16636853658256671\n",
    "# [(0, 5)]\n",
    "# b32d7ba185274bdd827e42ec9ac941ed-16636853694374075\n",
    "# 1137f375b22e4170a536b877e895182d-16636853725453668\n",
    "# 5f35e44cfdbf4597a0bad12e6b9af347-16636853762181976\n",
    "# f7340f9954b44b44b4508914e36887e0-16636853799449782\n",
    "# 1ed48751e9234bd99eab89b1535d9700-16636853832307549\n",
    "# [(0, 6)]\n",
    "# 3d191fcb7d7b4d7f9eda3b7887f95fd1-16636853870803607\n",
    "# 82695bfb945f42fd990b8cbbcfcb7708-16636853903443334\n",
    "# 54c0c97d82bd484d9e399c4d1f474079-16636853940799737\n",
    "# 0e80ce6d954144ffaf94764217932b3c-16636853974192588\n",
    "# e918f2d8f7bd413a9e32ba136b76e4d3-16636854010954714\n"
   ]
  },
  {
   "cell_type": "code",
   "execution_count": null,
   "metadata": {},
   "outputs": [],
   "source": [
    "job_ids = [ \n",
    "[    'e3eee16419e34ac088111184c44c4b29-16636849537826407',\n",
    "'dd1ffe1d36f748c6993f7f30ce9c80e7-16636849570615067',\n",
    "'28c902918ca84ce19309bf660acedcc6-16636849604129698',\n",
    "'be7959e65e0b4c15858b094bcd70545c-16636849637521367',\n",
    "'0560d841e212477cbe655bc139e69221-16636849671255348'],\n",
    "['798c028f057d4711817e0f86f8a0f010-16636849706429129',\n",
    "'ee0d3e5f45da47ffb42c4470c39bb575-16636849740484817',\n",
    "'bb3911a54bbe415fa4c3c51f180f97c8-16636849774811127',\n",
    "'a26c92610ba04896983530e0fceaca5c-1663684980843532',\n",
    "'613b782629304f8080dc9ee3f0a6889e-16636849846101515'],\n",
    "['61c2e0ce5a9c4a68b3cc096cd13fa272-16636849884998367',\n",
    "'c149d05eca3240e5a94dc369d3832aac-1663684991977888',\n",
    "'097b646c4e104288ab9f09555599ab9c-16636849950838802',\n",
    "'ac07f29b953148a78c9b26e8f7a00177-16636849987742093',\n",
    "'5cfff37735134018b04ed4bb87470b25-16636850020372348'],\n",
    "['4fd8cd59f31843ccb893356afb00a1af-16636850056841366',\n",
    "'965300891cc4443ab8b428bbe40af4c7-16636850091325965',\n",
    "'296f0452061a4e3db2261cf1e024f2d8-16636850124951134',\n",
    "'5d24d46d5ceb493292d9befe6f57ac8e-16636850160394702',\n",
    "'5c0bdf02224345979c1ff72b05308244-16636850191251469']]"
   ]
  },
  {
   "cell_type": "code",
   "execution_count": null,
   "metadata": {},
   "outputs": [
    {
     "name": "stdout",
     "output_type": "stream",
     "text": [
      "[<JobStatus.DONE: 'job has successfully run'>, <JobStatus.DONE: 'job has successfully run'>]\n",
      "[<JobStatus.DONE: 'job has successfully run'>, <JobStatus.DONE: 'job has successfully run'>]\n",
      "[<JobStatus.DONE: 'job has successfully run'>, <JobStatus.DONE: 'job has successfully run'>]\n",
      "[<JobStatus.DONE: 'job has successfully run'>, <JobStatus.DONE: 'job has successfully run'>]\n",
      "[<JobStatus.DONE: 'job has successfully run'>, <JobStatus.DONE: 'job has successfully run'>]\n",
      "[<JobStatus.DONE: 'job has successfully run'>, <JobStatus.DONE: 'job has successfully run'>]\n",
      "[<JobStatus.DONE: 'job has successfully run'>, <JobStatus.DONE: 'job has successfully run'>]\n",
      "[<JobStatus.DONE: 'job has successfully run'>, <JobStatus.DONE: 'job has successfully run'>]\n",
      "[<JobStatus.DONE: 'job has successfully run'>, <JobStatus.DONE: 'job has successfully run'>]\n",
      "[<JobStatus.DONE: 'job has successfully run'>, <JobStatus.DONE: 'job has successfully run'>]\n",
      "[<JobStatus.DONE: 'job has successfully run'>, <JobStatus.DONE: 'job has successfully run'>]\n",
      "[<JobStatus.DONE: 'job has successfully run'>, <JobStatus.DONE: 'job has successfully run'>]\n",
      "[<JobStatus.DONE: 'job has successfully run'>, <JobStatus.DONE: 'job has successfully run'>]\n",
      "[<JobStatus.DONE: 'job has successfully run'>, <JobStatus.DONE: 'job has successfully run'>]\n",
      "[<JobStatus.DONE: 'job has successfully run'>, <JobStatus.DONE: 'job has successfully run'>]\n",
      "[<JobStatus.DONE: 'job has successfully run'>, <JobStatus.DONE: 'job has successfully run'>]\n",
      "[<JobStatus.DONE: 'job has successfully run'>, <JobStatus.DONE: 'job has successfully run'>]\n",
      "[<JobStatus.DONE: 'job has successfully run'>, <JobStatus.DONE: 'job has successfully run'>]\n",
      "[<JobStatus.DONE: 'job has successfully run'>, <JobStatus.DONE: 'job has successfully run'>]\n",
      "[<JobStatus.DONE: 'job has successfully run'>, <JobStatus.DONE: 'job has successfully run'>]\n"
     ]
    }
   ],
   "source": [
    "for jobs in job_ids:\n",
    "    for job_str in jobs:\n",
    "        job = job_manager.retrieve_job_set( job_str, provider )\n",
    "        print( job.statuses() )"
   ]
  },
  {
   "cell_type": "code",
   "execution_count": null,
   "metadata": {},
   "outputs": [],
   "source": [
    "chois_mc = []\n",
    "\n",
    "for j in range(len(parall_qubits_all)) :\n",
    "    chois = []\n",
    "    for k in range(5):\n",
    "        job = job_manager.retrieve_job_set( job_ids[j][k], provider )\n",
    "        results = job.results().combine_results()\n",
    "        qndmt = device_process_measurement_tomography( backend, parall_qubits=[parall_qubits_all[j]] )\n",
    "        circuits_qndmt = qndmt.circuits()\n",
    "        choi_single, choi_double, gateset  = qndmt.fit( results, paralell=True, gate_set=True ) \n",
    "        chois.append( [ choi_single, choi_double ] )\n",
    "    chois_mc.append(chois) \n",
    "    "
   ]
  },
  {
   "cell_type": "code",
   "execution_count": null,
   "metadata": {},
   "outputs": [],
   "source": [
    "import QuantumTomography as qt\n",
    "\n",
    "def Cross_Error_Choi( Choi_single_1, Choi_single_2, Choi_double  ):\n",
    "    Y0 = [ qt.Process2Choi( A ) for A in Kron_Choi( Choi_single_1, Choi_single_2 )]\n",
    "    Y1 = [ qt.Process2Choi( A ) for A in Choi_double]\n",
    "    # f = np.linalg.norm( np.array(Y0) - np.array(Y1) ) / np.sqrt( np.array(Y0).size )\n",
    "    f = 0\n",
    "    for j in range(4):\n",
    "        f += np.linalg.norm( Y0[j] - Y1[j] ) / np.linalg.norm( Y0[j] )\n",
    "    return f\n",
    "\n",
    "def Cross_Error_POVM( Pi_single_1, Pi_single_2, Pi_double  ):\n",
    "    Pi0 = [ np.kron(A,B) for A in Pi_single_1.reshape(2,2,2).transpose(1,2,0) \n",
    "           for B in Pi_single_2.reshape(2,2,2).transpose(1,2,0) ]\n",
    "    Pi1 = Pi_double.reshape(4,4,4).transpose(1,2,0)\n",
    "    # f = np.linalg.norm( np.array(Pi0) - np.array(Pi1) ) / np.sqrt( np.array(Pi0).size )\n",
    "    f = 0 \n",
    "    for j in range(4):\n",
    "        f += np.linalg.norm( Pi0[j] - Pi1[j] ) / np.linalg.norm( Pi0[j] )\n",
    "    return f\n",
    "\n",
    "def Cross_Quantities( Pi1, Choi1, Pi2, Choi2, Pi12, Choi12 ):\n",
    "    \n",
    "    # f = Cross_Fidelity_POVM( Pi1, Pi2, Pi12 )\n",
    "    # q = Cross_Fidelity_Choi( Choi1, Choi2, Choi12 ) \n",
    "    f1 = Cross_Error_POVM( Pi1, Pi2, Pi12 )\n",
    "    q1 = Cross_Error_Choi( Choi1, Choi2, Choi12 ) \n",
    "    return f1, q1 "
   ]
  },
  {
   "cell_type": "code",
   "execution_count": null,
   "metadata": {},
   "outputs": [],
   "source": [
    "quantities_mc = []\n",
    "for j in range(len(job_ids)) :\n",
    "    quantities = []\n",
    "    for k in range(5):\n",
    "        Qs = Cross_Quantities( chois_mc[j][k][0][0][0], chois_mc[j][k][0][0][1],\n",
    "                                chois_mc[j][k][0][1][0], chois_mc[j][k][0][1][1],\n",
    "                                chois_mc[j][k][1][0][0][0], chois_mc[j][k][1][0][0][1]\n",
    "                            )\n",
    "        quantities.append( Qs )\n",
    "    quantities_mc.append(quantities)\n",
    "quantities_mc = np.array(quantities_mc)"
   ]
  },
  {
   "cell_type": "code",
   "execution_count": null,
   "metadata": {},
   "outputs": [],
   "source": [
    "quantities_mean = np.mean( quantities_mc, axis=1 )\n",
    "quantities_std = np.std( quantities_mc, axis=1 )"
   ]
  },
  {
   "cell_type": "code",
   "execution_count": null,
   "metadata": {},
   "outputs": [
    {
     "data": {
      "image/png": "[encoded data removed]",
      "text/plain": [
       "<Figure size 432x288 with 1 Axes>"
      ]
     },
     "metadata": {
      "needs_background": "light"
     },
     "output_type": "display_data"
    }
   ],
   "source": [
    "fig, ax = plt.subplots()\n",
    "ax.set_yscale('log')\n",
    "for j in range(2):\n",
    "    plt.errorbar(range(4), quantities_mean[:,j], yerr=quantities_std[:,j], label=[ 'C[F]', 'C[Q]' ], capsize=5 )\n",
    "    plt.xticks( range(4), labels=['(0,1)','(0,3)','(0,5)','(0,6)']);\n",
    "plt.legend(loc='best')\n",
    "plt.savefig('fig_correlations_distance.png') "
   ]
  },
  {
   "cell_type": "code",
   "execution_count": null,
   "metadata": {},
   "outputs": [],
   "source": []
  }
 ],
 "metadata": {
  "kernelspec": {
   "display_name": "Python 3.9.5 ('base')",
   "language": "python",
   "name": "python3"
  },
  "language_info": {
   "codemirror_mode": {
    "name": "ipython",
    "version": 3
   },
   "file_extension": ".py",
   "mimetype": "text/x-python",
   "name": "python",
   "nbconvert_exporter": "python",
   "pygments_lexer": "ipython3",
   "version": "3.9.5"
  },
  "orig_nbformat": 4,
  "vscode": {
   "interpreter": {
    "hash": "cda8d9f3af62c123a40166c789fd00a9f9e68094ffd9b43f4f632544febced4e"
   }
  }
 },
 "nbformat": 4,
 "nbformat_minor": 2
}
