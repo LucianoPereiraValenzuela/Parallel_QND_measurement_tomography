{
 "cells": [
  {
   "cell_type": "code",
   "execution_count": 1,
   "metadata": {},
   "outputs": [],
   "source": [
    "import sys\n",
    "sys.path.append('../../')\n",
    "\n",
    "import numpy as np\n",
    "from qiskit import IBMQ, Aer\n",
    "import matplotlib.pyplot as plt\n",
    "from main import device_process_measurement_tomography, Quantities, Cross_Quantities,Kron_Choi\n",
    "from qiskit.compiler import transpile\n",
    "from utils_qiskit import save_results\n",
    "from qiskit.providers.ibmq.managed import IBMQJobManager  \n",
    "from QuantumTomography import RandomUnitary             "
   ]
  },
  {
   "cell_type": "code",
   "execution_count": 2,
   "metadata": {},
   "outputs": [],
   "source": [
    "IBMQ.load_account()\n",
    "# provider = IBMQ.get_provider(hub='ibm-q', group='open', project='main')\n",
    "provider = IBMQ.get_provider(hub='ibm-q-research-2', group='csic-1', project='main')"
   ]
  },
  {
   "cell_type": "code",
   "execution_count": 3,
   "metadata": {},
   "outputs": [],
   "source": [
    "backend = provider.get_backend('ibm_perth')\n",
    "simulator = Aer.get_backend('aer_simulator')\n",
    "job_manager = IBMQJobManager()"
   ]
  },
  {
   "cell_type": "code",
   "execution_count": 4,
   "metadata": {},
   "outputs": [],
   "source": [
    "# 0-1-2\n",
    "#   3\n",
    "# 4-5-6\n",
    "\n",
    "parall_qubits_all = [ [(0,1)],\n",
    "                    [(0,3)],\n",
    "                    [(0,5)],\n",
    "                    [(0,6)]\n",
    "                    ] "
   ]
  },
  {
   "cell_type": "code",
   "execution_count": 5,
   "metadata": {},
   "outputs": [],
   "source": [
    "job_ids = [ \n",
    "[    'e3eee16419e34ac088111184c44c4b29-16636849537826407',\n",
    "'dd1ffe1d36f748c6993f7f30ce9c80e7-16636849570615067',\n",
    "'28c902918ca84ce19309bf660acedcc6-16636849604129698',\n",
    "'be7959e65e0b4c15858b094bcd70545c-16636849637521367',\n",
    "'0560d841e212477cbe655bc139e69221-16636849671255348'],\n",
    "['798c028f057d4711817e0f86f8a0f010-16636849706429129',\n",
    "'ee0d3e5f45da47ffb42c4470c39bb575-16636849740484817',\n",
    "'bb3911a54bbe415fa4c3c51f180f97c8-16636849774811127',\n",
    "'a26c92610ba04896983530e0fceaca5c-1663684980843532',\n",
    "'613b782629304f8080dc9ee3f0a6889e-16636849846101515'],\n",
    "['61c2e0ce5a9c4a68b3cc096cd13fa272-16636849884998367',\n",
    "'c149d05eca3240e5a94dc369d3832aac-1663684991977888',\n",
    "'097b646c4e104288ab9f09555599ab9c-16636849950838802',\n",
    "'ac07f29b953148a78c9b26e8f7a00177-16636849987742093',\n",
    "'5cfff37735134018b04ed4bb87470b25-16636850020372348'],\n",
    "['4fd8cd59f31843ccb893356afb00a1af-16636850056841366',\n",
    "'965300891cc4443ab8b428bbe40af4c7-16636850091325965',\n",
    "'296f0452061a4e3db2261cf1e024f2d8-16636850124951134',\n",
    "'5d24d46d5ceb493292d9befe6f57ac8e-16636850160394702',\n",
    "'5c0bdf02224345979c1ff72b05308244-16636850191251469']]"
   ]
  },
  {
   "cell_type": "code",
   "execution_count": 6,
   "metadata": {},
   "outputs": [],
   "source": [
    "# results_mc = []\n",
    "\n",
    "# for j in range(len(parall_qubits_all)) :\n",
    "#     results = []\n",
    "#     for k in range(5):\n",
    "#         job = job_manager.retrieve_job_set( job_ids[j][k], provider )\n",
    "#         results_qiskit = job.results().combine_results()\n",
    "#         save_results( results_qiskit, name = job_ids[j][k], folder = 'data_correlations' ) \n",
    "#         qndmt = device_process_measurement_tomography( backend, parall_qubits=[parall_qubits_all[j]] )\n",
    "#         circuits_qndmt = qndmt.circuits()\n",
    "#         results_tomo   = qndmt.fit( results_qiskit, paralell=True, gate_set=True ) \n",
    "#         results.append( results_tomo )\n",
    "#     results_mc.append(results) "
   ]
  },
  {
   "cell_type": "code",
   "execution_count": 7,
   "metadata": {},
   "outputs": [],
   "source": [
    "# np.save( 'data_correlations/results_tomography_v3', np.array(results_mc, dtype=object) )"
   ]
  },
  {
   "cell_type": "code",
   "execution_count": 8,
   "metadata": {},
   "outputs": [],
   "source": [
    "results_mc = np.load('data_correlations/results_tomography_v3.npy', allow_pickle=True )"
   ]
  },
  {
   "cell_type": "code",
   "execution_count": 9,
   "metadata": {},
   "outputs": [
    {
     "data": {
      "text/plain": [
       "[<main.Results at 0x203c192b790>]"
      ]
     },
     "execution_count": 9,
     "metadata": {},
     "output_type": "execute_result"
    }
   ],
   "source": [
    "results_mc[0][0].double"
   ]
  },
  {
   "cell_type": "code",
   "execution_count": 10,
   "metadata": {},
   "outputs": [],
   "source": [
    "quantities_mc = []\n",
    "correlation_mc = []\n",
    "for j in range(5):\n",
    "    correlation = []\n",
    "    quantities  = []\n",
    "    for k in range(len(job_ids)) :\n",
    "        chois_single = results_mc[k][j].single.chois \n",
    "        povms_single = results_mc[k][j].single.povms\n",
    "        chois_double = results_mc[k][j].double[0].chois\n",
    "        povms_double = results_mc[k][j].double[0].povms\n",
    "        Fs = [ Quantities( povms_single[0], chois_single[0]  ),\n",
    "                Quantities( povms_single[1], chois_single[1] ),\n",
    "                Quantities( povms_double[0], chois_double[0]  ) ]\n",
    "        Qs = Cross_Quantities( povms_single[0], chois_single[0],\n",
    "                                povms_single[1], chois_single[1],\n",
    "                                povms_double[0], chois_double[0]\n",
    "                            )\n",
    "        quantities.append( Fs )\n",
    "        correlation.append( Qs )\n",
    "    quantities_mc.append(quantities)\n",
    "    correlation_mc.append(correlation)\n",
    "quantities_mc = np.array(quantities_mc)\n",
    "correlation_mc = np.array(correlation_mc)"
   ]
  },
  {
   "cell_type": "code",
   "execution_count": 11,
   "metadata": {},
   "outputs": [],
   "source": [
    "rFs_mc = []\n",
    "for m in range(5):\n",
    "    rFs = []\n",
    "    for j in range(4):\n",
    "        F0  = quantities_mc[m][j][0][0]\n",
    "        F1  = quantities_mc[m][j][1][0]\n",
    "        F01 = quantities_mc[m][j][2][0]\n",
    "        rF  = abs(F01 - F0*F1)/(F0*F1) \n",
    "        rFs.append( rF )\n",
    "    rFs_mc.append( rFs )\n",
    "\n",
    "rQs_mc = []\n",
    "for m in range(5):\n",
    "    rQs = []\n",
    "    for j in range(4):\n",
    "        Q0  = quantities_mc[m][j][0][1]\n",
    "        Q1  = quantities_mc[m][j][1][1]\n",
    "        Q01 = quantities_mc[m][j][2][1]\n",
    "        rQ  = abs( Q01 - Q0*Q1 )/( Q0*Q1 ) \n",
    "        rQs.append( rQ )\n",
    "    rQs_mc.append( rQs )"
   ]
  },
  {
   "cell_type": "code",
   "execution_count": 12,
   "metadata": {},
   "outputs": [
    {
     "data": {
      "image/png": "[encoded data removed]",
      "text/plain": [
       "<Figure size 432x288 with 1 Axes>"
      ]
     },
     "metadata": {
      "needs_background": "light"
     },
     "output_type": "display_data"
    }
   ],
   "source": [
    "cF = np.mean( rFs_mc, axis=0 )\n",
    "dcF = np.std( rFs_mc, axis=0 )\n",
    "\n",
    "cQ = np.mean( rQs_mc, axis=0 )\n",
    "dcQ = np.std( rQs_mc, axis=0 )\n",
    "\n",
    "plt.errorbar( x=range(4), y=cF, yerr=dcF, fmt='-o', capsize=5 )\n",
    "plt.errorbar( x=range(4), y=cQ, yerr=dcQ, fmt='-o', capsize=5 )\n",
    "plt.xticks( range(4), labels=['(0,1)','(0,3)','(0,5)','(0,6)']);"
   ]
  },
  {
   "cell_type": "code",
   "execution_count": 13,
   "metadata": {},
   "outputs": [],
   "source": [
    "correlation_mean = np.mean( correlation_mc, axis=0 )\n",
    "correlation_std  = np.std( correlation_mc, axis=0 )"
   ]
  },
  {
   "cell_type": "code",
   "execution_count": 14,
   "metadata": {},
   "outputs": [
    {
     "data": {
      "image/png": "[encoded data removed]",
      "text/plain": [
       "<Figure size 432x288 with 1 Axes>"
      ]
     },
     "metadata": {
      "needs_background": "light"
     },
     "output_type": "display_data"
    }
   ],
   "source": [
    "fig, ax = plt.subplots()\n",
    "ax.set_yscale('log')\n",
    "for j in range(2):\n",
    "    plt.errorbar(range(4), correlation_mean[:,j], yerr=correlation_std[:,j], label=[ 'C[F]', 'C[Q]' ], capsize=5 )\n",
    "plt.xticks( range(4), labels=['(0,1)','(0,3)','(0,5)','(0,6)']);\n",
    "plt.legend(loc='best')\n",
    "plt.savefig('fig_correlations_distance.png')"
   ]
  },
  {
   "cell_type": "code",
   "execution_count": null,
   "metadata": {},
   "outputs": [],
   "source": []
  }
 ],
 "metadata": {
  "kernelspec": {
   "display_name": "Python 3.9.5 ('base')",
   "language": "python",
   "name": "python3"
  },
  "language_info": {
   "codemirror_mode": {
    "name": "ipython",
    "version": 3
   },
   "file_extension": ".py",
   "mimetype": "text/x-python",
   "name": "python",
   "nbconvert_exporter": "python",
   "pygments_lexer": "ipython3",
   "version": "3.9.5"
  },
  "orig_nbformat": 4,
  "vscode": {
   "interpreter": {
    "hash": "cda8d9f3af62c123a40166c789fd00a9f9e68094ffd9b43f4f632544febced4e"
   }
  }
 },
 "nbformat": 4,
 "nbformat_minor": 2
}
