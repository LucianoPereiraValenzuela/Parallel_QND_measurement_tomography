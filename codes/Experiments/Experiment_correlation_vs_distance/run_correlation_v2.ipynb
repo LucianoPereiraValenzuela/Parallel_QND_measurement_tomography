{
 "cells": [
  {
   "cell_type": "code",
   "execution_count": 1,
   "metadata": {},
   "outputs": [],
   "source": [
    "import sys\n",
    "sys.path.append('../')\n",
    "\n",
    "import numpy as np\n",
    "from qiskit import IBMQ, Aer\n",
    "import matplotlib.pyplot as plt\n",
    "from main import device_process_measurement_tomography, Quantities, Cross_Quantities\n",
    "from utils_qiskit import results2dict, save_results\n",
    "from qiskit.compiler import transpile\n",
    "from qiskit.providers.ibmq.managed import IBMQJobManager\n",
    "from qiskit.providers.aer.noise import NoiseModel\n",
    "from QuantumTomography import RandomUnitary"
   ]
  },
  {
   "cell_type": "code",
   "execution_count": 2,
   "metadata": {},
   "outputs": [],
   "source": [
    "IBMQ.load_account()\n",
    "# provider = IBMQ.get_provider(hub='ibm-q', group='open', project='main')\n",
    "provider = IBMQ.get_provider(hub='ibm-q-research-2', group='csic-1', project='main')"
   ]
  },
  {
   "cell_type": "code",
   "execution_count": 3,
   "metadata": {},
   "outputs": [],
   "source": [
    "backend = provider.get_backend('ibm_nairobi')\n",
    "simulator = Aer.get_backend('aer_simulator')\n",
    "noise_model = NoiseModel.from_backend(backend)\n",
    "job_manager = IBMQJobManager()\n"
   ]
  },
  {
   "cell_type": "code",
   "execution_count": 4,
   "metadata": {},
   "outputs": [],
   "source": [
    "# 0-1-2\n",
    "#   3\n",
    "# 4-5-6\n",
    "\n",
    "parall_qubits_all = [   [(1,3)],\n",
    "                    [(3,5)],\n",
    "                    [(0,3)],\n",
    "                    [(2,3)],\n",
    "                    [(3,4)],\n",
    "                    [(3,6)],\n",
    "                    ] "
   ]
  },
  {
   "cell_type": "code",
   "execution_count": 5,
   "metadata": {},
   "outputs": [],
   "source": [
    "# print( backend.name() )\n",
    "# for j in range(5):\n",
    "#     print( 'try ', j )\n",
    "#     for parall_qubits in parall_qubits_all :\n",
    "#         qndmt = device_process_measurement_tomography( backend, parall_qubits=[parall_qubits] )\n",
    "#         circuits_qndmt = qndmt.circuits()\n",
    "#         job = job_manager.run( transpile( circuits_qndmt, backend ) , backend=backend, shots=2**13 )\n",
    "#         job_id = job.job_set_id()\n",
    "#         print( job_id )"
   ]
  },
  {
   "cell_type": "code",
   "execution_count": 6,
   "metadata": {},
   "outputs": [],
   "source": [
    "# ibm_lagos\n",
    "# try 1 good\n",
    "# 'da8e16ea5bd3495188ee2d1c0ea6c643-166250463225726',\n",
    "# 'b86876eb77b24a17b38e7891fd0b0d74-1662504635643602',\n",
    "# '8318ed4ecbd24beca0ecd01c9b4dbdee-16625046389304116',\n",
    "# '98a3b971069549ea956a3907cf7905f9-16625046423653195',\n",
    "# 'b16d40ca0b1542d5bbabf4d7a72ee562-16625046457092187',\n",
    "# '1d74ff22f4d44f94bfff1f20b60d588a-16625046490846372'\n",
    "# try 2\n",
    "# 6a07bcb4d6824823b8bbc44162c0af44-16638019765235069\n",
    "# dc4d8c470c5246e0b521ebbcf08ea1af-16638019803554642\n",
    "# e1970f1afd1c471cbb8e88db232ff8ea-16638019839696832\n",
    "# 954d89487d4346daaa9ef863e3b61a1c-16638019875378263\n",
    "# 0a8e1f5a820b4c62bafc88ea7c7294b3-1663801991228174\n",
    "# 3ea4e381deb14215b6e4d332525c6443-16638019951631215\n",
    "# try 3\n",
    "# d60e960169f34b018cc3c82166059add-16638020101953256\n",
    "# f0b9ba762fc1449a9cd501259ae9b89d-166380201400181\n",
    "# 747d5e3c2d2848ad9fdb26cfbd2fa6fa-16638020177348197\n",
    "# d13f7d6870994e2e9d1e86c97e892b3c-16638020217573638\n",
    "# cbf541baf786412aadfe8aaf0d813dd4-16638020250914996\n",
    "# 1e5d9fe95e724fcbbc4724d84c84c6f2-1663802028890298\n",
    "# try 4\n",
    "# 39744415cf094561b366df8ad3fd5647-16638020570513034\n",
    "# cc939cb885014956b211f2f185084e99-16638020609091\n",
    "# 0b8f6f8ab1124d7998b63d1f793efaa5-16638020645882363\n",
    "# 042e40226ad34da3ad033d7216a66f83-16638020679859169\n",
    "# 139750d555ea47d696fab3ad18f036a9-16638020719078918\n",
    "# f3ac438091c542858aef46117146a426-1663802075937487\n",
    "# try 5\n",
    "# b2fde4ae0d744076b69917ed4cc4528d-16638021103086042\n",
    "# 7cfe7f60bdc844fe9d91c3029788bd3b-1663802114219709\n",
    "# df76d0f90b744676815b052cd2538797-16638021181812916\n",
    "# 36292cde76154a358f4473e50eb990db-16638021221160228\n",
    "# f96626906f7c410fa04dc16f4f76f442-16638021257954683\n",
    "# b1444d28a5e64eeb8ee2fc7178bc16f5-1663802129771422\n",
    "\n",
    "# ibm_perth\n",
    "# try  0\n",
    "# c10eb902783d4342ac4fbc41742b0b85-1663802231437376\n",
    "# 3c8b6af2bab64fdd907a9cfb9b043023-16638022349227884\n",
    "# 5fe91ab3fbde4b4e91f8955eafe408d7-16638022388461673\n",
    "# 7589521511ac4fc4830f9feb2513a003-16638022426570373\n",
    "# b848107fc91b498280b3627f27b92905-16638022462147093\n",
    "# ea697423fcad4bfe8692d72b99f4f31e-16638022500467658\n",
    "# try  1\n",
    "# 2f1dde70ee454f6a9f3f9d446aa1c07a-16638022538207848\n",
    "# a76e4a3472ed4827af0302ee984e0cb8-166380225734584\n",
    "# bfc007aac0b2446c872bd2dae81bc87d-16638022609695928\n",
    "# f295327610644e26b23509e8587a13a5-16638022646099842\n",
    "# ba4c31f42b8b447eb6d6630d464a1ae8-16638022684624174\n",
    "# 8ac1f55094ae437dbc6cec5251d866f9-16638022724024894\n",
    "# try  2\n",
    "# c9c4b1ed2e5647099878745299f68338-16638022764354973\n",
    "# 56110c16d5884800a6ebd79508d1b284-16638022802469387\n",
    "# 77c15599e6ee48a484216ca7eff28870-16638022836758497\n",
    "# 6cef25061a124fbf8a420f712d13e651-16638022875493615\n",
    "# 42f19a09cf2f46aa916c934ece1ecfcd-16638022913829644\n",
    "# fbeeeb124968472e8b29f112dd44c3a9-16638022951443954\n",
    "# try  3\n",
    "# de57b17bef3f492e804adbb8eff05c40-16638022983345613\n",
    "# fc3ab53e5a6643628f29384c256cad3b-1663802302040549\n",
    "# 217fab595e9d42d8b51db7ee27ace675-16638023057646246\n",
    "# 57472a4b13b2439b8fcd65b584f3ed9f-16638023096108675\n",
    "# c9beb7ab2c244bd5bdd4e3f3d7f5c313-16638023129848697\n",
    "# 0d00308233fb41d4bf7f3f0f7fbf0dbc-16638023167180457\n",
    "# try  4\n",
    "# 161b50a598b54f34b043a55382ad3522-16638023199155586\n",
    "# 656f71f5b22349f8942b422665c2670d-16638023236872547\n",
    "# 2c1c9fe4df2c4861b1e3c52a1e806b1d-166380232744101\n",
    "# 3f80a9e4e3ad46c78d5008e00e6c7503-16638023306367805\n",
    "# 8ed8421fc5fb43cb867671e855fe1f8e-16638023345802271\n",
    "# c4edb2d1db814a3cb608a7658b8527bb-16638023378036091\n",
    "\n",
    "# ibm_nairobi\n",
    "# try  0\n",
    "# 187ae90a061640cfb40dc8229bcbf3ad-1663802395511434\n",
    "# 060a290584a944178c934b3588dc1d1f-1663802399176828\n",
    "# 954721001f034491a2eb5fd83f68b691-16638024028774323\n",
    "# cf329a261d4c4fb793153400f8875d6f-16638024064897425\n",
    "# 22eff662dd7d473a8c86b7362b0086c8-16638024101245496\n",
    "# 6b1683069978466394b50e7347a36c19-16638024140319948\n",
    "# try  1\n",
    "# f002370a99b2487880cac1fb226fb715-16638024177353022\n",
    "# 25f984235a454305bfecb5d0ab02b5c1-16638024213656855\n",
    "# bcc37b84a1734e79acb20d79ae368ccf-166380242501072\n",
    "# d119a2f2649e420cb2da2b121e741e8e-16638024286592333\n",
    "# 58009fa2ff854d08809cd5628c4360eb-16638024324291532\n",
    "# 16193804d12d4ba3b2d45b4f1d99b890-1663802435580057\n",
    "# try  2\n",
    "# b5aeab6008214369b0693342f110870c-1663802439253068\n",
    "# 82845e7cf5084eaea827e280b1e108c9-16638024429997702\n",
    "# d06f0224ebaf40749a37118c45dcd85a-16638024464428256\n",
    "# 80de81f2a60e4836aa372b1bf85bc74d-16638024494782994\n",
    "# b6f7bbe202e64d069d94f36d0767bb20-16638024530121164\n",
    "# d519ba85376646aeb2b4c9c2ecf61307-1663802456644615\n",
    "# try  3\n",
    "# 16906753baeb4e2f9f27853048a63066-16638024607119162\n",
    "# c7c4814ab19a48fcbb2a062547e707c8-1663802463896988\n",
    "# c26b0e2b3f1c46f2b00015cb7c5e491d-16638024675619767\n",
    "# 978fba0b2fa64089bf15bc9a4e997efd-16638024708499184\n",
    "# 70f20dc09392475088ec191de1ea3b65-16638024744898114\n",
    "# c90eb5390de449ce93b38118e423d023-16638024781195762\n",
    "# try  4\n",
    "# 12d97452a4f6408385ecfabca50420c0-1663802481286363\n",
    "# ebccaf9f7d104a1994d346c6c37b85b8-16638024849566586\n",
    "# c4a5c4950a5145bd8cbc6f1e12637c03-1663802488076608\n",
    "# 9c34608c079c4f999fafe195c4b1053f-16638024921629796\n",
    "# 4fcebf9fb49e46c2976e3d8278d35b77-1663802495884338\n",
    "# a998a304981a465588814cabda6bdde5-1663802498969416"
   ]
  },
  {
   "cell_type": "code",
   "execution_count": 7,
   "metadata": {},
   "outputs": [],
   "source": [
    "# ibm_perth\n",
    "# job_ids = [\n",
    "#     ['c10eb902783d4342ac4fbc41742b0b85-1663802231437376',\n",
    "#     '3c8b6af2bab64fdd907a9cfb9b043023-16638022349227884',\n",
    "#     '5fe91ab3fbde4b4e91f8955eafe408d7-16638022388461673',\n",
    "#     '7589521511ac4fc4830f9feb2513a003-16638022426570373',\n",
    "#     'b848107fc91b498280b3627f27b92905-16638022462147093',\n",
    "#     'ea697423fcad4bfe8692d72b99f4f31e-16638022500467658'],\n",
    "#     ['2f1dde70ee454f6a9f3f9d446aa1c07a-16638022538207848',\n",
    "#     'a76e4a3472ed4827af0302ee984e0cb8-166380225734584',\n",
    "#     'bfc007aac0b2446c872bd2dae81bc87d-16638022609695928',\n",
    "#     'f295327610644e26b23509e8587a13a5-16638022646099842',\n",
    "#     'ba4c31f42b8b447eb6d6630d464a1ae8-16638022684624174',\n",
    "#     '8ac1f55094ae437dbc6cec5251d866f9-16638022724024894'],\n",
    "#     ['c9c4b1ed2e5647099878745299f68338-16638022764354973',\n",
    "#     '56110c16d5884800a6ebd79508d1b284-16638022802469387',\n",
    "#     '77c15599e6ee48a484216ca7eff28870-16638022836758497',\n",
    "#     '6cef25061a124fbf8a420f712d13e651-16638022875493615',\n",
    "#     '42f19a09cf2f46aa916c934ece1ecfcd-16638022913829644',\n",
    "#     'fbeeeb124968472e8b29f112dd44c3a9-16638022951443954'],\n",
    "#     ['de57b17bef3f492e804adbb8eff05c40-16638022983345613',\n",
    "#     'fc3ab53e5a6643628f29384c256cad3b-1663802302040549',\n",
    "#     '217fab595e9d42d8b51db7ee27ace675-16638023057646246',\n",
    "#     '57472a4b13b2439b8fcd65b584f3ed9f-16638023096108675',\n",
    "#     'c9beb7ab2c244bd5bdd4e3f3d7f5c313-16638023129848697',\n",
    "#     '0d00308233fb41d4bf7f3f0f7fbf0dbc-16638023167180457'],\n",
    "#     ['161b50a598b54f34b043a55382ad3522-16638023199155586',\n",
    "#     '656f71f5b22349f8942b422665c2670d-16638023236872547',\n",
    "#     '2c1c9fe4df2c4861b1e3c52a1e806b1d-166380232744101',\n",
    "#     '3f80a9e4e3ad46c78d5008e00e6c7503-16638023306367805',\n",
    "#     '8ed8421fc5fb43cb867671e855fe1f8e-16638023345802271',\n",
    "#     'c4edb2d1db814a3cb608a7658b8527bb-16638023378036091'],\n",
    "#     ]"
   ]
  },
  {
   "cell_type": "code",
   "execution_count": 8,
   "metadata": {},
   "outputs": [],
   "source": [
    "# ibm_lagos\n",
    "job_ids = [\n",
    "['da8e16ea5bd3495188ee2d1c0ea6c643-166250463225726',\n",
    "'b86876eb77b24a17b38e7891fd0b0d74-1662504635643602',\n",
    "'8318ed4ecbd24beca0ecd01c9b4dbdee-16625046389304116',\n",
    "'98a3b971069549ea956a3907cf7905f9-16625046423653195',\n",
    "'b16d40ca0b1542d5bbabf4d7a72ee562-16625046457092187',\n",
    "'1d74ff22f4d44f94bfff1f20b60d588a-16625046490846372'],\n",
    "['6a07bcb4d6824823b8bbc44162c0af44-16638019765235069',\n",
    "'dc4d8c470c5246e0b521ebbcf08ea1af-16638019803554642',\n",
    "'e1970f1afd1c471cbb8e88db232ff8ea-16638019839696832',\n",
    "'954d89487d4346daaa9ef863e3b61a1c-16638019875378263',\n",
    "'0a8e1f5a820b4c62bafc88ea7c7294b3-1663801991228174',\n",
    "'3ea4e381deb14215b6e4d332525c6443-16638019951631215'],\n",
    "['d60e960169f34b018cc3c82166059add-16638020101953256',\n",
    "'f0b9ba762fc1449a9cd501259ae9b89d-166380201400181',\n",
    "'747d5e3c2d2848ad9fdb26cfbd2fa6fa-16638020177348197',\n",
    "'d13f7d6870994e2e9d1e86c97e892b3c-16638020217573638',\n",
    "'cbf541baf786412aadfe8aaf0d813dd4-16638020250914996',\n",
    "'1e5d9fe95e724fcbbc4724d84c84c6f2-1663802028890298'],\n",
    "['39744415cf094561b366df8ad3fd5647-16638020570513034',\n",
    "'cc939cb885014956b211f2f185084e99-16638020609091',\n",
    "'0b8f6f8ab1124d7998b63d1f793efaa5-16638020645882363',\n",
    "'042e40226ad34da3ad033d7216a66f83-16638020679859169',\n",
    "'139750d555ea47d696fab3ad18f036a9-16638020719078918',\n",
    "'f3ac438091c542858aef46117146a426-1663802075937487'],\n",
    "['b2fde4ae0d744076b69917ed4cc4528d-16638021103086042',\n",
    "'7cfe7f60bdc844fe9d91c3029788bd3b-1663802114219709',\n",
    "'df76d0f90b744676815b052cd2538797-16638021181812916',\n",
    "'36292cde76154a358f4473e50eb990db-16638021221160228',\n",
    "'f96626906f7c410fa04dc16f4f76f442-16638021257954683',\n",
    "'b1444d28a5e64eeb8ee2fc7178bc16f5-1663802129771422']\n",
    "]"
   ]
  },
  {
   "cell_type": "code",
   "execution_count": 9,
   "metadata": {},
   "outputs": [
    {
     "name": "stdout",
     "output_type": "stream",
     "text": [
      "[<JobStatus.DONE: 'job has successfully run'>]\n",
      "[<JobStatus.DONE: 'job has successfully run'>]\n",
      "[<JobStatus.DONE: 'job has successfully run'>]\n",
      "[<JobStatus.DONE: 'job has successfully run'>]\n",
      "[<JobStatus.DONE: 'job has successfully run'>]\n",
      "[<JobStatus.DONE: 'job has successfully run'>]\n",
      "[<JobStatus.DONE: 'job has successfully run'>]\n",
      "[<JobStatus.DONE: 'job has successfully run'>]\n",
      "[<JobStatus.DONE: 'job has successfully run'>]\n",
      "[<JobStatus.DONE: 'job has successfully run'>]\n",
      "[<JobStatus.DONE: 'job has successfully run'>]\n",
      "[<JobStatus.DONE: 'job has successfully run'>]\n",
      "[<JobStatus.DONE: 'job has successfully run'>]\n",
      "[<JobStatus.DONE: 'job has successfully run'>]\n",
      "[<JobStatus.DONE: 'job has successfully run'>]\n",
      "[<JobStatus.DONE: 'job has successfully run'>]\n",
      "[<JobStatus.DONE: 'job has successfully run'>]\n",
      "[<JobStatus.DONE: 'job has successfully run'>]\n",
      "[<JobStatus.DONE: 'job has successfully run'>]\n",
      "[<JobStatus.DONE: 'job has successfully run'>]\n",
      "[<JobStatus.DONE: 'job has successfully run'>]\n",
      "[<JobStatus.DONE: 'job has successfully run'>]\n",
      "[<JobStatus.DONE: 'job has successfully run'>]\n",
      "[<JobStatus.DONE: 'job has successfully run'>]\n",
      "[<JobStatus.DONE: 'job has successfully run'>]\n",
      "[<JobStatus.DONE: 'job has successfully run'>]\n",
      "[<JobStatus.DONE: 'job has successfully run'>]\n",
      "[<JobStatus.DONE: 'job has successfully run'>]\n",
      "[<JobStatus.DONE: 'job has successfully run'>]\n",
      "[<JobStatus.DONE: 'job has successfully run'>]\n"
     ]
    }
   ],
   "source": [
    "for jobs in job_ids:\n",
    "    for job_str in jobs:\n",
    "        job = job_manager.retrieve_job_set( job_str, provider )\n",
    "        print( job.statuses() )"
   ]
  },
  {
   "cell_type": "code",
   "execution_count": 10,
   "metadata": {},
   "outputs": [],
   "source": [
    "results_tomo_mc = []\n",
    "\n",
    "for job_id in job_ids:\n",
    "\n",
    "    results_tomo = []\n",
    "\n",
    "    for j in range(len(job_id)) :\n",
    "        qndmt = device_process_measurement_tomography( backend, parall_qubits=[parall_qubits_all[j]] )\n",
    "        circuits_qndmt = qndmt.circuits()\n",
    "\n",
    "        job = job_manager.retrieve_job_set( job_id[j], provider )\n",
    "        results = job.results().combine_results()\n",
    "        save_results(results , 'data_correlations/')\n",
    "        results_tomo.append( qndmt.fit( results, paralell=True, gate_set=True )  )\n",
    "\n",
    "    results_tomo_mc.append( results_tomo )\n"
   ]
  },
  {
   "cell_type": "code",
   "execution_count": 21,
   "metadata": {},
   "outputs": [
    {
     "data": {
      "text/plain": [
       "array([[ 0.98389298+0.j        ,  0.01610727+0.j        ],\n",
       "       [ 0.00191048+0.00063982j, -0.00191038-0.00063901j],\n",
       "       [ 0.00191048-0.00063982j, -0.00191038+0.00063901j],\n",
       "       [ 0.00782761+0.j        ,  0.99217214+0.j        ]])"
      ]
     },
     "execution_count": 21,
     "metadata": {},
     "output_type": "execute_result"
    }
   ],
   "source": [
    "results_tomo_mc[0][0].single.povms[0]"
   ]
  },
  {
   "cell_type": "code",
   "execution_count": 37,
   "metadata": {},
   "outputs": [],
   "source": [
    "quantities_mc = []\n",
    "correlations_mc = []\n",
    "for k in range(5):\n",
    "    quantities = []\n",
    "    correlations = []\n",
    "    for j in range(6) :\n",
    "        chois_single = results_tomo_mc[k][j].single.chois \n",
    "        povms_single = results_tomo_mc[k][j].single.povms\n",
    "        chois_double = results_tomo_mc[0][0].double[0].chois\n",
    "        povms_double = results_tomo_mc[0][0].double[0].povms\n",
    "\n",
    "        Qs = [ Quantities( povms_single[0], chois_single[0]  ),\n",
    "                Quantities( povms_single[1], chois_single[1] ),\n",
    "                Quantities( povms_double[0], chois_double[0]  ) ]\n",
    "\n",
    "        quantities.append( Qs )\n",
    "\n",
    "        Qs = Cross_Quantities( povms_single[0], chois_single[0],\n",
    "                                povms_single[1], chois_single[1],\n",
    "                                povms_double[0], chois_double[0]\n",
    "                            )\n",
    "        correlations.append( Qs )\n",
    "    quantities_mc.append( quantities )\n",
    "    correlations_mc.append( correlations )"
   ]
  },
  {
   "cell_type": "code",
   "execution_count": 45,
   "metadata": {},
   "outputs": [
    {
     "data": {
      "text/plain": [
       "array([[0.99026318, 0.9808522 , 0.98839861],\n",
       "       [0.98993855, 0.98131192, 0.98780591],\n",
       "       [0.96736749, 0.94345394, 0.97331478]])"
      ]
     },
     "execution_count": 45,
     "metadata": {},
     "output_type": "execute_result"
    }
   ],
   "source": [
    "FF[0]"
   ]
  },
  {
   "cell_type": "code",
   "execution_count": 44,
   "metadata": {},
   "outputs": [
    {
     "data": {
      "image/png": "[encoded data removed]",
      "text/plain": [
       "<Figure size 432x288 with 1 Axes>"
      ]
     },
     "metadata": {
      "needs_background": "light"
     },
     "output_type": "display_data"
    }
   ],
   "source": [
    "FF = np.mean( quantities_mc, axis=0 )\n",
    "for j in range(6):\n",
    "    plt.plot( FF[j], '-o' )"
   ]
  },
  {
   "cell_type": "code",
   "execution_count": 28,
   "metadata": {},
   "outputs": [
    {
     "data": {
      "text/plain": [
       "(array([0.11003758, 0.21325673]), array([0.11104342, 0.22153112]))"
      ]
     },
     "execution_count": 28,
     "metadata": {},
     "output_type": "execute_result"
    }
   ],
   "source": [
    "idx = 4\n",
    "dist_1 = np.mean( np.mean(correlations_mc,0)[:2,:], axis=0 )\n",
    "dist_2 = np.mean( np.mean(correlations_mc,0)[2:,:], axis=0 )\n",
    "dist_1, dist_2"
   ]
  },
  {
   "cell_type": "code",
   "execution_count": 46,
   "metadata": {},
   "outputs": [],
   "source": [
    "F = np.mean(correlations_mc,0)\n",
    "DF = np.std(correlations_mc,0)"
   ]
  },
  {
   "cell_type": "code",
   "execution_count": 48,
   "metadata": {},
   "outputs": [
    {
     "data": {
      "text/plain": [
       "<matplotlib.legend.Legend at 0x211d64ddf40>"
      ]
     },
     "execution_count": 48,
     "metadata": {},
     "output_type": "execute_result"
    },
    {
     "data": {
      "image/png": "[encoded data removed]",
      "text/plain": [
       "<Figure size 432x288 with 1 Axes>"
      ]
     },
     "metadata": {
      "needs_background": "light"
     },
     "output_type": "display_data"
    }
   ],
   "source": [
    "# plt.semilogy(  np.mean(correlations_mc,0), '--o', label=[ 'C[F]', 'C[Q]' ] )\n",
    "for j in range(2):\n",
    "    plt.errorbar( range(6), F[:,j], yerr=DF[:,j] )\n",
    "plt.hlines( dist_1, -0.2, 1.2, 'g', label='Mean d=1' )\n",
    "plt.hlines( dist_2, 1.8, 5.2, 'y', label='Mean d=2' )\n",
    "plt.xticks( range(6), labels=['(1,3)', '(3,5)', '(0,3)',\n",
    "                              '(2,3)', '(3,4)', '(3,6)']);\n",
    "plt.legend( )\n",
    "# plt.savefig('fig_correlations_second_neighbors.png') "
   ]
  },
  {
   "cell_type": "code",
   "execution_count": null,
   "metadata": {},
   "outputs": [],
   "source": [
    "# sum | Y0xY1 - Y01 | / | Y0xY1 | "
   ]
  },
  {
   "cell_type": "code",
   "execution_count": 50,
   "metadata": {},
   "outputs": [
    {
     "data": {
      "text/plain": [
       "(array([[0.10780071, 0.20961878],\n",
       "        [0.11227445, 0.21689468],\n",
       "        [0.10635674, 0.23358895],\n",
       "        [0.11607015, 0.2195626 ],\n",
       "        [0.11316005, 0.21096287],\n",
       "        [0.10858671, 0.22201005]]),\n",
       " array([[0.00965807, 0.01888079],\n",
       "        [0.02509978, 0.03453852],\n",
       "        [0.01023018, 0.02737227],\n",
       "        [0.01568815, 0.011104  ],\n",
       "        [0.00396872, 0.01046523],\n",
       "        [0.01054774, 0.01612686]]))"
      ]
     },
     "execution_count": 50,
     "metadata": {},
     "output_type": "execute_result"
    }
   ],
   "source": [
    "F, DF"
   ]
  },
  {
   "cell_type": "code",
   "execution_count": null,
   "metadata": {},
   "outputs": [],
   "source": [
    "0-1-2\n",
    "  3\n",
    "4-5-6"
   ]
  },
  {
   "cell_type": "code",
   "execution_count": null,
   "metadata": {},
   "outputs": [],
   "source": []
  }
 ],
 "metadata": {
  "kernelspec": {
   "display_name": "Python 3.9.5 ('base')",
   "language": "python",
   "name": "python3"
  },
  "language_info": {
   "codemirror_mode": {
    "name": "ipython",
    "version": 3
   },
   "file_extension": ".py",
   "mimetype": "text/x-python",
   "name": "python",
   "nbconvert_exporter": "python",
   "pygments_lexer": "ipython3",
   "version": "3.9.5"
  },
  "orig_nbformat": 4,
  "vscode": {
   "interpreter": {
    "hash": "cda8d9f3af62c123a40166c789fd00a9f9e68094ffd9b43f4f632544febced4e"
   }
  }
 },
 "nbformat": 4,
 "nbformat_minor": 2
}
