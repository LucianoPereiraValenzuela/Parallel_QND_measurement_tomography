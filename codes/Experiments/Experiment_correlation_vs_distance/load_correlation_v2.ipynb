{
 "cells": [
  {
   "cell_type": "code",
   "execution_count": 1,
   "metadata": {},
   "outputs": [],
   "source": [
    "import sys\n",
    "\n",
    "sys.path.append('../../')\n",
    "\n",
    "import numpy as np\n",
    "from qiskit import IBMQ, Aer\n",
    "import matplotlib.pyplot as plt\n",
    "from main import device_process_measurement_tomography, Quantities, Cross_Quantities, DiamondNorm, Kron_Choi\n",
    "from utils_qiskit import results2dict, save_results\n",
    "from qiskit.compiler import transpile\n",
    "from qiskit.providers.ibmq.managed import IBMQJobManager\n",
    "from QuantumTomography import RandomUnitary"
   ]
  },
  {
   "cell_type": "code",
   "execution_count": 2,
   "metadata": {},
   "outputs": [],
   "source": [
    "IBMQ.load_account()\n",
    "# provider = IBMQ.get_provider(hub='ibm-q', group='open', project='main')\n",
    "provider = IBMQ.get_provider(hub='ibm-q-research-2', group='csic-1', project='main')"
   ]
  },
  {
   "cell_type": "code",
   "execution_count": 3,
   "metadata": {},
   "outputs": [],
   "source": [
    "backend = provider.get_backend('ibm_nairobi')\n",
    "simulator = Aer.get_backend('aer_simulator')\n",
    "job_manager = IBMQJobManager()\n"
   ]
  },
  {
   "cell_type": "code",
   "execution_count": 4,
   "metadata": {},
   "outputs": [],
   "source": [
    "# 0-1-2\n",
    "#   3\n",
    "# 4-5-6\n",
    "\n",
    "parall_qubits_all = [   [(1,3)],\n",
    "                    [(3,5)],\n",
    "                    [(0,3)],\n",
    "                    [(2,3)],\n",
    "                    [(3,4)],\n",
    "                    [(3,6)],\n",
    "                    ] "
   ]
  },
  {
   "cell_type": "code",
   "execution_count": 5,
   "metadata": {},
   "outputs": [],
   "source": [
    "# ibm_perth\n",
    "job_ids = [\n",
    "    ['c10eb902783d4342ac4fbc41742b0b85-1663802231437376',\n",
    "    '3c8b6af2bab64fdd907a9cfb9b043023-16638022349227884',\n",
    "    '5fe91ab3fbde4b4e91f8955eafe408d7-16638022388461673',\n",
    "    '7589521511ac4fc4830f9feb2513a003-16638022426570373',\n",
    "    'b848107fc91b498280b3627f27b92905-16638022462147093',\n",
    "    'ea697423fcad4bfe8692d72b99f4f31e-16638022500467658'],\n",
    "    ['2f1dde70ee454f6a9f3f9d446aa1c07a-16638022538207848',\n",
    "    'a76e4a3472ed4827af0302ee984e0cb8-166380225734584',\n",
    "    'bfc007aac0b2446c872bd2dae81bc87d-16638022609695928',\n",
    "    'f295327610644e26b23509e8587a13a5-16638022646099842',\n",
    "    'ba4c31f42b8b447eb6d6630d464a1ae8-16638022684624174',\n",
    "    '8ac1f55094ae437dbc6cec5251d866f9-16638022724024894'],\n",
    "    ['c9c4b1ed2e5647099878745299f68338-16638022764354973',\n",
    "    '56110c16d5884800a6ebd79508d1b284-16638022802469387',\n",
    "    '77c15599e6ee48a484216ca7eff28870-16638022836758497',\n",
    "    '6cef25061a124fbf8a420f712d13e651-16638022875493615',\n",
    "    '42f19a09cf2f46aa916c934ece1ecfcd-16638022913829644',\n",
    "    'fbeeeb124968472e8b29f112dd44c3a9-16638022951443954'],\n",
    "    ['de57b17bef3f492e804adbb8eff05c40-16638022983345613',\n",
    "    'fc3ab53e5a6643628f29384c256cad3b-1663802302040549',\n",
    "    '217fab595e9d42d8b51db7ee27ace675-16638023057646246',\n",
    "    '57472a4b13b2439b8fcd65b584f3ed9f-16638023096108675',\n",
    "    'c9beb7ab2c244bd5bdd4e3f3d7f5c313-16638023129848697',\n",
    "    '0d00308233fb41d4bf7f3f0f7fbf0dbc-16638023167180457'],\n",
    "    ['161b50a598b54f34b043a55382ad3522-16638023199155586',\n",
    "    '656f71f5b22349f8942b422665c2670d-16638023236872547',\n",
    "    '2c1c9fe4df2c4861b1e3c52a1e806b1d-166380232744101',\n",
    "    '3f80a9e4e3ad46c78d5008e00e6c7503-16638023306367805',\n",
    "    '8ed8421fc5fb43cb867671e855fe1f8e-16638023345802271',\n",
    "    'c4edb2d1db814a3cb608a7658b8527bb-16638023378036091'],\n",
    "    ]"
   ]
  },
  {
   "cell_type": "code",
   "execution_count": 7,
   "metadata": {},
   "outputs": [],
   "source": [
    "results_tomo_mc = []\n",
    "\n",
    "for job_id in job_ids:\n",
    "\n",
    "    results_tomo = []\n",
    "\n",
    "    for j in range(len(job_id)) :                                                  \n",
    "        qndmt = device_process_measurement_tomography( backend, parall_qubits=[parall_qubits_all[j]] )\n",
    "        circuits_qndmt = qndmt.circuits()                                         \n",
    "    \n",
    "        job = job_manager.retrieve_job_set( job_id[j], provider )                  \n",
    "        results = job.results().combine_results()                                 \n",
    "        save_results( results, name = job_id[j], folder = 'data_correlations')     \n",
    "        results_tomo_temp = qndmt.fit( results, paralell=True, gate_set=True, Func=2 )\n",
    "        np.save( 'data_correlations/results_tomography_v2_'+job_id[j], np.array(results_tomo_temp, dtype=object) )\n",
    "        results_tomo.append( results_tomo_temp )  \n",
    "\n",
    "    results_tomo_mc.append( results_tomo )   "
   ]
  },
  {
   "cell_type": "code",
   "execution_count": null,
   "metadata": {},
   "outputs": [],
   "source": [
    "np.save( 'data_correlations/results_tomography_v2', np.array(results_tomo_mc, dtype=object) )"
   ]
  },
  {
   "cell_type": "code",
   "execution_count": null,
   "metadata": {},
   "outputs": [],
   "source": [
    "results_tomo_mc = np.load('data_correlations/results_tomography_v2.npy', allow_pickle=True )"
   ]
  },
  {
   "cell_type": "code",
   "execution_count": null,
   "metadata": {},
   "outputs": [],
   "source": [
    "correlations_mc = []\n",
    "for k in range(5):\n",
    "    quantities = []\n",
    "    correlations = []\n",
    "    for j in range(6) :\n",
    "        f0, f1, fc, fd = results_tomo_mc[k][j].all_quantities( [parall_qubits_all[j]] )\n",
    "        correlations.append( [fd[0][0], fd[0][1], fc[0][0], fc[0][1]] )\n",
    "    correlations_mc.append( correlations )"
   ]
  },
  {
   "cell_type": "code",
   "execution_count": null,
   "metadata": {},
   "outputs": [
    {
     "data": {
      "text/plain": [
       "[0.005483177451338195,\n",
       " 0.007828998124158826,\n",
       " 0.010661805642491128,\n",
       " 0.00828434912567991]"
      ]
     },
     "execution_count": 12,
     "metadata": {},
     "output_type": "execute_result"
    }
   ],
   "source": [
    "correlations_mc[0][0]"
   ]
  },
  {
   "cell_type": "code",
   "execution_count": null,
   "metadata": {},
   "outputs": [],
   "source": [
    "F = np.mean(correlations_mc,0)\n",
    "DF = np.std(correlations_mc,0)"
   ]
  },
  {
   "cell_type": "code",
   "execution_count": null,
   "metadata": {},
   "outputs": [
    {
     "data": {
      "text/plain": [
       "array([[0.00519772, 0.00766168, 0.01077496, 0.00799151],\n",
       "       [0.00130275, 0.00327884, 0.00737309, 0.00771915],\n",
       "       [0.00103193, 0.00309432, 0.0078941 , 0.01289572],\n",
       "       [0.00169457, 0.00396799, 0.00741726, 0.01018673],\n",
       "       [0.00167368, 0.00243832, 0.008     , 0.010389  ],\n",
       "       [0.00113421, 0.00172981, 0.00775422, 0.0077334 ]])"
      ]
     },
     "execution_count": 14,
     "metadata": {},
     "output_type": "execute_result"
    }
   ],
   "source": [
    "F"
   ]
  },
  {
   "cell_type": "code",
   "execution_count": null,
   "metadata": {},
   "outputs": [],
   "source": [
    "plt.rcParams.update({\n",
    "    \"text.usetex\": True,\n",
    "    \"font.family\": \"sans-serif\",\n",
    "    \"font.size\"  : 22,\n",
    "    \"font.sans-serif\": [\"Helvetica\"]})"
   ]
  },
  {
   "cell_type": "code",
   "execution_count": null,
   "metadata": {},
   "outputs": [
    {
     "data": {
      "image/png": "[encoded data removed]",
      "text/plain": [
       "<Figure size 432x288 with 1 Axes>"
      ]
     },
     "metadata": {
      "needs_background": "light"
     },
     "output_type": "display_data"
    }
   ],
   "source": [
    "qubits_order = [  2, 0, 3, 4, 1, 5 ]\n",
    "plt.errorbar( x=range(6), y=F[qubits_order,0], yerr=DF[qubits_order,0], fmt='-o', capsize=5, color='tab:green' )\n",
    "plt.errorbar( x=range(6), y=F[qubits_order,1], yerr=DF[qubits_order,1], fmt='-o', capsize=5, color='tab:orange' )\n",
    "plt.errorbar( x=range(6), y=F[qubits_order,2], yerr=DF[qubits_order,2], fmt='-o', capsize=5, color='tab:purple' )\n",
    "plt.errorbar( x=range(6), y=F[qubits_order,3], yerr=DF[qubits_order,3], fmt='-o', capsize=5, color='tab:red' )\n",
    "plt.yscale('log')\n",
    "plt.ylim(bottom=4e-4)\n",
    "plt.xticks( range(6), labels=[ '$(0,3)$', '$(1,3)$', '$(2,3)$', '$(3,4)$', '$(3,5)$', '$(3,6)$' ])\n",
    "plt.grid()\n",
    "plt.text( 3.2, 6e-4, '$C[F]$', color='tab:green' )\n",
    "plt.text( 2.2, 5e-3, '$C[Q]$', color='tab:orange' )\n",
    "plt.text( 2.2, 1.2e-2, '$C[\\\\Upsilon]$', color='tab:red' )\n",
    "plt.text( 0.9, 1.4e-2, '$C[\\\\Pi]$', color='tab:purple' )\n",
    "plt.xlabel('pair of qubits index ($\\\\alpha,\\\\beta$)')\n",
    "plt.savefig('correlations_distance_3.png', bbox_inches='tight', transparent=True )\n",
    "plt.savefig('correlations_distance_3.svg', bbox_inches='tight', transparent=True )\n",
    "plt.savefig('correlations_distance_3.pdf', bbox_inches='tight', transparent=True )"
   ]
  },
  {
   "cell_type": "code",
   "execution_count": null,
   "metadata": {},
   "outputs": [],
   "source": []
  },
  {
   "cell_type": "code",
   "execution_count": null,
   "metadata": {},
   "outputs": [],
   "source": []
  },
  {
   "cell_type": "code",
   "execution_count": null,
   "metadata": {},
   "outputs": [],
   "source": []
  }
 ],
 "metadata": {
  "kernelspec": {
   "display_name": "Python 3.9.5 ('base')",
   "language": "python",
   "name": "python3"
  },
  "language_info": {
   "codemirror_mode": {
    "name": "ipython",
    "version": 3
   },
   "file_extension": ".py",
   "mimetype": "text/x-python",
   "name": "python",
   "nbconvert_exporter": "python",
   "pygments_lexer": "ipython3",
   "version": "3.9.5"
  },
  "orig_nbformat": 4,
  "vscode": {
   "interpreter": {
    "hash": "cda8d9f3af62c123a40166c789fd00a9f9e68094ffd9b43f4f632544febced4e"
   }
  }
 },
 "nbformat": 4,
 "nbformat_minor": 2
}
