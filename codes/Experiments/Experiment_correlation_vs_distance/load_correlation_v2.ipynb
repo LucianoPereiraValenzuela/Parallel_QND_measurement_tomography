{
 "cells": [
  {
   "cell_type": "code",
   "execution_count": 1,
   "metadata": {},
   "outputs": [],
   "source": [
    "import sys\n",
    "\n",
    "sys.path.append('../../')\n",
    "\n",
    "import numpy as np\n",
    "from qiskit import IBMQ, Aer\n",
    "import matplotlib.pyplot as plt\n",
    "from main import device_process_measurement_tomography, Quantities, Cross_Quantities, DiamondNorm, Kron_Choi\n",
    "from utils_qiskit import results2dict, save_results\n",
    "from qiskit.compiler import transpile\n",
    "from qiskit.providers.ibmq.managed import IBMQJobManager\n",
    "from QuantumTomography import RandomUnitary"
   ]
  },
  {
   "cell_type": "code",
   "execution_count": 2,
   "metadata": {},
   "outputs": [],
   "source": [
    "IBMQ.load_account()\n",
    "# provider = IBMQ.get_provider(hub='ibm-q', group='open', project='main')\n",
    "provider = IBMQ.get_provider(hub='ibm-q-research-2', group='csic-1', project='main')"
   ]
  },
  {
   "cell_type": "code",
   "execution_count": 3,
   "metadata": {},
   "outputs": [],
   "source": [
    "backend = provider.get_backend('ibm_nairobi')\n",
    "simulator = Aer.get_backend('aer_simulator')\n",
    "job_manager = IBMQJobManager()\n"
   ]
  },
  {
   "cell_type": "code",
   "execution_count": 4,
   "metadata": {},
   "outputs": [],
   "source": [
    "# 0-1-2\n",
    "#   3\n",
    "# 4-5-6\n",
    "\n",
    "parall_qubits_all = [   [(1,3)],\n",
    "                    [(3,5)],\n",
    "                    [(0,3)],\n",
    "                    [(2,3)],\n",
    "                    [(3,4)],\n",
    "                    [(3,6)],\n",
    "                    ] "
   ]
  },
  {
   "cell_type": "code",
   "execution_count": 5,
   "metadata": {},
   "outputs": [],
   "source": [
    "# ibm_lagos\n",
    "job_ids = [\n",
    "['da8e16ea5bd3495188ee2d1c0ea6c643-166250463225726',\n",
    "'b86876eb77b24a17b38e7891fd0b0d74-1662504635643602',\n",
    "'8318ed4ecbd24beca0ecd01c9b4dbdee-16625046389304116',\n",
    "'98a3b971069549ea956a3907cf7905f9-16625046423653195',\n",
    "'b16d40ca0b1542d5bbabf4d7a72ee562-16625046457092187',\n",
    "'1d74ff22f4d44f94bfff1f20b60d588a-16625046490846372'],\n",
    "['6a07bcb4d6824823b8bbc44162c0af44-16638019765235069',\n",
    "'dc4d8c470c5246e0b521ebbcf08ea1af-16638019803554642',\n",
    "'e1970f1afd1c471cbb8e88db232ff8ea-16638019839696832',\n",
    "'954d89487d4346daaa9ef863e3b61a1c-16638019875378263',\n",
    "'0a8e1f5a820b4c62bafc88ea7c7294b3-1663801991228174',\n",
    "'3ea4e381deb14215b6e4d332525c6443-16638019951631215'],\n",
    "['d60e960169f34b018cc3c82166059add-16638020101953256',\n",
    "'f0b9ba762fc1449a9cd501259ae9b89d-166380201400181',\n",
    "'747d5e3c2d2848ad9fdb26cfbd2fa6fa-16638020177348197',\n",
    "'d13f7d6870994e2e9d1e86c97e892b3c-16638020217573638',\n",
    "'cbf541baf786412aadfe8aaf0d813dd4-16638020250914996',\n",
    "'1e5d9fe95e724fcbbc4724d84c84c6f2-1663802028890298'],\n",
    "['39744415cf094561b366df8ad3fd5647-16638020570513034',\n",
    "'cc939cb885014956b211f2f185084e99-16638020609091',\n",
    "'0b8f6f8ab1124d7998b63d1f793efaa5-16638020645882363',\n",
    "'042e40226ad34da3ad033d7216a66f83-16638020679859169',\n",
    "'139750d555ea47d696fab3ad18f036a9-16638020719078918',\n",
    "'f3ac438091c542858aef46117146a426-1663802075937487'],\n",
    "['b2fde4ae0d744076b69917ed4cc4528d-16638021103086042',\n",
    "'7cfe7f60bdc844fe9d91c3029788bd3b-1663802114219709',\n",
    "'df76d0f90b744676815b052cd2538797-16638021181812916',\n",
    "'36292cde76154a358f4473e50eb990db-16638021221160228',\n",
    "'f96626906f7c410fa04dc16f4f76f442-16638021257954683',\n",
    "'b1444d28a5e64eeb8ee2fc7178bc16f5-1663802129771422']\n",
    "]"
   ]
  },
  {
   "cell_type": "code",
   "execution_count": 6,
   "metadata": {},
   "outputs": [],
   "source": [
    "results_tomo_mc = []\n",
    "\n",
    "for job_id in job_ids:\n",
    "\n",
    "    results_tomo = []\n",
    "\n",
    "    for j in range(len(job_id)) :                                                  \n",
    "        qndmt = device_process_measurement_tomography( backend, parall_qubits=[parall_qubits_all[j]] )\n",
    "        circuits_qndmt = qndmt.circuits()                                         \n",
    "    \n",
    "        job = job_manager.retrieve_job_set( job_id[j], provider )                  \n",
    "        results = job.results().combine_results()                                 \n",
    "        save_results( results, name = job_id[j], folder = 'data_correlations')     \n",
    "        results_tomo.append( qndmt.fit( results, paralell=True, gate_set=True ) )  \n",
    "\n",
    "    results_tomo_mc.append( results_tomo )   "
   ]
  },
  {
   "cell_type": "code",
   "execution_count": 7,
   "metadata": {},
   "outputs": [],
   "source": [
    "np.save( 'data_correlations/results_tomography', np.array(results_tomo_mc, dtype=object) )"
   ]
  },
  {
   "cell_type": "code",
   "execution_count": 8,
   "metadata": {},
   "outputs": [],
   "source": [
    "results_tomo_mc = np.load('data_correlations/results_tomography.npy', allow_pickle=True )"
   ]
  },
  {
   "cell_type": "code",
   "execution_count": 9,
   "metadata": {},
   "outputs": [],
   "source": [
    "quantities_mc = []\n",
    "correlations_mc = []\n",
    "for k in range(5):\n",
    "    quantities = []\n",
    "    correlations = []\n",
    "    for j in range(6) :\n",
    "        chois_single = results_tomo_mc[k][j].single.chois \n",
    "        povms_single = results_tomo_mc[k][j].single.povms\n",
    "        chois_double = results_tomo_mc[0][0].double[0].chois\n",
    "        povms_double = results_tomo_mc[0][0].double[0].povms\n",
    "\n",
    "        Qs = [ Quantities( povms_single[0], chois_single[0]  ),\n",
    "                Quantities( povms_single[1], chois_single[1] ),\n",
    "                Quantities( povms_double[0], chois_double[0]  ) ]\n",
    "\n",
    "        quantities.append( Qs )\n",
    "\n",
    "        Qs = Cross_Quantities( povms_single[0], chois_single[0],\n",
    "                                povms_single[1], chois_single[1],\n",
    "                                povms_double[0], chois_double[0]\n",
    "                            )\n",
    "        correlations.append( Qs )\n",
    "    quantities_mc.append( quantities )\n",
    "    correlations_mc.append( correlations )"
   ]
  },
  {
   "cell_type": "code",
   "execution_count": 10,
   "metadata": {},
   "outputs": [],
   "source": [
    "rFs_mc = []\n",
    "for m in range(5):\n",
    "    rFs = []\n",
    "    for j in range(6):\n",
    "        F0  = quantities_mc[m][j][0][0]\n",
    "        F1  = quantities_mc[m][j][1][0]\n",
    "        F01 = quantities_mc[m][j][2][0]\n",
    "        rF  = abs(F01 - F0*F1) #/(F0*F1) \n",
    "        rFs.append( rF )\n",
    "    rFs_mc.append( rFs )\n",
    "\n",
    "rQs_mc = []\n",
    "for m in range(5):\n",
    "    rQs = []\n",
    "    for j in range(6):\n",
    "        Q0  = quantities_mc[m][j][0][1]\n",
    "        Q1  = quantities_mc[m][j][1][1]\n",
    "        Q01 = quantities_mc[m][j][2][1]\n",
    "        rQ  = abs( Q01 - Q0*Q1 ) #/( Q0*Q1 ) \n",
    "        rQs.append( rQ )\n",
    "    rQs_mc.append( rQs )"
   ]
  },
  {
   "cell_type": "code",
   "execution_count": 11,
   "metadata": {},
   "outputs": [
    {
     "name": "stderr",
     "output_type": "stream",
     "text": [
      "No handles with labels found to put in legend.\n"
     ]
    },
    {
     "data": {
      "image/png": "[encoded data removed]",
      "text/plain": [
       "<Figure size 432x288 with 1 Axes>"
      ]
     },
     "metadata": {
      "needs_background": "light"
     },
     "output_type": "display_data"
    }
   ],
   "source": [
    "cF = np.mean( rFs_mc, axis=0 )\n",
    "dcF = np.std( rFs_mc, axis=0 )\n",
    "\n",
    "cQ = np.mean( rQs_mc, axis=0 )\n",
    "dcQ = np.std( rQs_mc, axis=0 )\n",
    "\n",
    "plt.errorbar( x=range(6), y=cF, yerr=dcF, fmt='-o', capsize=5, color='tab:green' )\n",
    "plt.errorbar( x=range(6), y=cQ, yerr=dcQ, fmt='-o', capsize=5, color='tab:orange' )\n",
    "plt.xticks( range(6), labels=[ '(1,3)', '(3,5)', '(0,3)', '(2,3)', '(3,4)', '(3,6)' ])\n",
    "plt.legend()\n",
    "plt.xlabel( 'Pair of qubits' )\n",
    "plt.savefig('correlations_error_qubit3_distance2.png', bbox_inches='tight' )\n",
    "plt.savefig('correlations_error_qubit3_distance2.svg', bbox_inches='tight' ) "
   ]
  },
  {
   "cell_type": "code",
   "execution_count": 12,
   "metadata": {},
   "outputs": [],
   "source": [
    "F = np.mean(correlations_mc,0)\n",
    "DF = np.std(correlations_mc,0)"
   ]
  },
  {
   "cell_type": "code",
   "execution_count": 13,
   "metadata": {},
   "outputs": [
    {
     "data": {
      "image/png": "[encoded data removed]",
      "text/plain": [
       "<Figure size 432x288 with 1 Axes>"
      ]
     },
     "metadata": {
      "needs_background": "light"
     },
     "output_type": "display_data"
    }
   ],
   "source": [
    "plt.errorbar( range(6), F[:,0], yerr=DF[:,0], fmt='-o', capsize=5, label='$C[\\Pi]$', color='tab:green' )\n",
    "plt.errorbar( range(6), F[:,1], yerr=DF[:,1], fmt='-o', capsize=5, label='$C[Y]$', color='tab:orange' )\n",
    "plt.xticks( range(6), labels=['(1,3)','(3,5)','(0,3)','(2,3)','(3,4)','(3,6)'])\n",
    "plt.xlabel( 'Pair of qubits' )\n",
    "plt.savefig('correlations_operators_qubit3_distance2.png', bbox_inches='tight' )\n",
    "plt.savefig('correlations_operators_qubit3_distance2.svg', bbox_inches='tight' ) "
   ]
  },
  {
   "cell_type": "code",
   "execution_count": 14,
   "metadata": {},
   "outputs": [],
   "source": [
    "# diamond_mc = []\n",
    "# for k in range(5):\n",
    "#     diamond = []\n",
    "#     for j in range(6) :\n",
    "#         chois_single = results_tomo_mc[k][j].single.chois \n",
    "#         povms_single = results_tomo_mc[k][j].single.povms\n",
    "#         chois_double = results_tomo_mc[0][0].double[0].chois\n",
    "#         povms_double = results_tomo_mc[0][0].double[0].povms\n",
    "#         chois_single_kron = Kron_Choi( chois_single[0], chois_single[1] )\n",
    "#         Ds = 0.25*( DiamondNorm( chois_double[0][0], chois_single_kron[0], 'vec'  ) \n",
    "#                     + DiamondNorm( chois_double[0][1], chois_single_kron[1], 'vec'  ) \n",
    "#                     + DiamondNorm( chois_double[0][2], chois_single_kron[2], 'vec'  ) \n",
    "#                     + DiamondNorm( chois_double[0][3], chois_single_kron[3], 'vec'  ) \n",
    "#                     )\n",
    "#         diamond.append( Ds )\n",
    "#     diamond_mc.append( diamond )\n"
   ]
  },
  {
   "cell_type": "code",
   "execution_count": 15,
   "metadata": {},
   "outputs": [],
   "source": [
    "# F = np.mean(diamond_mc,0)\n",
    "# DF = np.std(diamond_mc,0)\n",
    "# plt.errorbar( range(6), F, yerr=DF, fmt='-o', capsize=5, label='$C[Y]$' )\n",
    "# plt.xticks( range(6), labels=['(1,3)[1]','(3,5)[1]','(0,3)[2]','(2,3)[2]','(3,4)[2]','(3,6)[2]'])\n",
    "# plt.legend()"
   ]
  },
  {
   "cell_type": "code",
   "execution_count": 16,
   "metadata": {},
   "outputs": [],
   "source": [
    "plt.rcParams.update({\n",
    "    \"text.usetex\": True,\n",
    "    \"font.family\": \"sans-serif\",\n",
    "    \"font.size\"  : 22,\n",
    "    \"font.sans-serif\": [\"Helvetica\"]})"
   ]
  },
  {
   "cell_type": "code",
   "execution_count": 33,
   "metadata": {},
   "outputs": [
    {
     "data": {
      "image/png": "[encoded data removed]",
      "text/plain": [
       "<Figure size 432x288 with 1 Axes>"
      ]
     },
     "metadata": {
      "needs_background": "light"
     },
     "output_type": "display_data"
    }
   ],
   "source": [
    "\n",
    "qubits_order = [  2, 0, 3, 4, 1, 5 ]\n",
    "plt.errorbar( x=range(6), y=cF[qubits_order], yerr=dcF[qubits_order], fmt='-o', capsize=5, color='tab:green' )\n",
    "plt.errorbar( x=range(6), y=cQ[qubits_order], yerr=dcQ[qubits_order], fmt='-o', capsize=5, color='tab:orange' )\n",
    "plt.errorbar( range(6), F[qubits_order,0], yerr=DF[qubits_order,0], fmt='-o', capsize=5, label='$C[\\Pi]$', color='tab:purple' )\n",
    "plt.errorbar( range(6), F[qubits_order,1], yerr=DF[qubits_order,1], fmt='-o', capsize=5, label='$C[Y]$', color='tab:red' )\n",
    "plt.yscale('log')\n",
    "plt.xticks( range(6), labels=[ '$(0,3)$', '$(1,3)$', '$(2,3)$', '$(3,4)$', '$(3,5)$', '$(3,6)$' ])\n",
    "plt.text( 4.2, 1.e-2, '$C[F]$', color='tab:green' )\n",
    "plt.text( 4.2, 1.8e-2, '$C[Q]$', color='tab:orange' )\n",
    "plt.text( 4.2, 3.1e-2, '$C[\\\\Pi]$', color='tab:purple' )\n",
    "plt.text( 4.2, 4e-2, '$C[\\\\Upsilon]$', color='tab:red' )\n",
    "plt.xlabel('pair of qubits index ($\\\\alpha,\\\\beta$)')\n",
    "plt.savefig('correlations_distance_2.png', bbox_inches='tight', transparent=True )\n",
    "plt.savefig('correlations_distance_2.svg', bbox_inches='tight', transparent=True )\n",
    "plt.savefig('correlations_distance_2.pdf', bbox_inches='tight', transparent=True )"
   ]
  },
  {
   "cell_type": "code",
   "execution_count": null,
   "metadata": {},
   "outputs": [],
   "source": []
  }
 ],
 "metadata": {
  "kernelspec": {
   "display_name": "Python 3.9.5 ('base')",
   "language": "python",
   "name": "python3"
  },
  "language_info": {
   "codemirror_mode": {
    "name": "ipython",
    "version": 3
   },
   "file_extension": ".py",
   "mimetype": "text/x-python",
   "name": "python",
   "nbconvert_exporter": "python",
   "pygments_lexer": "ipython3",
   "version": "3.9.5"
  },
  "orig_nbformat": 4,
  "vscode": {
   "interpreter": {
    "hash": "cda8d9f3af62c123a40166c789fd00a9f9e68094ffd9b43f4f632544febced4e"
   }
  }
 },
 "nbformat": 4,
 "nbformat_minor": 2
}
