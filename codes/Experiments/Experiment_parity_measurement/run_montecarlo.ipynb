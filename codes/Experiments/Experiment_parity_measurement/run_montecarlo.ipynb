{
 "cells": [
  {
   "cell_type": "code",
   "execution_count": 1,
   "metadata": {},
   "outputs": [],
   "source": [
    "import sys\n",
    "sys.path.append('../../')\n",
    "\n",
    "import numpy as np\n",
    "from qiskit import IBMQ, Aer, QuantumCircuit\n",
    "import matplotlib.pyplot as plt\n",
    "from main import device_process_measurement_tomography, Quantities, Cross_Quantities, measurement_process_tomography, tomographic_gate_set_tomography\n",
    "from qiskit.compiler import transpile\n",
    "from qiskit.providers.ibmq.managed import IBMQJobManager\n",
    "from qiskit.providers.aer.noise import NoiseModel\n",
    "from utils_plots import *\n",
    "from utils_qiskit import *\n",
    "from joblib import Parallel, delayed"
   ]
  },
  {
   "cell_type": "code",
   "execution_count": 2,
   "metadata": {},
   "outputs": [],
   "source": [
    "IBMQ.load_account()\n",
    "# provider = IBMQ.get_provider(hub='ibm-q', group='open', project='main')\n",
    "provider = IBMQ.get_provider(hub='ibm-q-research-2', group='csic-1', project='main')"
   ]
  },
  {
   "cell_type": "code",
   "execution_count": 3,
   "metadata": {},
   "outputs": [],
   "source": [
    "backend = provider.get_backend('ibm_perth')\n",
    "simulator = Aer.get_backend('aer_simulator')\n",
    "noise_model = NoiseModel.from_backend(backend)"
   ]
  },
  {
   "cell_type": "code",
   "execution_count": 4,
   "metadata": {},
   "outputs": [
    {
     "data": {
      "image/png": "[encoded data removed]",
      "text/plain": [
       "<Figure size 267.052x204.68 with 1 Axes>"
      ]
     },
     "execution_count": 4,
     "metadata": {},
     "output_type": "execute_result"
    }
   ],
   "source": [
    "qc = QuantumCircuit(2,1)\n",
    "qc.cx(0,1)\n",
    "qc.measure(1,0)\n",
    "qc.reset(1)\n",
    "qc.draw(output='mpl')"
   ]
  },
  {
   "cell_type": "code",
   "execution_count": 5,
   "metadata": {},
   "outputs": [],
   "source": [
    "gst = tomographic_gate_set_tomography( 1 )\n",
    "mpt = measurement_process_tomography( 1, 1, 1 ) \n",
    "qcs = mpt.circuits( qc )\n",
    "qcs0 = gst.circuits()"
   ]
  },
  {
   "cell_type": "code",
   "execution_count": 6,
   "metadata": {},
   "outputs": [],
   "source": [
    "jobs_id = [\n",
    "            '632b994ad95c8ef7bd62c877',\n",
    "            '632b994ce150f16a8f9e0aee',\n",
    "            '632b994e6b619a56910d6b03',\n",
    "            '632b994f6b619aca230d6b04',\n",
    "            '632b9951e150f173079e0aef']\n",
    "\n",
    "results = []\n",
    "for job_id in jobs_id:\n",
    "    # job = backend.retrieve_job(job_id)\n",
    "    # results_job = job.result()\n",
    "    # save_results( results_job, name=job_id, folder='data')\n",
    "\n",
    "    with open('data/{}.json'.format(job_id), 'r') as f:\n",
    "        results_job = dict2results( json.load(f) )\n",
    " \n",
    "    results.append( results_job )\n"
   ]
  },
  {
   "cell_type": "code",
   "execution_count": 9,
   "metadata": {},
   "outputs": [],
   "source": [
    "mc = 1000\n",
    "\n",
    "def function(j):\n",
    "    results_gst = gst.fit( results[j], resampling = 2**13 )\n",
    "    gate_set    = [results_gst.states, results_gst.measurements, results_gst.processes ] \n",
    "    results_mpt = mpt.fit( results[j], gate_set= gst.gateset2spam(gate_set), resampling = 2**13 )\n",
    "    quantities  = Quantities( results_mpt.povms[0], results_mpt.chois[0] )\n",
    "\n",
    "    return [ results_mpt.chois[0] , results_mpt.povms[0], quantities ]"
   ]
  },
  {
   "cell_type": "code",
   "execution_count": 10,
   "metadata": {},
   "outputs": [],
   "source": [
    "results_mc = Parallel( n_jobs=-1 )( delayed(function)(j) for j in range(5) for _ in range(mc) )\n",
    "np.save( 'data/data_mc_{}'.format(mc), np.array(results_mc, dtype=object) )"
   ]
  },
  {
   "cell_type": "code",
   "execution_count": null,
   "metadata": {},
   "outputs": [],
   "source": []
  }
 ],
 "metadata": {
  "kernelspec": {
   "display_name": "Python 3.9.5 ('base')",
   "language": "python",
   "name": "python3"
  },
  "language_info": {
   "codemirror_mode": {
    "name": "ipython",
    "version": 3
   },
   "file_extension": ".py",
   "mimetype": "text/x-python",
   "name": "python",
   "nbconvert_exporter": "python",
   "pygments_lexer": "ipython3",
   "version": "3.9.5"
  },
  "orig_nbformat": 4,
  "vscode": {
   "interpreter": {
    "hash": "cda8d9f3af62c123a40166c789fd00a9f9e68094ffd9b43f4f632544febced4e"
   }
  }
 },
 "nbformat": 4,
 "nbformat_minor": 2
}
