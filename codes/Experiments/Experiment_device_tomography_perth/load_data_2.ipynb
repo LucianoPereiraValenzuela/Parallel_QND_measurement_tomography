{
 "cells": [
  {
   "cell_type": "code",
   "execution_count": 2,
   "metadata": {},
   "outputs": [],
   "source": [
    "import sys \n",
    "sys.path.append('../../')  \n",
    "from main import device_process_measurement_tomography, Quantities, Cross_Quantities\n",
    "import QuantumTomography as qt \n",
    "import matplotlib.pyplot as plt \n",
    "import numpy as np \n",
    "from qiskit import QuantumCircuit, Aer, IBMQ \n",
    "from qiskit.compiler import transpile \n",
    "import json \n",
    "from qiskit.result import Result \n",
    "from qiskit.test.mock import FakeCasablanca \n",
    "from utils_qiskit import * \n",
    "from utils_plots import *\n",
    "from qiskit.providers.ibmq.managed import IBMQJobManager"
   ]
  },
  {
   "cell_type": "code",
   "execution_count": 3,
   "metadata": {},
   "outputs": [],
   "source": [
    "IBMQ.load_account()\n",
    "provider    = IBMQ.get_provider(hub='ibm-q-research-2', group='csic-1', project='main')\n",
    "backend     = provider.get_backend('ibm_perth')\n",
    "job_manager = IBMQJobManager() "
   ]
  },
  {
   "cell_type": "code",
   "execution_count": 4,
   "metadata": {},
   "outputs": [],
   "source": [
    "jobs = [ '00d3107d150c4856bb145bc3fca2f147-16647947252239227',\n",
    "            '7ce83169d75d4115a8dd2e839692d898-16655968534771705',\n",
    "            '5373eb205b0e40f180632c1e0774aae4-1666877735257145',\n",
    "            '04bb65c3638d4ee2bcb2039cf79f24fc-1666877752352261',\n",
    "            'fce7c304165046509024a820e01ed340-16668777693586967' ]"
   ]
  },
  {
   "cell_type": "code",
   "execution_count": 6,
   "metadata": {},
   "outputs": [],
   "source": [
    "for job in jobs:\n",
    "\n",
    "    result_set = job_manager.retrieve_job_set(job, provider).results()\n",
    "    results    = result_set.combine_results()\n",
    "    save_results( results, job )\n",
    "    dpmt = device_process_measurement_tomography( backend )\n",
    "    circuits_dpmt = dpmt.circuits()\n",
    "    results_tomography = dpmt.fit( results, paralell=True, gate_set=True )         \n",
    "    np.save( 'data_tomo_'+job, np.array(results_tomography, dtype=object) ) "
   ]
  },
  {
   "cell_type": "code",
   "execution_count": null,
   "metadata": {},
   "outputs": [],
   "source": []
  }
 ],
 "metadata": {
  "kernelspec": {
   "display_name": "Python 3.9.5 ('base')",
   "language": "python",
   "name": "python3"
  },
  "language_info": {
   "codemirror_mode": {
    "name": "ipython",
    "version": 3
   },
   "file_extension": ".py",
   "mimetype": "text/x-python",
   "name": "python",
   "nbconvert_exporter": "python",
   "pygments_lexer": "ipython3",
   "version": "3.9.5"
  },
  "orig_nbformat": 4,
  "vscode": {
   "interpreter": {
    "hash": "cda8d9f3af62c123a40166c789fd00a9f9e68094ffd9b43f4f632544febced4e"
   }
  }
 },
 "nbformat": 4,
 "nbformat_minor": 2
}
