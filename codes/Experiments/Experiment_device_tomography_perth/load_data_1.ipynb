{
 "cells": [
  {
   "cell_type": "code",
   "execution_count": 1,
   "metadata": {},
   "outputs": [],
   "source": [
    "import sys \n",
    "sys.path.append('../../')  \n",
    "from main import device_process_measurement_tomography, Quantities, Cross_Quantities\n",
    "import QuantumTomography as qt \n",
    "import matplotlib.pyplot as plt \n",
    "import numpy as np \n",
    "from qiskit import QuantumCircuit, Aer, IBMQ \n",
    "from qiskit.compiler import transpile \n",
    "import json \n",
    "from qiskit.result import Result \n",
    "from qiskit.test.mock import FakeCasablanca \n",
    "from utils_qiskit import * \n",
    "from utils_plots import *\n",
    "from qiskit.providers.ibmq.managed import IBMQJobManager"
   ]
  },
  {
   "cell_type": "code",
   "execution_count": 2,
   "metadata": {},
   "outputs": [],
   "source": [
    "IBMQ.load_account()\n",
    "provider    = IBMQ.get_provider(hub='ibm-q-research-2', group='csic-1', project='main')\n",
    "backend     = provider.get_backend('ibm_perth')\n",
    "job_manager = IBMQJobManager() "
   ]
  },
  {
   "cell_type": "code",
   "execution_count": 3,
   "metadata": {},
   "outputs": [],
   "source": [
    "jobs = [ '00d3107d150c4856bb145bc3fca2f147-16647947252239227',\n",
    "            '7ce83169d75d4115a8dd2e839692d898-16655968534771705',\n",
    "            '5373eb205b0e40f180632c1e0774aae4-1666877735257145',\n",
    "            '04bb65c3638d4ee2bcb2039cf79f24fc-1666877752352261',\n",
    "            'fce7c304165046509024a820e01ed340-16668777693586967' ]"
   ]
  },
  {
   "cell_type": "code",
   "execution_count": 5,
   "metadata": {},
   "outputs": [
    {
     "ename": "TypeError",
     "evalue": "MaximumLikelihoodGateSetTomography() got an unexpected keyword argument 'Func'",
     "output_type": "error",
     "traceback": [
      "\u001b[1;31m---------------------------------------------------------------------------\u001b[0m",
      "\u001b[1;31mTypeError\u001b[0m                                 Traceback (most recent call last)",
      "\u001b[1;32m~\\AppData\\Local\\Temp/ipykernel_4784/2364074573.py\u001b[0m in \u001b[0;36m<module>\u001b[1;34m\u001b[0m\n\u001b[0;32m      8\u001b[0m     \u001b[0mcircuits_dpmt\u001b[0m \u001b[1;33m=\u001b[0m \u001b[0mdpmt\u001b[0m\u001b[1;33m.\u001b[0m\u001b[0mcircuits\u001b[0m\u001b[1;33m(\u001b[0m\u001b[1;33m)\u001b[0m\u001b[1;33m\u001b[0m\u001b[1;33m\u001b[0m\u001b[0m\n\u001b[0;32m      9\u001b[0m \u001b[1;33m\u001b[0m\u001b[0m\n\u001b[1;32m---> 10\u001b[1;33m     \u001b[0mresults_tomography\u001b[0m \u001b[1;33m=\u001b[0m \u001b[0mdpmt\u001b[0m\u001b[1;33m.\u001b[0m\u001b[0mfit\u001b[0m\u001b[1;33m(\u001b[0m \u001b[0mresults\u001b[0m\u001b[1;33m,\u001b[0m \u001b[0mparalell\u001b[0m\u001b[1;33m=\u001b[0m\u001b[1;32mTrue\u001b[0m\u001b[1;33m,\u001b[0m \u001b[0mgate_set\u001b[0m\u001b[1;33m=\u001b[0m\u001b[1;32mTrue\u001b[0m\u001b[1;33m,\u001b[0m \u001b[0mFunc\u001b[0m\u001b[1;33m=\u001b[0m\u001b[1;36m2\u001b[0m \u001b[1;33m)\u001b[0m\u001b[1;33m\u001b[0m\u001b[1;33m\u001b[0m\u001b[0m\n\u001b[0m\u001b[0;32m     11\u001b[0m     \u001b[0mresults_single\u001b[0m     \u001b[1;33m=\u001b[0m \u001b[0mresults_tomography\u001b[0m\u001b[1;33m.\u001b[0m\u001b[0msingle\u001b[0m\u001b[1;33m\u001b[0m\u001b[1;33m\u001b[0m\u001b[0m\n\u001b[0;32m     12\u001b[0m     \u001b[0mresults_double\u001b[0m     \u001b[1;33m=\u001b[0m \u001b[0mresults_tomography\u001b[0m\u001b[1;33m.\u001b[0m\u001b[0mdouble\u001b[0m\u001b[1;33m\u001b[0m\u001b[1;33m\u001b[0m\u001b[0m\n",
      "\u001b[1;32mc:\\Users\\lucia\\Nextcloud\\Programas\\Github\\Device_QND-Measurement_tomography\\codes\\Experiments\\Experiment_device_tomography_perth\\../..\\main.py\u001b[0m in \u001b[0;36mfit\u001b[1;34m(self, results, out, resampling, paralell, gate_set, Func)\u001b[0m\n\u001b[0;32m    787\u001b[0m     \u001b[1;32mdef\u001b[0m \u001b[0mfit\u001b[0m\u001b[1;33m(\u001b[0m \u001b[0mself\u001b[0m\u001b[1;33m,\u001b[0m \u001b[0mresults\u001b[0m\u001b[1;33m,\u001b[0m \u001b[0mout\u001b[0m\u001b[1;33m=\u001b[0m\u001b[1;36m1\u001b[0m\u001b[1;33m,\u001b[0m \u001b[0mresampling\u001b[0m\u001b[1;33m=\u001b[0m\u001b[1;36m0\u001b[0m\u001b[1;33m,\u001b[0m \u001b[0mparalell\u001b[0m\u001b[1;33m=\u001b[0m\u001b[1;32mTrue\u001b[0m\u001b[1;33m,\u001b[0m \u001b[0mgate_set\u001b[0m\u001b[1;33m=\u001b[0m\u001b[1;32mFalse\u001b[0m\u001b[1;33m,\u001b[0m \u001b[0mFunc\u001b[0m\u001b[1;33m=\u001b[0m\u001b[1;36m0\u001b[0m \u001b[1;33m)\u001b[0m\u001b[1;33m:\u001b[0m\u001b[1;33m\u001b[0m\u001b[1;33m\u001b[0m\u001b[0m\n\u001b[0;32m    788\u001b[0m \u001b[1;33m\u001b[0m\u001b[0m\n\u001b[1;32m--> 789\u001b[1;33m         results_gst = tomographic_gate_set_tomography( self._num_qubits ).fit( results, \n\u001b[0m\u001b[0;32m    790\u001b[0m                                                          \u001b[0mself\u001b[0m\u001b[1;33m.\u001b[0m\u001b[0m_circuits\u001b[0m\u001b[1;33m[\u001b[0m\u001b[1;36m0\u001b[0m\u001b[1;33m]\u001b[0m\u001b[1;33m,\u001b[0m\u001b[1;33m\u001b[0m\u001b[1;33m\u001b[0m\u001b[0m\n\u001b[0;32m    791\u001b[0m                                                          resampling = resampling, Func=Func )\n",
      "\u001b[1;32mc:\\Users\\lucia\\Nextcloud\\Programas\\Github\\Device_QND-Measurement_tomography\\codes\\Experiments\\Experiment_device_tomography_perth\\../..\\main.py\u001b[0m in \u001b[0;36mfit\u001b[1;34m(***failed resolving arguments***)\u001b[0m\n\u001b[0;32m    245\u001b[0m             \u001b[1;32mdel\u001b[0m \u001b[0mprobs_temp\u001b[0m\u001b[1;33m\u001b[0m\u001b[1;33m\u001b[0m\u001b[0m\n\u001b[0;32m    246\u001b[0m             \u001b[0mprobs\u001b[0m \u001b[1;33m=\u001b[0m \u001b[0mnp\u001b[0m\u001b[1;33m.\u001b[0m\u001b[0marray\u001b[0m\u001b[1;33m(\u001b[0m \u001b[0mprobs\u001b[0m \u001b[1;33m)\u001b[0m\u001b[1;33m.\u001b[0m\u001b[0mreshape\u001b[0m\u001b[1;33m(\u001b[0m\u001b[1;36m4\u001b[0m\u001b[1;33m,\u001b[0m\u001b[1;36m4\u001b[0m\u001b[1;33m,\u001b[0m\u001b[1;36m4\u001b[0m\u001b[1;33m,\u001b[0m\u001b[1;36m2\u001b[0m\u001b[1;33m)\u001b[0m\u001b[1;33m\u001b[0m\u001b[1;33m\u001b[0m\u001b[0m\n\u001b[1;32m--> 247\u001b[1;33m             results = qt.MaximumLikelihoodGateSetTomography( probs, rho, \n\u001b[0m\u001b[0;32m    248\u001b[0m                                                             Detector, Gates, 'detector', Func=Func)\n\u001b[0;32m    249\u001b[0m             \u001b[0mrho_hat_all\u001b[0m\u001b[1;33m.\u001b[0m\u001b[0mappend\u001b[0m\u001b[1;33m(\u001b[0m \u001b[0mresults\u001b[0m\u001b[1;33m.\u001b[0m\u001b[0mstate\u001b[0m \u001b[1;33m)\u001b[0m\u001b[1;33m\u001b[0m\u001b[1;33m\u001b[0m\u001b[0m\n",
      "\u001b[1;31mTypeError\u001b[0m: MaximumLikelihoodGateSetTomography() got an unexpected keyword argument 'Func'"
     ]
    }
   ],
   "source": [
    "for job in jobs:\n",
    "\n",
    "    result_set = job_manager.retrieve_job_set(job, provider).results()\n",
    "    results    = result_set.combine_results()\n",
    "    save_results( results, job )\n",
    "\n",
    "    dpmt = device_process_measurement_tomography( backend )\n",
    "    circuits_dpmt = dpmt.circuits()\n",
    "\n",
    "    results_tomography = dpmt.fit( results, paralell=True, gate_set=True, Func=2 )         \n",
    "    results_single     = results_tomography.single                             \n",
    "    results_double     = results_tomography.double                            \n",
    "    results_gateset    = results_tomography.gateset     \n",
    "    np.save( 'data_tomo_'+job, np.array(results_tomography, dtype=object) )                         "
   ]
  },
  {
   "cell_type": "code",
   "execution_count": null,
   "metadata": {},
   "outputs": [],
   "source": []
  }
 ],
 "metadata": {
  "kernelspec": {
   "display_name": "Python 3.9.5 ('base')",
   "language": "python",
   "name": "python3"
  },
  "language_info": {
   "codemirror_mode": {
    "name": "ipython",
    "version": 3
   },
   "file_extension": ".py",
   "mimetype": "text/x-python",
   "name": "python",
   "nbconvert_exporter": "python",
   "pygments_lexer": "ipython3",
   "version": "3.9.5"
  },
  "orig_nbformat": 4,
  "vscode": {
   "interpreter": {
    "hash": "cda8d9f3af62c123a40166c789fd00a9f9e68094ffd9b43f4f632544febced4e"
   }
  }
 },
 "nbformat": 4,
 "nbformat_minor": 2
}
