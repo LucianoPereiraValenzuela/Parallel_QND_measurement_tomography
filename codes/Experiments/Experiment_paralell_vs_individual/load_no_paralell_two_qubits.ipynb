{
 "cells": [
  {
   "cell_type": "code",
   "execution_count": 30,
   "metadata": {},
   "outputs": [],
   "source": [
    "import sys\n",
    "sys.path.append('../../')\n",
    "\n",
    "import numpy as np\n",
    "from qiskit import IBMQ, Aer\n",
    "import matplotlib.pyplot as plt\n",
    "from main import device_process_measurement_tomography, Quantities, Cross_Quantities,DiamondNorm\n",
    "from qiskit.compiler import transpile\n",
    "from qiskit.providers.ibmq.managed import IBMQJobManager\n",
    "from utils_qiskit import *"
   ]
  },
  {
   "cell_type": "code",
   "execution_count": 7,
   "metadata": {},
   "outputs": [
    {
     "name": "stderr",
     "output_type": "stream",
     "text": [
      "ibmqfactory.load_account:WARNING:2022-11-02 12:41:21,463: Credentials are already in use. The existing account in the session will be replaced.\n"
     ]
    }
   ],
   "source": [
    "IBMQ.load_account()\n",
    "# provider = IBMQ.get_provider(hub='ibm-q', group='open', project='main')\n",
    "provider = IBMQ.get_provider(hub='ibm-q-research-2', group='csic-1', project='main')\n",
    "backend = provider.get_backend('ibm_perth')\n",
    "simulator = Aer.get_backend('aer_simulator')\n",
    "job_manager = IBMQJobManager()"
   ]
  },
  {
   "cell_type": "code",
   "execution_count": 8,
   "metadata": {},
   "outputs": [],
   "source": [
    "parall_qubits = [ [ (0,1), (3,5) ],\n",
    "                    [ (0,1) ],\n",
    "                    [ (3,5) ]\n",
    "                ]\n",
    "\n",
    "qndmt = device_process_measurement_tomography( backend, parall_qubits=parall_qubits )\n",
    "circuits_qndmt = qndmt.circuits()"
   ]
  },
  {
   "cell_type": "code",
   "execution_count": 9,
   "metadata": {},
   "outputs": [],
   "source": [
    "job_ids = [\n",
    "    '7364c64cb08643c8b7a331db8760be76-16638006144369087',\n",
    "'a317d2f4d40e4138a90e3d867f81aead-16638008680736837',\n",
    "'5561e4224aee40b3b5b4589851fa1ade-16638008773492372',\n",
    "'798207b0a1b44a32b79cc4dc3ee95aec-16638008859225643',\n",
    "'f548a504154e412c8b8def1e60e8e5a7-16638008944027708'\n",
    "]"
   ]
  },
  {
   "cell_type": "code",
   "execution_count": 10,
   "metadata": {},
   "outputs": [],
   "source": [
    "results_tomo = []\n",
    "\n",
    "for job_str in job_ids:\n",
    "    job = job_manager.retrieve_job_set( job_str, provider )\n",
    "    result_qiskit = job.results().combine_results()\n",
    "    save_results( result_qiskit, name = job_str)     \n",
    "    result_tomo  = qndmt.fit( result_qiskit, paralell=True, gate_set=True ) \n",
    "    results_tomo.append( result_tomo )"
   ]
  },
  {
   "cell_type": "code",
   "execution_count": 43,
   "metadata": {},
   "outputs": [],
   "source": [
    "np.save( 'results_tomo', np.array(results_tomo, dtype=object) )"
   ]
  },
  {
   "cell_type": "code",
   "execution_count": 11,
   "metadata": {},
   "outputs": [],
   "source": [
    "quantities_2_mc = []\n",
    "cros_quantities_mc = []\n",
    "\n",
    "for k in range(5):\n",
    "\n",
    "    choi_single = results_tomo[k].single.chois\n",
    "    povm_single = results_tomo[k].single.povms\n",
    "    choi_double = [ results_tomo[k].double[j].chois for j in range(3) ]\n",
    "    povm_double = [ results_tomo[k].double[j].povms for j in range(3) ]\n",
    "\n",
    "    quantities_2 = []\n",
    "    cros_quantities = []\n",
    "    for i in range(len(parall_qubits)):\n",
    "        for j in range(len(parall_qubits[i])):\n",
    "            k = parall_qubits[i][j][0]\n",
    "            l = parall_qubits[i][j][1]\n",
    "            cros_quantities.append( Cross_Quantities( povm_single[k], choi_single[k],\n",
    "                                                    povm_single[l], choi_single[l],\n",
    "                                                    povm_double[i][j], choi_double[i][j]\n",
    "                                                    )  )\n",
    "            quantities_2.append( Quantities( povm_double[i][j], choi_double[i][j] ) )\n",
    "\n",
    "    quantities_2_mc.append( quantities_2 )\n",
    "    cros_quantities_mc.append( cros_quantities )"
   ]
  },
  {
   "cell_type": "code",
   "execution_count": 36,
   "metadata": {},
   "outputs": [],
   "source": [
    "def diamond_norms_fun( chois_in, chois_pa ):\n",
    "\n",
    "    F = ( DiamondNorm( chois_in[0] - chois_pa[0], 'vec'  )\n",
    "        + DiamondNorm( chois_in[1] -  chois_pa[1], 'vec'  ) \n",
    "        + DiamondNorm( chois_in[2] -  chois_pa[2], 'vec'  ) \n",
    "        + DiamondNorm( chois_in[3] -  chois_pa[3], 'vec'  ) \n",
    "        ) / 4\n",
    "        \n",
    "    return F"
   ]
  },
  {
   "cell_type": "code",
   "execution_count": 40,
   "metadata": {},
   "outputs": [],
   "source": [
    "diamond_norms = []\n",
    "for k in range(5):\n",
    "    choi_double = [ results_tomo[k].double[j].chois for j in range(3) ]\n",
    "    diamond_norms.append(  [ diamond_norms_fun(choi_double[0][0],choi_double[1][0]),\n",
    "                    diamond_norms_fun(choi_double[0][1],choi_double[2][0])] )\n",
    "\n",
    "diamond_norms_mean = np.mean( diamond_norms,0 )\n",
    "diamond_norms_std  = np.std( diamond_norms,0 )  "
   ]
  },
  {
   "cell_type": "code",
   "execution_count": 12,
   "metadata": {},
   "outputs": [],
   "source": [
    "plt.rcParams.update({\n",
    "    \"text.usetex\": True,\n",
    "    \"font.family\": \"sans-serif\",\n",
    "    \"font.size\"  : 22,\n",
    "    \"font.sans-serif\": [\"Helvetica\"]})"
   ]
  },
  {
   "cell_type": "code",
   "execution_count": 19,
   "metadata": {},
   "outputs": [],
   "source": [
    "quantities_2_mc = np.array( quantities_2_mc )\n",
    "error_mean = abs( np.mean( quantities_2_mc[:,:2,:]- quantities_2_mc[:,2:,:], 0 ) )\n",
    "error_std = abs( np.std( quantities_2_mc[:,:2,:]- quantities_2_mc[:,2:,:], 0 ) )"
   ]
  },
  {
   "cell_type": "code",
   "execution_count": 42,
   "metadata": {},
   "outputs": [
    {
     "data": {
      "image/png": "[encoded data removed]",
      "text/plain": [
       "<Figure size 432x288 with 1 Axes>"
      ]
     },
     "metadata": {
      "needs_background": "light"
     },
     "output_type": "display_data"
    }
   ],
   "source": [
    "for j in range(3):\n",
    "    plt.errorbar( [0,1], error_mean[:,j], yerr=error_std[:,j], fmt='-o', capsize=5 )\n",
    "plt.errorbar( [0,1], diamond_norms_mean, yerr=diamond_norms_std, fmt='-o', capsize=5 )\n",
    "plt.xticks( [0,1], labels=[ '$(0,1)$', '$(3,5)$' ]   )\n",
    "plt.grid()\n",
    "plt.yscale('log')\n"
   ]
  },
  {
   "cell_type": "code",
   "execution_count": 45,
   "metadata": {},
   "outputs": [
    {
     "data": {
      "text/plain": [
       "array([[7.42011776e-03, 1.01592062e-02, 4.18739850e-03],\n",
       "       [9.54049387e-04, 9.38843637e-04, 5.96179307e-05]])"
      ]
     },
     "execution_count": 45,
     "metadata": {},
     "output_type": "execute_result"
    }
   ],
   "source": [
    "error_mean"
   ]
  },
  {
   "cell_type": "code",
   "execution_count": 46,
   "metadata": {},
   "outputs": [
    {
     "data": {
      "text/plain": [
       "array([[0.00309928, 0.0053046 , 0.00206848],\n",
       "       [0.0032122 , 0.00685577, 0.00465332]])"
      ]
     },
     "execution_count": 46,
     "metadata": {},
     "output_type": "execute_result"
    }
   ],
   "source": [
    "error_std"
   ]
  },
  {
   "cell_type": "code",
   "execution_count": 47,
   "metadata": {},
   "outputs": [
    {
     "data": {
      "text/plain": [
       "array([0.01605136, 0.01413639])"
      ]
     },
     "execution_count": 47,
     "metadata": {},
     "output_type": "execute_result"
    }
   ],
   "source": [
    "diamond_norms_mean"
   ]
  },
  {
   "cell_type": "code",
   "execution_count": 48,
   "metadata": {},
   "outputs": [
    {
     "data": {
      "text/plain": [
       "array([0.00294134, 0.00589483])"
      ]
     },
     "execution_count": 48,
     "metadata": {},
     "output_type": "execute_result"
    }
   ],
   "source": [
    "diamond_norms_std"
   ]
  },
  {
   "cell_type": "code",
   "execution_count": null,
   "metadata": {},
   "outputs": [],
   "source": []
  }
 ],
 "metadata": {
  "kernelspec": {
   "display_name": "Python 3.9.5 ('base')",
   "language": "python",
   "name": "python3"
  },
  "language_info": {
   "codemirror_mode": {
    "name": "ipython",
    "version": 3
   },
   "file_extension": ".py",
   "mimetype": "text/x-python",
   "name": "python",
   "nbconvert_exporter": "python",
   "pygments_lexer": "ipython3",
   "version": "3.9.5"
  },
  "orig_nbformat": 4,
  "vscode": {
   "interpreter": {
    "hash": "cda8d9f3af62c123a40166c789fd00a9f9e68094ffd9b43f4f632544febced4e"
   }
  }
 },
 "nbformat": 4,
 "nbformat_minor": 2
}
