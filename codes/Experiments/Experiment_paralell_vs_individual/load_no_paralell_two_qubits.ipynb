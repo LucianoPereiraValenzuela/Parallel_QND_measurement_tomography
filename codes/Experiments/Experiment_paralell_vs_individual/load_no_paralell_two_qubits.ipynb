{
 "cells": [
  {
   "cell_type": "code",
   "execution_count": 70,
   "metadata": {},
   "outputs": [],
   "source": [
    "import sys\n",
    "sys.path.append('../../')\n",
    "\n",
    "import numpy as np\n",
    "from qiskit import IBMQ, Aer\n",
    "import matplotlib.pyplot as plt\n",
    "from main import device_process_measurement_tomography, Quantities, Cross_Quantities,DiamondNorm\n",
    "from qiskit.compiler import transpile\n",
    "from qiskit.providers.ibmq.managed import IBMQJobManager\n",
    "from utils_qiskit import *"
   ]
  },
  {
   "cell_type": "code",
   "execution_count": 71,
   "metadata": {},
   "outputs": [
    {
     "name": "stderr",
     "output_type": "stream",
     "text": [
      "ibmqfactory.load_account:WARNING:2022-11-08 01:36:23,050: Credentials are already in use. The existing account in the session will be replaced.\n"
     ]
    }
   ],
   "source": [
    "IBMQ.load_account()\n",
    "# provider = IBMQ.get_provider(hub='ibm-q', group='open', project='main')\n",
    "provider = IBMQ.get_provider(hub='ibm-q-research-2', group='csic-1', project='main')\n",
    "backend = provider.get_backend('ibm_perth')\n",
    "simulator = Aer.get_backend('aer_simulator')\n",
    "job_manager = IBMQJobManager()"
   ]
  },
  {
   "cell_type": "code",
   "execution_count": 72,
   "metadata": {},
   "outputs": [],
   "source": [
    "parall_qubits =  5*[[[ (0,1), (3,5) ],\n",
    "                    [ (0,1) ],\n",
    "                    [ (3,5) ]]] + 5*[[[(1,3),(4,5)],\n",
    "                    [(1,3)],\n",
    "                    [(4,5)]]] + 5*[[[(1,2),(5,6)],\n",
    "                    [(1,2)],\n",
    "                    [(5,6)]]]\n",
    "                "
   ]
  },
  {
   "cell_type": "code",
   "execution_count": 73,
   "metadata": {},
   "outputs": [],
   "source": [
    "job_ids = [\n",
    "    '7364c64cb08643c8b7a331db8760be76-16638006144369087',\n",
    "    'a317d2f4d40e4138a90e3d867f81aead-16638008680736837',\n",
    "    '5561e4224aee40b3b5b4589851fa1ade-16638008773492372',\n",
    "    '798207b0a1b44a32b79cc4dc3ee95aec-16638008859225643',\n",
    "    'f548a504154e412c8b8def1e60e8e5a7-16638008944027708',\n",
    "    'e311fd95fa1343b49c645b96b2303566-16671739751397412',\n",
    "    '1f04e519ea504f59b0e36b39e3db8238-16671739839581792',\n",
    "    '139fed624e294286aef063dc0c944bc8-1667173992884656',\n",
    "    'bcc11d56a06245e69ba804813179c4cf-16671740009086525',\n",
    "    'd35909ce634c41e09d45e5314f3bd50b-16671740097822661',\n",
    "    '53616764a6414a2b9ff1167cac45a93b-1667174047268017',\n",
    "    '14fba4f0c275412f83ad01aff25b556a-16671740564229283',\n",
    "    '04064d6a0dd24e9ab533192cfd090d99-16671740654108891',\n",
    "    'e75aabc0b62c46d1a3d4a73dcdf1a5c3-16671740736617362',\n",
    "    '67b33fcee6d3409c988361c44ae6cff1-16671740825175252'\n",
    "    ]\n",
    "\n",
    "# ibm_perth\n",
    "# [ (0,1), (3,5) ]\n",
    "# '7364c64cb08643c8b7a331db8760be76-16638006144369087'\n",
    "# 'a317d2f4d40e4138a90e3d867f81aead-16638008680736837'\n",
    "# '5561e4224aee40b3b5b4589851fa1ade-16638008773492372'\n",
    "# '798207b0a1b44a32b79cc4dc3ee95aec-16638008859225643'\n",
    "# 'f548a504154e412c8b8def1e60e8e5a7-16638008944027708'\n",
    "# [(1,3),(4,5)]\n",
    "# e311fd95fa1343b49c645b96b2303566-16671739751397412\n",
    "# 1f04e519ea504f59b0e36b39e3db8238-16671739839581792\n",
    "# 139fed624e294286aef063dc0c944bc8-1667173992884656\n",
    "# bcc11d56a06245e69ba804813179c4cf-16671740009086525\n",
    "# d35909ce634c41e09d45e5314f3bd50b-16671740097822661\n",
    "# [(1,2),(5,6)] \n",
    "# 53616764a6414a2b9ff1167cac45a93b-1667174047268017\n",
    "# 14fba4f0c275412f83ad01aff25b556a-16671740564229283\n",
    "# 04064d6a0dd24e9ab533192cfd090d99-16671740654108891\n",
    "# e75aabc0b62c46d1a3d4a73dcdf1a5c3-16671740736617362\n",
    "# 67b33fcee6d3409c988361c44ae6cff1-16671740825175252"
   ]
  },
  {
   "cell_type": "code",
   "execution_count": 74,
   "metadata": {},
   "outputs": [],
   "source": [
    "results_tomo = []\n",
    "\n",
    "for j, job_str in enumerate( job_ids ) :\n",
    "\n",
    "    qndmt = device_process_measurement_tomography( backend, parall_qubits=parall_qubits[j] )\n",
    "    circuits_qndmt = qndmt.circuits()\n",
    "\n",
    "    job = job_manager.retrieve_job_set( job_str, provider )\n",
    "    result_qiskit = job.results().combine_results()\n",
    "    save_results( result_qiskit, name = job_str)     \n",
    "    result_tomo  = qndmt.fit( result_qiskit, paralell=True, gate_set=True ) \n",
    "    results_tomo.append( result_tomo )"
   ]
  },
  {
   "cell_type": "code",
   "execution_count": null,
   "metadata": {},
   "outputs": [],
   "source": [
    "np.save( 'results_tomo_double', np.array(results_tomo, dtype=object) )"
   ]
  },
  {
   "cell_type": "code",
   "execution_count": null,
   "metadata": {},
   "outputs": [],
   "source": [
    "quantities_2_mc = []\n",
    "cros_quantities_mc = []\n",
    "\n",
    "for m in range(5):\n",
    "\n",
    "    choi_single = results_tomo[m].single.chois\n",
    "    povm_single = results_tomo[m].single.povms\n",
    "    choi_double = [ results_tomo[m].double[j].chois for j in range(3) ]\n",
    "    povm_double = [ results_tomo[m].double[j].povms for j in range(3) ]\n",
    "\n",
    "    quantities_2 = []\n",
    "    cros_quantities = []\n",
    "    for i in range(3):\n",
    "        for j in range(len(parall_qubits[m][i])):\n",
    "            k = parall_qubits[m][i][j][0]\n",
    "            l = parall_qubits[m][i][j][1]\n",
    "            cros_quantities.append( Cross_Quantities( povm_single[k], choi_single[k],\n",
    "                                                    povm_single[l], choi_single[l],\n",
    "                                                    povm_double[i][j], choi_double[i][j]\n",
    "                                                    )  )\n",
    "            quantities_2.append( Quantities( povm_double[i][j], choi_double[i][j] ) )\n",
    "\n",
    "    quantities_2_mc.append( quantities_2 )\n",
    "    cros_quantities_mc.append( cros_quantities )"
   ]
  },
  {
   "cell_type": "code",
   "execution_count": null,
   "metadata": {},
   "outputs": [],
   "source": [
    "def diamond_norms_fun( chois_in, chois_pa ):\n",
    "\n",
    "    F = ( DiamondNorm( chois_in[0] - chois_pa[0], 'vec'  )\n",
    "        + DiamondNorm( chois_in[1] -  chois_pa[1], 'vec'  ) \n",
    "        + DiamondNorm( chois_in[2] -  chois_pa[2], 'vec'  ) \n",
    "        + DiamondNorm( chois_in[3] -  chois_pa[3], 'vec'  ) \n",
    "        ) / 8\n",
    "        \n",
    "    return F\n",
    "\n",
    "def spectral_norms_fun( povm_in, povm_pa ):\n",
    "\n",
    "    povm_in = povm_in.reshape(4,4,4)\n",
    "    povm_pa = povm_pa.reshape(4,4,4)\n",
    "\n",
    "    F = ( np.linalg.norm( povm_in[:,:,0] - povm_pa[:,:,0], 2 )\n",
    "        + np.linalg.norm( povm_in[:,:,1] - povm_pa[:,:,1], 2 ) \n",
    "        + np.linalg.norm( povm_in[:,:,2] - povm_pa[:,:,2], 2 ) \n",
    "        + np.linalg.norm( povm_in[:,:,3] - povm_pa[:,:,3], 2 ) \n",
    "        ) / 4\n",
    "        \n",
    "    return F"
   ]
  },
  {
   "cell_type": "code",
   "execution_count": null,
   "metadata": {},
   "outputs": [],
   "source": [
    "diamond_norms = []\n",
    "for k in range(5):\n",
    "    choi_double = [ results_tomo[k].double[j].chois for j in range(3) ]\n",
    "    povms_double = [ results_tomo[k].double[j].povms for j in range(3) ]\n",
    "    diamond_norms.append(  [ [spectral_norms_fun( povms_double[0][0],povms_double[1][0] ),\n",
    "                                spectral_norms_fun( povms_double[0][1],povms_double[2][0] )\n",
    "                                ],\n",
    "                            [diamond_norms_fun(choi_double[0][0],choi_double[1][0]),\n",
    "                                diamond_norms_fun(choi_double[0][1],choi_double[2][0])] \n",
    "                            ] )\n",
    "\n",
    "diamond_norms_mean = np.mean( diamond_norms,0 )\n",
    "diamond_norms_std  = np.std( diamond_norms,0 )  "
   ]
  },
  {
   "cell_type": "code",
   "execution_count": null,
   "metadata": {},
   "outputs": [],
   "source": [
    "plt.rcParams.update({\n",
    "    \"text.usetex\": True,\n",
    "    \"font.family\": \"sans-serif\",\n",
    "    \"font.size\"  : 22,\n",
    "    \"font.sans-serif\": [\"Helvetica\"]})"
   ]
  },
  {
   "cell_type": "code",
   "execution_count": null,
   "metadata": {},
   "outputs": [],
   "source": [
    "quantities_2_mc = np.array( quantities_2_mc )\n",
    "error_mean = abs( np.mean( quantities_2_mc[:,:2,:]- quantities_2_mc[:,2:,:], 0 ) )\n",
    "error_std = abs( np.std( quantities_2_mc[:,:2,:]- quantities_2_mc[:,2:,:], 0 ) )"
   ]
  },
  {
   "cell_type": "code",
   "execution_count": null,
   "metadata": {},
   "outputs": [
    {
     "data": {
      "image/png": "[encoded data removed]",
      "text/plain": [
       "<Figure size 432x288 with 1 Axes>"
      ]
     },
     "metadata": {
      "needs_background": "light"
     },
     "output_type": "display_data"
    }
   ],
   "source": [
    "for j in range(3):\n",
    "    plt.errorbar( [0,1], error_mean[:,j], yerr=error_std[:,j], fmt='-o', capsize=5 )\n",
    "plt.xticks( [0,1], labels=[ '$(0,1)$', '$(3,5)$' ]   )\n",
    "plt.xlabel('pair of qubits index ($\\\\alpha,\\\\beta$)')\n",
    "plt.grid()\n",
    "plt.yscale('log')\n",
    "plt.text( 0.8, 2e-4, '$|\\\\Delta F|$', color='tab:green' )\n",
    "plt.text( 0.6, 4.5e-3, '$|\\\\Delta Q|$', color='tab:orange' )\n",
    "plt.text( 0.4, 1.2e-3, '$|\\\\Delta D|$', color='tab:blue' )\n",
    "plt.savefig('pa_vs_ind_double_quantities.png', bbox_inches='tight', transparent=True )\n",
    "plt.savefig('pa_vs_ind_double_quantities.svg', bbox_inches='tight', transparent=True )"
   ]
  },
  {
   "cell_type": "code",
   "execution_count": null,
   "metadata": {},
   "outputs": [
    {
     "data": {
      "image/png": "[encoded data removed]",
      "text/plain": [
       "<Figure size 432x288 with 1 Axes>"
      ]
     },
     "metadata": {
      "needs_background": "light"
     },
     "output_type": "display_data"
    }
   ],
   "source": [
    "plt.errorbar( [0,1], diamond_norms_mean[0], yerr=diamond_norms_std[0], fmt='-o', capsize=5, c = 'tab:purple' )\n",
    "plt.errorbar( [0,1], diamond_norms_mean[1], yerr=diamond_norms_std[1], fmt='-o', capsize=5, c = 'tab:red' )\n",
    "plt.xticks( [0,1], labels=[ '$(0,1)$', '$(3,5)$' ]   )\n",
    "plt.text( 0.6, 1.1e-2, '$|\\\\Delta\\\\Pi|_2$', color='tab:purple' )\n",
    "plt.text( 0.4, 6e-3, '$|\\\\Delta\\\\Upsilon|_\\diamond$', color='tab:red' )\n",
    "plt.xlabel('pair of qubits index ($\\\\alpha,\\\\beta$)')\n",
    "plt.grid()\n",
    "plt.yscale('log')\n",
    "plt.savefig('pa_vs_ind_double_error.png', bbox_inches='tight', transparent=True )\n",
    "plt.savefig('pa_vs_ind_double_error.svg', bbox_inches='tight', transparent=True )"
   ]
  },
  {
   "cell_type": "code",
   "execution_count": null,
   "metadata": {},
   "outputs": [],
   "source": []
  }
 ],
 "metadata": {
  "kernelspec": {
   "display_name": "Python 3.9.5 ('base')",
   "language": "python",
   "name": "python3"
  },
  "language_info": {
   "codemirror_mode": {
    "name": "ipython",
    "version": 3
   },
   "file_extension": ".py",
   "mimetype": "text/x-python",
   "name": "python",
   "nbconvert_exporter": "python",
   "pygments_lexer": "ipython3",
   "version": "3.9.5"
  },
  "orig_nbformat": 4,
  "vscode": {
   "interpreter": {
    "hash": "cda8d9f3af62c123a40166c789fd00a9f9e68094ffd9b43f4f632544febced4e"
   }
  }
 },
 "nbformat": 4,
 "nbformat_minor": 2
}
