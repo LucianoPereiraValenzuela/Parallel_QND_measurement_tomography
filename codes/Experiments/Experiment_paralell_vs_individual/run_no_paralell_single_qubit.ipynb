{
 "cells": [
  {
   "cell_type": "code",
   "execution_count": 1,
   "metadata": {},
   "outputs": [],
   "source": [
    "import sys\n",
    "sys.path.append('../../')\n",
    "\n",
    "import numpy as np\n",
    "from qiskit import IBMQ, Aer\n",
    "import matplotlib.pyplot as plt\n",
    "from main import device_process_measurement_tomography\n",
    "from qiskit.compiler import transpile\n",
    "from qiskit.providers.ibmq.managed import IBMQJobManager"
   ]
  },
  {
   "cell_type": "code",
   "execution_count": 2,
   "metadata": {},
   "outputs": [],
   "source": [
    "IBMQ.load_account()\n",
    "provider = IBMQ.get_provider(hub='ibm-q-research-2', group='csic-1', project='main')"
   ]
  },
  {
   "cell_type": "code",
   "execution_count": 3,
   "metadata": {},
   "outputs": [],
   "source": [
    "backend = provider.get_backend('ibm_lagos')\n",
    "simulator = Aer.get_backend('aer_simulator')\n",
    "job_manager = IBMQJobManager()"
   ]
  },
  {
   "cell_type": "code",
   "execution_count": 5,
   "metadata": {},
   "outputs": [],
   "source": [
    "qndmt = device_process_measurement_tomography( backend, parall_qubits=[] )\n",
    "circs = [ qndmt.circuits( name='all' ) ]\n",
    "\n",
    "for j in range(7):\n",
    "    qndmt = device_process_measurement_tomography( backend, qubits=[j], parall_qubits=[] )\n",
    "    circs.append( qndmt.circuits( name='qubit_{}'.format(j) ) )\n",
    "\n",
    "circs = [ c for circ in circs for c in circ ]"
   ]
  },
  {
   "cell_type": "code",
   "execution_count": 6,
   "metadata": {},
   "outputs": [],
   "source": [
    "job = simulator.run( circs )\n",
    "results = job.result()\n",
    "\n",
    "# qndmt = device_process_measurement_tomography( backend, parall_qubits=[] )\n",
    "# qndmt.circuits( name='all' )\n",
    "# result_par = qndmt.fit( results )\n",
    "\n",
    "# qndmt = device_process_measurement_tomography( backend, qubits=[0], parall_qubits=[] )\n",
    "# qndmt.circuits( name='qubit_0' )\n",
    "# result_ind = qndmt.fit( results )"
   ]
  },
  {
   "cell_type": "code",
   "execution_count": 8,
   "metadata": {},
   "outputs": [],
   "source": [
    "qndmt = device_process_measurement_tomography( backend, parall_qubits=[] )\n",
    "qndmt.circuits( name='all' )\n",
    "result_par = qndmt.fit( results )"
   ]
  },
  {
   "cell_type": "code",
   "execution_count": 11,
   "metadata": {},
   "outputs": [
    {
     "name": "stdout",
     "output_type": "stream",
     "text": [
      "8437700af7e24a8db82552a351c5b40f-1664806374457234\n",
      "a66d19fd42b542309fe9953692a1b4e2-16648063781199672\n",
      "e1e82abdc0434499b0d21cb55fda93c0-16648063817771723\n",
      "30e745b826ab48cfab28ee71b0e00990-16648063853957183\n",
      "0a4875c60a444dd98e92c780e524449e-16648063888147304\n"
     ]
    }
   ],
   "source": [
    "# for _ in range(5):\n",
    "#     job = job_manager.run( transpile( circs, backend ) , backend=backend, shots=2**13 )\n",
    "#     job_id = job.job_set_id()\n",
    "#     print( job_id )"
   ]
  },
  {
   "cell_type": "code",
   "execution_count": null,
   "metadata": {},
   "outputs": [],
   "source": [
    "# ibm_perth\n",
    "# 5d9083dc79634830b84a122d6aabd1e7-16648063248694873\n",
    "# eea890c98b394905a1f5a8d3122686d1-16648063283466015\n",
    "# 0ec013b625ec4f9d8b3fbd7f34b2f4fc-16648063318546033\n",
    "# 5f201e30ed3a435bb21bd5e0c8975766-16648063354740663\n",
    "# eaf8374145974698a47690d3e69aadda-16648063389969826\n",
    "# ibm_lagos\n",
    "# 8437700af7e24a8db82552a351c5b40f-1664806374457234\n",
    "# a66d19fd42b542309fe9953692a1b4e2-16648063781199672\n",
    "# e1e82abdc0434499b0d21cb55fda93c0-16648063817771723\n",
    "# 30e745b826ab48cfab28ee71b0e00990-16648063853957183\n",
    "# 0a4875c60a444dd98e92c780e524449e-16648063888147304"
   ]
  }
 ],
 "metadata": {
  "kernelspec": {
   "display_name": "Python 3.9.5 ('base')",
   "language": "python",
   "name": "python3"
  },
  "language_info": {
   "codemirror_mode": {
    "name": "ipython",
    "version": 3
   },
   "file_extension": ".py",
   "mimetype": "text/x-python",
   "name": "python",
   "nbconvert_exporter": "python",
   "pygments_lexer": "ipython3",
   "version": "3.9.5"
  },
  "orig_nbformat": 4,
  "vscode": {
   "interpreter": {
    "hash": "cda8d9f3af62c123a40166c789fd00a9f9e68094ffd9b43f4f632544febced4e"
   }
  }
 },
 "nbformat": 4,
 "nbformat_minor": 2
}
