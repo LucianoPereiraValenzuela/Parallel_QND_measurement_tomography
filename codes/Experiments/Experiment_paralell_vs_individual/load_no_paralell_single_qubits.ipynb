{
 "cells": [
  {
   "cell_type": "code",
   "execution_count": 1,
   "metadata": {},
   "outputs": [],
   "source": [
    "import sys\n",
    "sys.path.append('../../')\n",
    "\n",
    "import numpy as np\n",
    "from qiskit import IBMQ, Aer\n",
    "import matplotlib.pyplot as plt\n",
    "from main import device_process_measurement_tomography, Quantities, Cross_Quantities\n",
    "from qiskit.compiler import transpile\n",
    "from qiskit.providers.ibmq.managed import IBMQJobManager\n",
    "from utils_qiskit import * \n",
    "from utils_plots import *"
   ]
  },
  {
   "cell_type": "code",
   "execution_count": 2,
   "metadata": {},
   "outputs": [],
   "source": [
    "IBMQ.load_account()\n",
    "# provider = IBMQ.get_provider(hub='ibm-q', group='open', project='main')\n",
    "provider = IBMQ.get_provider(hub='ibm-q-research-2', group='csic-1', project='main')\n",
    "backend = provider.get_backend('ibm_perth')\n",
    "simulator = Aer.get_backend('aer_simulator')\n",
    "job_manager = IBMQJobManager()"
   ]
  },
  {
   "cell_type": "code",
   "execution_count": 3,
   "metadata": {},
   "outputs": [],
   "source": [
    "job_ids = [\n",
    "            '5d9083dc79634830b84a122d6aabd1e7-16648063248694873',\n",
    "            'eea890c98b394905a1f5a8d3122686d1-16648063283466015',\n",
    "            '0ec013b625ec4f9d8b3fbd7f34b2f4fc-16648063318546033',\n",
    "            '5f201e30ed3a435bb21bd5e0c8975766-16648063354740663',\n",
    "            'eaf8374145974698a47690d3e69aadda-16648063389969826'\n",
    "            ]"
   ]
  },
  {
   "cell_type": "code",
   "execution_count": 4,
   "metadata": {},
   "outputs": [],
   "source": [
    "qndmt_all = device_process_measurement_tomography( backend, parall_qubits=[] )\n",
    "circs = [ qndmt_all.circuits( name='all' ) ]\n",
    "\n",
    "qndnt_single = []\n",
    "for j in range(7):\n",
    "    qndmt = device_process_measurement_tomography( backend, qubits=[j], parall_qubits=[] )\n",
    "    qndnt_single.append( qndmt )\n",
    "    circs.append( qndmt.circuits( name='qubit_{}'.format(j) ) )\n",
    "\n",
    "circs = [ c for circ in circs for c in circ ]"
   ]
  },
  {
   "cell_type": "code",
   "execution_count": 5,
   "metadata": {},
   "outputs": [],
   "source": [
    "results_tomo = []\n",
    "\n",
    "for job_str in job_ids:\n",
    "\n",
    "    job = job_manager.retrieve_job_set( job_str, provider )\n",
    "    result_qiskit = job.results().combine_results()\n",
    "    save_results( result_qiskit, job_str)\n",
    "\n",
    "    results_tomo_job = [ qndmt_all.fit( result_qiskit ) ]\n",
    "    for j in range(7):\n",
    "        results_tomo_job.append(  qndnt_single[j].fit( result_qiskit ) ) \n",
    "    np.save( 'data'+job_str, np.array(results_tomo_job,dtype=object))\n",
    "\n",
    "    results_tomo.append( results_tomo_job )"
   ]
  },
  {
   "cell_type": "code",
   "execution_count": 6,
   "metadata": {},
   "outputs": [],
   "source": [
    "results_tomo = results_tomo[0]"
   ]
  },
  {
   "cell_type": "code",
   "execution_count": 11,
   "metadata": {},
   "outputs": [
    {
     "data": {
      "text/plain": [
       "[(0.9618869713472921, 0.9194257135008838, 0.9470340392570697),\n",
       " (0.9684891344934732, 0.9552269498394225, 0.9732460343730426),\n",
       " (0.9730839592276987, 0.9633367088131077, 0.9768286199679248),\n",
       " (0.9811358264704708, 0.9731777887828978, 0.9811491996210506),\n",
       " (0.973472448715172, 0.9419583586656214, 0.970935086925054),\n",
       " (0.9764287187774414, 0.9657193680116849, 0.9789406689647302),\n",
       " (0.9912401010501122, 0.9787450444221633, 0.9832658384673748)]"
      ]
     },
     "execution_count": 11,
     "metadata": {},
     "output_type": "execute_result"
    }
   ],
   "source": [
    "povms_pa = results_tomo[0].single.povms\n",
    "chois_pa= results_tomo[0].single.chois\n",
    "\n",
    "quantities_pa = []\n",
    "for j in range(7):\n",
    "    quantities_pa.append( Quantities( povms_pa[j], chois_pa[j] ) )\n",
    "\n",
    "quantities_pa"
   ]
  },
  {
   "cell_type": "code",
   "execution_count": 12,
   "metadata": {},
   "outputs": [
    {
     "data": {
      "text/plain": [
       "[(0.9617170970338162, 0.9199892904729826, 0.9478802868117389),\n",
       " (0.974442981859321, 0.9617062228636404, 0.9766644731049038),\n",
       " (0.9767561637746514, 0.9691449278894315, 0.9808375507602658),\n",
       " (0.9802656348815456, 0.974590801021064, 0.9817571422624853),\n",
       " (0.9732542093202134, 0.9388699176878346, 0.9683807763592431),\n",
       " (0.9762723134547873, 0.9665984189479145, 0.9793819459810328),\n",
       " (0.9864238005566573, 0.9579515525374049, 0.9663360778272374)]"
      ]
     },
     "execution_count": 12,
     "metadata": {},
     "output_type": "execute_result"
    }
   ],
   "source": [
    "quantities_in = []\n",
    "for j in range(7):\n",
    "    povms_in = results_tomo[j+1].single.povms\n",
    "    chois_in= results_tomo[j+1].single.chois\n",
    "    quantities_in.append( Quantities( povms_in[0], chois_in[0] ) )\n",
    "\n",
    "quantities_in"
   ]
  },
  {
   "cell_type": "code",
   "execution_count": 13,
   "metadata": {},
   "outputs": [
    {
     "data": {
      "text/plain": [
       "[<matplotlib.lines.Line2D at 0x1a846cb8c10>,\n",
       " <matplotlib.lines.Line2D at 0x1a846cb8b50>,\n",
       " <matplotlib.lines.Line2D at 0x1a846cb88b0>]"
      ]
     },
     "execution_count": 13,
     "metadata": {},
     "output_type": "execute_result"
    },
    {
     "data": {
      "image/png": "[encoded data removed]",
      "text/plain": [
       "<Figure size 432x288 with 1 Axes>"
      ]
     },
     "metadata": {
      "needs_background": "light"
     },
     "output_type": "display_data"
    }
   ],
   "source": [
    "plt.plot( abs(np.array(quantities_pa)-np.array(quantities_in)), '-o' )\n"
   ]
  },
  {
   "cell_type": "code",
   "execution_count": null,
   "metadata": {},
   "outputs": [],
   "source": []
  }
 ],
 "metadata": {
  "kernelspec": {
   "display_name": "Python 3.9.5 ('base')",
   "language": "python",
   "name": "python3"
  },
  "language_info": {
   "codemirror_mode": {
    "name": "ipython",
    "version": 3
   },
   "file_extension": ".py",
   "mimetype": "text/x-python",
   "name": "python",
   "nbconvert_exporter": "python",
   "pygments_lexer": "ipython3",
   "version": "3.9.5"
  },
  "orig_nbformat": 4,
  "vscode": {
   "interpreter": {
    "hash": "cda8d9f3af62c123a40166c789fd00a9f9e68094ffd9b43f4f632544febced4e"
   }
  }
 },
 "nbformat": 4,
 "nbformat_minor": 2
}
