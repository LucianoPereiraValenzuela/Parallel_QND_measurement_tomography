{
 "cells": [
  {
   "cell_type": "code",
   "execution_count": 1,
   "metadata": {},
   "outputs": [],
   "source": [
    "import sys\n",
    "sys.path.append('../../')\n",
    "\n",
    "import numpy as np\n",
    "from qiskit import IBMQ, Aer\n",
    "import matplotlib.pyplot as plt\n",
    "from main import device_process_measurement_tomography, Quantities, Cross_Quantities\n",
    "from qiskit.compiler import transpile\n",
    "from qiskit.providers.ibmq.managed import IBMQJobManager\n",
    "from qiskit.providers.aer.noise import NoiseModel"
   ]
  },
  {
   "cell_type": "code",
   "execution_count": 2,
   "metadata": {},
   "outputs": [],
   "source": [
    "IBMQ.load_account()\n",
    "# provider = IBMQ.get_provider(hub='ibm-q', group='open', project='main')\n",
    "provider = IBMQ.get_provider(hub='ibm-q-research-2', group='csic-1', project='main')"
   ]
  },
  {
   "cell_type": "code",
   "execution_count": 3,
   "metadata": {},
   "outputs": [],
   "source": [
    "backend = provider.get_backend('ibm_perth')\n",
    "simulator = Aer.get_backend('aer_simulator')\n",
    "noise_model = NoiseModel.from_backend(backend)\n",
    "job_manager = IBMQJobManager()"
   ]
  },
  {
   "cell_type": "code",
   "execution_count": 14,
   "metadata": {},
   "outputs": [],
   "source": [
    "parall_qubits = [ \n",
    "                    # [ (0,1), (3,5) ],\n",
    "                    # [ (0,1) ],\n",
    "                    # [ (3,5) ]\n",
    "                    # [(1,3),(4,5)],\n",
    "                    # [(1,3)],\n",
    "                    # [(4,5)]\n",
    "                    [(1,2),(5,6)],\n",
    "                    [(1,2)],\n",
    "                    [(5,6)]\n",
    "                ]"
   ]
  },
  {
   "cell_type": "code",
   "execution_count": 15,
   "metadata": {},
   "outputs": [],
   "source": [
    "qndmt = device_process_measurement_tomography( backend, parall_qubits=parall_qubits )"
   ]
  },
  {
   "cell_type": "code",
   "execution_count": 16,
   "metadata": {},
   "outputs": [
    {
     "name": "stdout",
     "output_type": "stream",
     "text": [
      "1054\n"
     ]
    },
    {
     "data": {
      "image/png": "[encoded data removed]",
      "text/plain": [
       "<Figure size 808.997x505.68 with 1 Axes>"
      ]
     },
     "execution_count": 16,
     "metadata": {},
     "output_type": "execute_result"
    }
   ],
   "source": [
    "circuits_qndmt = qndmt.circuits()\n",
    "print( len(circuits_qndmt) )\n",
    "circuits_qndmt[300].draw(output='mpl')"
   ]
  },
  {
   "cell_type": "code",
   "execution_count": 17,
   "metadata": {},
   "outputs": [
    {
     "name": "stdout",
     "output_type": "stream",
     "text": [
      "53616764a6414a2b9ff1167cac45a93b-1667174047268017\n",
      "14fba4f0c275412f83ad01aff25b556a-16671740564229283\n",
      "04064d6a0dd24e9ab533192cfd090d99-16671740654108891\n",
      "e75aabc0b62c46d1a3d4a73dcdf1a5c3-16671740736617362\n",
      "67b33fcee6d3409c988361c44ae6cff1-16671740825175252\n"
     ]
    }
   ],
   "source": [
    "for _ in range(5):\n",
    "    job = job_manager.run( transpile( circuits_qndmt, backend ) , backend=backend, shots=2**13 )\n",
    "    job_id = job.job_set_id()\n",
    "    print( job_id ) "
   ]
  },
  {
   "cell_type": "code",
   "execution_count": 8,
   "metadata": {},
   "outputs": [],
   "source": [
    "# ibm_perth\n",
    "# [ (0,1), (3,5) ]\n",
    "# '7364c64cb08643c8b7a331db8760be76-16638006144369087'\n",
    "# 'a317d2f4d40e4138a90e3d867f81aead-16638008680736837'\n",
    "# '5561e4224aee40b3b5b4589851fa1ade-16638008773492372'\n",
    "# '798207b0a1b44a32b79cc4dc3ee95aec-16638008859225643'\n",
    "# 'f548a504154e412c8b8def1e60e8e5a7-16638008944027708'\n",
    "# [(1,3),(4,5)]\n",
    "# e311fd95fa1343b49c645b96b2303566-16671739751397412\n",
    "# 1f04e519ea504f59b0e36b39e3db8238-16671739839581792\n",
    "# 139fed624e294286aef063dc0c944bc8-1667173992884656\n",
    "# bcc11d56a06245e69ba804813179c4cf-16671740009086525\n",
    "# d35909ce634c41e09d45e5314f3bd50b-16671740097822661\n",
    "# [(1,2),(5,6)] \n",
    "# 53616764a6414a2b9ff1167cac45a93b-1667174047268017\n",
    "# 14fba4f0c275412f83ad01aff25b556a-16671740564229283\n",
    "# 04064d6a0dd24e9ab533192cfd090d99-16671740654108891\n",
    "# e75aabc0b62c46d1a3d4a73dcdf1a5c3-16671740736617362\n",
    "# 67b33fcee6d3409c988361c44ae6cff1-16671740825175252\n",
    "\n",
    "# ibm_lagos\n",
    "# '39707da5b9ee4dacaab05e9e965d22e8-1663800646243812'\n",
    "# 'a1a7838f0632404e909900f15fce8526-16638007891180546'\n",
    "# 'c0dddc17230b4272b31a22cd046cb2db-16638007977857103'\n",
    "# '605c3dc4a1f145b4b02d5a220e1b5788-16638008061681159'\n",
    "# 'ab1f63db09e94bdfb84cac2df9405dee-1663800815185673'\n",
    "\n",
    "# ibm_nairobi\n",
    "# '01a05c3bf5c54ab1b0cb04cc404b6b25-16638006748704388'\n",
    "# '9249d8ef94f34c33a7ce11ea04be6521-1663800697014663'\n",
    "# 'b4b31535026c4870966426df619bcb07-16638007101601813'\n",
    "# 'd1d8bd698103401896f66634174e24a9-16638007444391327'\n",
    "# '7eb90f676f724ed69a7c8e17f19c59bd-16638007534727366'"
   ]
  },
  {
   "cell_type": "code",
   "execution_count": 9,
   "metadata": {},
   "outputs": [],
   "source": [
    "job_ids = [\n",
    "    '7364c64cb08643c8b7a331db8760be76-16638006144369087',\n",
    "'a317d2f4d40e4138a90e3d867f81aead-16638008680736837',\n",
    "'5561e4224aee40b3b5b4589851fa1ade-16638008773492372',\n",
    "'798207b0a1b44a32b79cc4dc3ee95aec-16638008859225643',\n",
    "'f548a504154e412c8b8def1e60e8e5a7-16638008944027708'\n",
    "]"
   ]
  },
  {
   "cell_type": "code",
   "execution_count": 10,
   "metadata": {},
   "outputs": [
    {
     "name": "stdout",
     "output_type": "stream",
     "text": [
      "[<JobStatus.DONE: 'job has successfully run'>, <JobStatus.DONE: 'job has successfully run'>, <JobStatus.DONE: 'job has successfully run'>, <JobStatus.DONE: 'job has successfully run'>]\n",
      "[<JobStatus.DONE: 'job has successfully run'>, <JobStatus.DONE: 'job has successfully run'>, <JobStatus.DONE: 'job has successfully run'>, <JobStatus.DONE: 'job has successfully run'>]\n",
      "[<JobStatus.DONE: 'job has successfully run'>, <JobStatus.DONE: 'job has successfully run'>, <JobStatus.DONE: 'job has successfully run'>, <JobStatus.DONE: 'job has successfully run'>]\n",
      "[<JobStatus.DONE: 'job has successfully run'>, <JobStatus.DONE: 'job has successfully run'>, <JobStatus.DONE: 'job has successfully run'>, <JobStatus.DONE: 'job has successfully run'>]\n",
      "[<JobStatus.DONE: 'job has successfully run'>, <JobStatus.DONE: 'job has successfully run'>, <JobStatus.DONE: 'job has successfully run'>, <JobStatus.DONE: 'job has successfully run'>]\n"
     ]
    }
   ],
   "source": [
    "for job_str in job_ids:\n",
    "    job = job_manager.retrieve_job_set( job_str, provider )\n",
    "    print( job.statuses() )"
   ]
  },
  {
   "cell_type": "code",
   "execution_count": 11,
   "metadata": {},
   "outputs": [
    {
     "ename": "TypeError",
     "evalue": "cannot unpack non-iterable Results object",
     "output_type": "error",
     "traceback": [
      "\u001b[1;31m---------------------------------------------------------------------------\u001b[0m",
      "\u001b[1;31mTypeError\u001b[0m                                 Traceback (most recent call last)",
      "\u001b[1;32m~\\AppData\\Local\\Temp/ipykernel_29284/2272301863.py\u001b[0m in \u001b[0;36m<module>\u001b[1;34m\u001b[0m\n\u001b[0;32m      5\u001b[0m     \u001b[0mjob\u001b[0m \u001b[1;33m=\u001b[0m \u001b[0mjob_manager\u001b[0m\u001b[1;33m.\u001b[0m\u001b[0mretrieve_job_set\u001b[0m\u001b[1;33m(\u001b[0m \u001b[0mjob_str\u001b[0m\u001b[1;33m,\u001b[0m \u001b[0mprovider\u001b[0m \u001b[1;33m)\u001b[0m\u001b[1;33m\u001b[0m\u001b[1;33m\u001b[0m\u001b[0m\n\u001b[0;32m      6\u001b[0m     \u001b[0mresults\u001b[0m \u001b[1;33m=\u001b[0m \u001b[0mjob\u001b[0m\u001b[1;33m.\u001b[0m\u001b[0mresults\u001b[0m\u001b[1;33m(\u001b[0m\u001b[1;33m)\u001b[0m\u001b[1;33m.\u001b[0m\u001b[0mcombine_results\u001b[0m\u001b[1;33m(\u001b[0m\u001b[1;33m)\u001b[0m\u001b[1;33m\u001b[0m\u001b[1;33m\u001b[0m\u001b[0m\n\u001b[1;32m----> 7\u001b[1;33m     \u001b[0mchoi_single\u001b[0m\u001b[1;33m,\u001b[0m \u001b[0mchoi_double\u001b[0m\u001b[1;33m,\u001b[0m \u001b[0mgateset\u001b[0m  \u001b[1;33m=\u001b[0m \u001b[0mqndmt\u001b[0m\u001b[1;33m.\u001b[0m\u001b[0mfit\u001b[0m\u001b[1;33m(\u001b[0m \u001b[0mresults\u001b[0m\u001b[1;33m,\u001b[0m \u001b[0mparalell\u001b[0m\u001b[1;33m=\u001b[0m\u001b[1;32mTrue\u001b[0m\u001b[1;33m,\u001b[0m \u001b[0mgate_set\u001b[0m\u001b[1;33m=\u001b[0m\u001b[1;32mTrue\u001b[0m \u001b[1;33m)\u001b[0m\u001b[1;33m\u001b[0m\u001b[1;33m\u001b[0m\u001b[0m\n\u001b[0m\u001b[0;32m      8\u001b[0m     \u001b[0mchois_single\u001b[0m\u001b[1;33m.\u001b[0m\u001b[0mappend\u001b[0m\u001b[1;33m(\u001b[0m \u001b[0mchoi_single\u001b[0m \u001b[1;33m)\u001b[0m\u001b[1;33m\u001b[0m\u001b[1;33m\u001b[0m\u001b[0m\n\u001b[0;32m      9\u001b[0m     \u001b[0mchois_double\u001b[0m\u001b[1;33m.\u001b[0m\u001b[0mappend\u001b[0m\u001b[1;33m(\u001b[0m \u001b[0mchoi_double\u001b[0m \u001b[1;33m)\u001b[0m\u001b[1;33m\u001b[0m\u001b[1;33m\u001b[0m\u001b[0m\n",
      "\u001b[1;31mTypeError\u001b[0m: cannot unpack non-iterable Results object"
     ]
    }
   ],
   "source": [
    "chois_single = []\n",
    "chois_double = []\n",
    "\n",
    "for job_str in job_ids:\n",
    "    job = job_manager.retrieve_job_set( job_str, provider )\n",
    "    results = job.results().combine_results()\n",
    "    choi_single, choi_double, gateset  = qndmt.fit( results, paralell=True, gate_set=True ) \n",
    "    chois_single.append( choi_single )\n",
    "    chois_double.append( choi_double )"
   ]
  },
  {
   "cell_type": "code",
   "execution_count": null,
   "metadata": {},
   "outputs": [],
   "source": [
    "# results = job.results().combine_results()"
   ]
  },
  {
   "cell_type": "code",
   "execution_count": null,
   "metadata": {},
   "outputs": [],
   "source": [
    "# job = simulator.run( circuits_qndmt, noise_model=noise_model, shots=2**13  )\n",
    "# results = job.result()"
   ]
  },
  {
   "cell_type": "code",
   "execution_count": null,
   "metadata": {},
   "outputs": [
    {
     "data": {
      "text/plain": [
       "array([[0.95759464, 0.91089258, 0.95011478],\n",
       "       [0.96520985, 0.9480235 , 0.96524885],\n",
       "       [0.96492596, 0.92079171, 0.95414593],\n",
       "       [0.96617084, 0.94894539, 0.96559999]])"
      ]
     },
     "execution_count": 34,
     "metadata": {},
     "output_type": "execute_result"
    }
   ],
   "source": [
    "np.mean( quantities_2_mc, 0 )"
   ]
  },
  {
   "cell_type": "code",
   "execution_count": null,
   "metadata": {},
   "outputs": [
    {
     "data": {
      "text/plain": [
       "<matplotlib.legend.Legend at 0x271c6e66dc0>"
      ]
     },
     "execution_count": 36,
     "metadata": {},
     "output_type": "execute_result"
    },
    {
     "data": {
      "image/png": "[encoded data removed]",
      "text/plain": [
       "<Figure size 432x288 with 1 Axes>"
      ]
     },
     "metadata": {
      "needs_background": "light"
     },
     "output_type": "display_data"
    }
   ],
   "source": [
    "for j in range(3):\n",
    "    plt.errorbar( [0,1,2,3], np.mean( quantities_2_mc, 0 )[:,j], yerr=np.std( quantities_2_mc, axis=0 )[:,j], capsize=5 )\n",
    "plt.xticks( [0,1,2,3], labels=[ '(0,1)p', '(3,5)p', '(0,1)i', '(3,5)i'  ]   )\n",
    "plt.grid()\n",
    "plt.legend( ['F','Q', 'D'] )"
   ]
  },
  {
   "cell_type": "code",
   "execution_count": null,
   "metadata": {},
   "outputs": [
    {
     "data": {
      "image/png": "[encoded data removed]",
      "text/plain": [
       "<Figure size 432x288 with 1 Axes>"
      ]
     },
     "metadata": {
      "needs_background": "light"
     },
     "output_type": "display_data"
    }
   ],
   "source": [
    "\n",
    "for j in range(2):\n",
    "    plt.errorbar( [0,1,2,3], np.mean( cros_quantities_mc, 0 )[:,j], yerr=np.std( cros_quantities_mc, axis=0 )[:,j], capsize=5 )\n",
    "plt.xticks( [0,1,2,3], labels=[ '(0,1)p', '(3,5)p', '(0,1)i', '(3,5)i'  ]   )\n",
    "plt.legend( ['cF','cQ'] )\n",
    "plt.grid()"
   ]
  },
  {
   "cell_type": "code",
   "execution_count": 5,
   "metadata": {},
   "outputs": [
    {
     "data": {
      "text/plain": [
       "<JobStatus.ERROR: 'job incurred error'>"
      ]
     },
     "execution_count": 5,
     "metadata": {},
     "output_type": "execute_result"
    }
   ],
   "source": [
    "failed_job = backend.retrieve_job('635f0e7533259661b22f575d')\n",
    "failed_job.status()"
   ]
  },
  {
   "cell_type": "code",
   "execution_count": 6,
   "metadata": {},
   "outputs": [
    {
     "name": "stderr",
     "output_type": "stream",
     "text": [
      "C:\\Users\\lucia\\AppData\\Local\\Temp/ipykernel_6136/3066534036.py:1: DeprecationWarning: The ``IBMQJob.qobj()`` method is deprecated and will be removed in a future release. You can now pass circuits to ``IBMQBackend.run()`` and use ``IBMQJob.circuits()``, ``IBMQJob.backend_options()``, and ``IBMQJob.header()`` to retrieve circuits, run configuration, and Qobj header, respectively.\n",
      "  qobj = failed_job.qobj()\n",
      "C:\\Users\\lucia\\AppData\\Local\\Temp/ipykernel_6136/3066534036.py:2: DeprecationWarning: Passing a Qobj to Backend.run is deprecated and will be removed in a future release. Please pass in circuits or pulse schedules instead.\n",
      "  backend.run(qobj, job_name=failed_job.name(), job_tags=failed_job.tags())\n"
     ]
    },
    {
     "data": {
      "text/plain": [
       "<qiskit.providers.ibmq.job.ibmqjob.IBMQJob at 0x18e3c0ef040>"
      ]
     },
     "execution_count": 6,
     "metadata": {},
     "output_type": "execute_result"
    }
   ],
   "source": [
    "qobj = failed_job.qobj()\n",
    "backend.run(qobj, job_name=failed_job.name(), job_tags=failed_job.tags())"
   ]
  },
  {
   "cell_type": "code",
   "execution_count": null,
   "metadata": {},
   "outputs": [],
   "source": []
  }
 ],
 "metadata": {
  "kernelspec": {
   "display_name": "Python 3.9.5 ('base')",
   "language": "python",
   "name": "python3"
  },
  "language_info": {
   "codemirror_mode": {
    "name": "ipython",
    "version": 3
   },
   "file_extension": ".py",
   "mimetype": "text/x-python",
   "name": "python",
   "nbconvert_exporter": "python",
   "pygments_lexer": "ipython3",
   "version": "3.9.5"
  },
  "orig_nbformat": 4,
  "vscode": {
   "interpreter": {
    "hash": "cda8d9f3af62c123a40166c789fd00a9f9e68094ffd9b43f4f632544febced4e"
   }
  }
 },
 "nbformat": 4,
 "nbformat_minor": 2
}
