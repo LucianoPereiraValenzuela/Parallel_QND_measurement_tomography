{
 "cells": [
  {
   "cell_type": "code",
   "execution_count": 7,
   "metadata": {},
   "outputs": [],
   "source": [
    "import sys \n",
    "sys.path.append('../../')  \n",
    "from main import device_process_measurement_tomography, Quantities, Cross_Quantities\n",
    "import QuantumTomography as qt \n",
    "import matplotlib.pyplot as plt \n",
    "import numpy as np \n",
    "from qiskit import QuantumCircuit, Aer, IBMQ \n",
    "from qiskit.compiler import transpile \n",
    "import json \n",
    "from qiskit.result import Result \n",
    "from qiskit.test.mock import FakeCasablanca  \n",
    "from utils_qiskit import * \n",
    "from joblib import Parallel, delayed\n",
    "import uuid\n",
    "\n"
   ]
  },
  {
   "cell_type": "code",
   "execution_count": 3,
   "metadata": {},
   "outputs": [
    {
     "name": "stderr",
     "output_type": "stream",
     "text": [
      "ibmqfactory.load_account:WARNING:2022-10-14 16:11:29,340: Credentials are already in use. The existing account in the session will be replaced.\n"
     ]
    }
   ],
   "source": [
    "IBMQ.load_account()\n",
    "device = FakeCasablanca()"
   ]
  },
  {
   "cell_type": "code",
   "execution_count": 4,
   "metadata": {},
   "outputs": [],
   "source": [
    "jobs = ['data/618b14fdeb64113dd7bb6080-output.json',\n",
    "        'data/618b15007cdad6feb7ec066e-output.json',\n",
    "        'data/618b150282271e07df2b280b-output.json',\n",
    "        'data/618b15051452776ec0118c69-output.json']\n",
    "\n",
    "data = []\n",
    "for job in jobs:\n",
    "    with open(job, 'r') as f:\n",
    "        data.append( dict2results( json.load(f) ) )\n",
    "\n",
    "results = CombineResults( data )\n",
    "del data"
   ]
  },
  {
   "cell_type": "code",
   "execution_count": 5,
   "metadata": {},
   "outputs": [],
   "source": [
    "dpmt = device_process_measurement_tomography( device)\n",
    "circuits_dpmt = dpmt.circuits(label_qubits=False )"
   ]
  },
  {
   "cell_type": "code",
   "execution_count": null,
   "metadata": {},
   "outputs": [],
   "source": [
    "def function():\n",
    "\n",
    "    results_tomography = dpmt.fit( results, paralell=True, gate_set=True, resampling=2**13 )         \n",
    "    results_single     = results_tomography.single                             \n",
    "    results_double     = results_tomography.double                            \n",
    "    results_gateset    = results_tomography.gateset   \n",
    "\n",
    "    quantities = []\n",
    "    pairs_qubits = []\n",
    "\n",
    "    for idx1 in range(3):\n",
    "        for idx2 in range(2):\n",
    "\n",
    "            qubit0 = dpmt._parall_qubits[idx1][idx2][0]\n",
    "            qubit1 = dpmt._parall_qubits[idx1][idx2][1]\n",
    "            pairs_qubits.append( '({},{})'.format(qubit0,qubit1) ) \n",
    "\n",
    "            choi0=results_single.chois[qubit0]\n",
    "            choi1=results_single.chois[qubit1]\n",
    "            povm0=results_single.povms[qubit0]\n",
    "            povm1=results_single.povms[qubit1]\n",
    "\n",
    "            choi01=results_double[idx1].chois[idx2]\n",
    "            povm01=results_double[idx1].povms[idx2]\n",
    "\n",
    "            Fs0 = Quantities( povm0, choi0 )\n",
    "            Fs1 = Quantities( povm1, choi1 )\n",
    "            Fs01 = Quantities( povm01, choi01 )\n",
    "            Cs  = Cross_Quantities( povm0, choi0, povm1, choi1, povm01, choi01 )\n",
    "\n",
    "            quantities.append( Cs )\n",
    "        \n",
    "    return quantities"
   ]
  },
  {
   "cell_type": "code",
   "execution_count": null,
   "metadata": {},
   "outputs": [],
   "source": [
    "results_mc = Parallel(n_jobs=-1)( delayed(function)() for _ in range(1000) )"
   ]
  },
  {
   "cell_type": "code",
   "execution_count": null,
   "metadata": {},
   "outputs": [],
   "source": [
    "np.save( 'results_mc_'+str( uuid.uuid4() ), np.array( results_mc) )"
   ]
  },
  {
   "cell_type": "code",
   "execution_count": null,
   "metadata": {},
   "outputs": [],
   "source": []
  },
  {
   "cell_type": "code",
   "execution_count": null,
   "metadata": {},
   "outputs": [],
   "source": []
  },
  {
   "cell_type": "code",
   "execution_count": null,
   "metadata": {},
   "outputs": [],
   "source": []
  },
  {
   "cell_type": "code",
   "execution_count": null,
   "metadata": {},
   "outputs": [],
   "source": []
  }
 ],
 "metadata": {
  "kernelspec": {
   "display_name": "Python 3.9.5 ('base')",
   "language": "python",
   "name": "python3"
  },
  "language_info": {
   "codemirror_mode": {
    "name": "ipython",
    "version": 3
   },
   "file_extension": ".py",
   "mimetype": "text/x-python",
   "name": "python",
   "nbconvert_exporter": "python",
   "pygments_lexer": "ipython3",
   "version": "3.9.5"
  },
  "orig_nbformat": 4,
  "vscode": {
   "interpreter": {
    "hash": "cda8d9f3af62c123a40166c789fd00a9f9e68094ffd9b43f4f632544febced4e"
   }
  }
 },
 "nbformat": 4,
 "nbformat_minor": 2
}
