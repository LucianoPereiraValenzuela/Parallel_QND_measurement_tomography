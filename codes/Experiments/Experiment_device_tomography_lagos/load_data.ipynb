{
 "cells": [
  {
   "cell_type": "code",
   "execution_count": 5,
   "metadata": {},
   "outputs": [],
   "source": [
    "import sys \n",
    "sys.path.append('../../')  \n",
    "from main import device_process_measurement_tomography, Quantities, Cross_Quantities\n",
    "import QuantumTomography as qt \n",
    "import matplotlib.pyplot as plt \n",
    "import numpy as np \n",
    "from qiskit import QuantumCircuit, Aer, IBMQ \n",
    "from qiskit.compiler import transpile \n",
    "from qiskit.providers.ibmq.managed import IBMQJobManager\n",
    "import json \n",
    "from utils_qiskit import * "
   ]
  },
  {
   "cell_type": "code",
   "execution_count": 6,
   "metadata": {},
   "outputs": [
    {
     "name": "stderr",
     "output_type": "stream",
     "text": [
      "ibmqfactory.load_account:WARNING:2022-10-05 01:44:13,693: Credentials are already in use. The existing account in the session will be replaced.\n"
     ]
    }
   ],
   "source": [
    "IBMQ.load_account()\n",
    "provider    = IBMQ.get_provider(hub='ibm-q-research-2', group='csic-1', project='main')\n",
    "backend     = provider.get_backend('ibm_lagos')\n",
    "job_manager = IBMQJobManager() "
   ]
  },
  {
   "cell_type": "code",
   "execution_count": null,
   "metadata": {},
   "outputs": [],
   "source": [
    "job_id = '74e49bcd03244a4bbfa3d657feec56b0-16647936148074028'\n",
    "job = job_manager.retrieve_job_set( job_id, provider )  "
   ]
  },
  {
   "cell_type": "code",
   "execution_count": 3,
   "metadata": {},
   "outputs": [],
   "source": [
    "jobs = ['data/618b14fdeb64113dd7bb6080-output.json',\n",
    "        'data/618b15007cdad6feb7ec066e-output.json',\n",
    "        'data/618b150282271e07df2b280b-output.json',\n",
    "        'data/618b15051452776ec0118c69-output.json']\n",
    "\n",
    "data = []\n",
    "for job in jobs:\n",
    "    with open(job, 'r') as f:\n",
    "        data.append( dict2results( json.load(f) ) )\n",
    "\n",
    "results = CombineResults( data )\n",
    "del data"
   ]
  },
  {
   "cell_type": "code",
   "execution_count": 4,
   "metadata": {},
   "outputs": [],
   "source": [
    "dpmt = device_process_measurement_tomography( device, label_qubits=False )\n",
    "circuits_dpmt = dpmt.circuits()"
   ]
  },
  {
   "cell_type": "code",
   "execution_count": 5,
   "metadata": {},
   "outputs": [
    {
     "data": {
      "text/plain": [
       "[[(1, 3), (4, 5)], [(3, 5), (0, 1)], [(1, 2), (5, 6)]]"
      ]
     },
     "execution_count": 5,
     "metadata": {},
     "output_type": "execute_result"
    }
   ],
   "source": [
    "dpmt._parall_qubits"
   ]
  },
  {
   "cell_type": "code",
   "execution_count": 6,
   "metadata": {},
   "outputs": [
    {
     "data": {
      "text/plain": [
       "('circuit_gate_set_7_0', 'circuit_mpt_1_7_0_0', 'circuit-450')"
      ]
     },
     "execution_count": 6,
     "metadata": {},
     "output_type": "execute_result"
    }
   ],
   "source": [
    "circuits_dpmt[0].name, circuits_dpmt[64].name, circuits_dpmt[82].name  "
   ]
  },
  {
   "cell_type": "code",
   "execution_count": 7,
   "metadata": {},
   "outputs": [],
   "source": [
    "results_tomography = dpmt.fit( results, paralell=True, gate_set=True )         \n",
    "results_single     = results_tomography.single                             \n",
    "results_double     = results_tomography.double                            \n",
    "results_gateset    = results_tomography.gateset                            "
   ]
  },
  {
   "cell_type": "code",
   "execution_count": 8,
   "metadata": {},
   "outputs": [],
   "source": [
    "choi0=results_single.chois[0]\n",
    "choi1=results_single.chois[1]\n",
    "povm0=results_single.povms[0]\n",
    "povm1=results_single.povms[1]"
   ]
  },
  {
   "cell_type": "code",
   "execution_count": 9,
   "metadata": {},
   "outputs": [],
   "source": [
    "choi01=results_double[1].chois[1]\n",
    "povm01=results_double[1].povms[1]\n"
   ]
  },
  {
   "cell_type": "code",
   "execution_count": 10,
   "metadata": {},
   "outputs": [],
   "source": [
    "Fs0 = Quantities( povm0, choi0 )\n",
    "Fs1 = Quantities( povm1, choi1 )\n",
    "Fs01 = Quantities( povm01, choi01 )"
   ]
  },
  {
   "cell_type": "code",
   "execution_count": 11,
   "metadata": {},
   "outputs": [],
   "source": [
    "F0 = Fs0[0]\n",
    "F1 = Fs1[0]\n",
    "F01 = Fs01[0]\n",
    "cF = abs( F01 -F0*F1 ) / abs(F0*F1)\n"
   ]
  },
  {
   "cell_type": "code",
   "execution_count": 12,
   "metadata": {},
   "outputs": [],
   "source": [
    "Q0 = Fs0[1]\n",
    "Q1 = Fs1[1]\n",
    "Q01 = Fs01[1]\n",
    "cQ = abs( Q01 -Q0*Q1 ) / abs(Q0*Q1)"
   ]
  },
  {
   "cell_type": "code",
   "execution_count": 13,
   "metadata": {},
   "outputs": [
    {
     "data": {
      "text/plain": [
       "(0.00029939161514740755, 0.005319600559329406)"
      ]
     },
     "execution_count": 13,
     "metadata": {},
     "output_type": "execute_result"
    }
   ],
   "source": [
    "cF, cQ"
   ]
  },
  {
   "cell_type": "code",
   "execution_count": 14,
   "metadata": {},
   "outputs": [
    {
     "data": {
      "text/plain": [
       "(0.014584476248836032, 0.04793470404829055)"
      ]
     },
     "execution_count": 14,
     "metadata": {},
     "output_type": "execute_result"
    }
   ],
   "source": [
    "Cross_Quantities( povm0, choi0, povm1, choi1, povm01, choi01 )"
   ]
  },
  {
   "cell_type": "code",
   "execution_count": 48,
   "metadata": {},
   "outputs": [],
   "source": [
    "# psi = np.array([1,1])/np.sqrt(2)\n",
    "psi = np.array([1,0])\n",
    "psi01 = np.kron( psi, psi )\n",
    "rho01 = np.outer( psi01, psi01.conj())\n",
    "rhov01 = rho01.flatten()"
   ]
  },
  {
   "cell_type": "code",
   "execution_count": 66,
   "metadata": {},
   "outputs": [
    {
     "name": "stdout",
     "output_type": "stream",
     "text": [
      "(0.9781869031567408+0j)\n"
     ]
    }
   ],
   "source": [
    "rhov01_0 = choi01[0]@rhov01  \n",
    "rho01_0 = rhov01_0.reshape(4,4) \n",
    "print( np.trace( rho01_0 ) ) \n",
    "rho01_0 = rho01_0 / np.trace( rho01_0 ) \n"
   ]
  },
  {
   "cell_type": "code",
   "execution_count": 67,
   "metadata": {},
   "outputs": [
    {
     "data": {
      "text/plain": [
       "(0.9531887816444392+0j)"
      ]
     },
     "execution_count": 67,
     "metadata": {},
     "output_type": "execute_result"
    }
   ],
   "source": [
    "from QuantumTomography import PartialTrace \n",
    "rhor0 = PartialTrace( rho01_0, [2,2], 1 )\n",
    "np.trace( rhor0@rhor0 ) # 1 separable, 0.5 entrelazado"
   ]
  },
  {
   "cell_type": "code",
   "execution_count": 53,
   "metadata": {},
   "outputs": [
    {
     "data": {
      "image/png": "[encoded data removed]",
      "text/plain": [
       "<Figure size 432x288 with 1 Axes>"
      ]
     },
     "metadata": {
      "needs_background": "light"
     },
     "output_type": "display_data"
    }
   ],
   "source": [
    "DeltaL = 2**13*( np.sum(np.array(results_single.entropies)[:,1:],1) \n",
    "                - np.sum(np.array(results_single.funs)[:,1:],1) )\n",
    "DeltaN = 4  \n",
    "lambda_4 = abs( 2*DeltaL-DeltaN )/np.sqrt( 2*DeltaN )  \n",
    "DeltaN = 1\n",
    "lambda_1 = abs( 2*DeltaL-DeltaN )/np.sqrt( 2*DeltaN ) \n",
    "\n",
    "plt.plot( range(7), lambda_1, '--o',label='$k$=1')\n",
    "plt.plot( range(7), lambda_4, '--o',label='$k$=4')\n",
    "plt.hlines( 1, -0.1, 6.1, color='black', linestyles='dashed', label='$\\lambda=1$'  )\n",
    "plt.legend()\n",
    "plt.xlabel('qubit')\n",
    "plt.ylabel('$\\lambda$')\n",
    "plt.savefig('goodness_of_fit_1q.png')"
   ]
  },
  {
   "cell_type": "code",
   "execution_count": null,
   "metadata": {},
   "outputs": [
    {
     "data": {
      "image/png": "[encoded data removed]",
      "text/plain": [
       "<Figure size 432x288 with 1 Axes>"
      ]
     },
     "metadata": {
      "needs_background": "light"
     },
     "output_type": "display_data"
    }
   ],
   "source": [
    "DeltaL = np.abs([ 2**13*( np.sum(np.array(results_double[k].entropies)[:,1:],1) \n",
    "                - np.sum(np.array(results_double[k].funs)[:,1:],1) ) for k in range(3) ])\n",
    "DeltaN = 12\n",
    "lambda_12 = ( abs( 2*DeltaL-DeltaN )/np.sqrt( 2*DeltaN ) ).flatten()\n",
    "DeltaN = 1\n",
    "lambda_1 = ( abs( 2*DeltaL-DeltaN )/np.sqrt( 2*DeltaN ) ).flatten()\n",
    "DeltaN = 8\n",
    "lambda_8 = ( abs( 2*DeltaL-DeltaN )/np.sqrt( 2*DeltaN ) ).flatten()\n",
    "\n",
    "Idx = [3,4,0,2,1,5]\n",
    "plt.plot( range(6), lambda_1[Idx], '--o',label='$k$=1')\n",
    "plt.plot( range(6), lambda_8[Idx], '--o',label='$k$=8')\n",
    "plt.plot( range(6), lambda_12[Idx], '--o',label='$k$=12')\n",
    "plt.hlines( 5, -0.1, 5.1, color='black', linestyles='dashed', label='$\\lambda=5$'  )\n",
    "plt.xticks( range(6), labels=[ '(0,1)', '(1,2)', '(1,3)', '(3,5)', '(4,5)', '(5,6)' ] )\n",
    "plt.legend()\n",
    "plt.xlabel('pair of qubits')\n",
    "plt.ylabel('$\\lambda$')\n",
    "plt.savefig('goodness_of_fit_2q.png')"
   ]
  },
  {
   "cell_type": "code",
   "execution_count": null,
   "metadata": {},
   "outputs": [
    {
     "data": {
      "text/plain": [
       "array([[128.27037753, -72.79787378],\n",
       "       [ 49.24302847,  10.84477453],\n",
       "       [  3.17367476, -12.09393095]])"
      ]
     },
     "execution_count": 12,
     "metadata": {},
     "output_type": "execute_result"
    }
   ],
   "source": [
    "DeltaL = np.array([ 2**13*( np.sum(np.array(results_double[k].entropies)[:,1:],1) \n",
    "                - np.sum(np.array(results_double[k].funs)[:,1:],1) ) for k in range(3) ])\n",
    "DeltaL"
   ]
  },
  {
   "cell_type": "code",
   "execution_count": null,
   "metadata": {},
   "outputs": [],
   "source": []
  }
 ],
 "metadata": {
  "kernelspec": {
   "display_name": "Python 3.9.5 ('base')",
   "language": "python",
   "name": "python3"
  },
  "language_info": {
   "codemirror_mode": {
    "name": "ipython",
    "version": 3
   },
   "file_extension": ".py",
   "mimetype": "text/x-python",
   "name": "python",
   "nbconvert_exporter": "python",
   "pygments_lexer": "ipython3",
   "version": "3.9.5"
  },
  "orig_nbformat": 4,
  "vscode": {
   "interpreter": {
    "hash": "cda8d9f3af62c123a40166c789fd00a9f9e68094ffd9b43f4f632544febced4e"
   }
  }
 },
 "nbformat": 4,
 "nbformat_minor": 2
}
